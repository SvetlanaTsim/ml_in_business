{
  "nbformat": 4,
  "nbformat_minor": 0,
  "metadata": {
    "colab": {
      "provenance": [],
      "authorship_tag": "ABX9TyO6G3eVbBpjKdnjgoVE3SJl",
      "include_colab_link": true
    },
    "kernelspec": {
      "name": "python3",
      "display_name": "Python 3"
    },
    "language_info": {
      "name": "python"
    }
  },
  "cells": [
    {
      "cell_type": "markdown",
      "metadata": {
        "id": "view-in-github",
        "colab_type": "text"
      },
      "source": [
        "<a href=\"https://colab.research.google.com/github/SvetlanaTsim/ml_in_business/blob/main/lesson_03/HW3.ipynb\" target=\"_parent\"><img src=\"https://colab.research.google.com/assets/colab-badge.svg\" alt=\"Open In Colab\"/></a>"
      ]
    },
    {
      "cell_type": "markdown",
      "source": [
        "### Урок3. Связь бизнес-показателей и DS-метрик"
      ],
      "metadata": {
        "id": "xYlRODeRIZ3z"
      }
    },
    {
      "cell_type": "markdown",
      "source": [
        "### Домашнее задание"
      ],
      "metadata": {
        "id": "yyoYVqDEIg1g"
      }
    },
    {
      "cell_type": "markdown",
      "source": [
        "1. обучить несколько разных моделей на наборе данных ССЗ (train_case2.csv): логрег, бустинг, лес и т.д - на ваш выбор 2-3 варианта\n",
        "2. при обучении моделей обязательно использовать кроссвалидацию\n",
        "3. вывести сравнение полученных моделей по основным метрикам классификации: pr/rec/auc/f_score (можно в виде таблицы, где строки - модели, а столбцы - метрики)\n",
        "4. сделать выводы о том, какая модель справилась с задачей лучше других\n",
        "5. (опциональный вопрос) какая метрика (precision_recall_curve или roc_auc_curve) больше подходит в случае сильного дисбаланса классов? (когда объектов одного из классов намного больше чем другого). \n",
        "\n",
        "p.s.В вопросе проще разобраться, если вспомнить оси на графике roc auc curve и рассмотреть такой пример:\n",
        "\n",
        "Имеется 100000 объектов, из которых только 100 - класс \"1\" (99900 - класс \"0\", соответственно). \n",
        "Допустим, у нас две модели:\n",
        "\n",
        "- первая помечает 100 объектов как класс 1, но TP = 90\n",
        "- вторая помечает 1000 объектов как класс 1, но TP такой же - 90\n",
        "\n",
        "Какая модель лучше и почему? И что позволяет легче сделать вывод - roc_auc_curve или precision_recall_curve?"
      ],
      "metadata": {
        "id": "TSsD9R_uIiN3"
      }
    },
    {
      "cell_type": "code",
      "source": [
        "import pandas as pd\n",
        "import matplotlib.pyplot as plt\n",
        "import seaborn as sns\n",
        "import numpy as np\n",
        "from sklearn.metrics import precision_recall_curve, roc_curve, roc_auc_score, confusion_matrix\n",
        "from sklearn.model_selection import cross_val_score, train_test_split\n",
        "from sklearn.feature_extraction.text import TfidfVectorizer\n",
        "from sklearn.linear_model import LogisticRegression\n",
        "from scipy.sparse import hstack\n",
        "from sklearn.pipeline import Pipeline, make_pipeline\n",
        "from sklearn.base import BaseEstimator, TransformerMixin\n",
        "import itertools"
      ],
      "metadata": {
        "id": "F5qLCLgZI3Uf"
      },
      "execution_count": 23,
      "outputs": []
    },
    {
      "cell_type": "code",
      "source": [
        "#загрузим данные\n",
        "\n",
        "!wget 'https://drive.google.com/uc?export=download&id=1Si4EJ_RexI3Q7yZU8eLjgp4ORe_BXr4G' -O train_case2.csv"
      ],
      "metadata": {
        "colab": {
          "base_uri": "https://localhost:8080/"
        },
        "id": "UkGScRf1JV8F",
        "outputId": "1fdd26b3-1619-40c6-cf6e-69b1fc4a6371"
      },
      "execution_count": 11,
      "outputs": [
        {
          "output_type": "stream",
          "name": "stdout",
          "text": [
            "--2022-12-20 13:22:16--  https://drive.google.com/uc?export=download&id=1Si4EJ_RexI3Q7yZU8eLjgp4ORe_BXr4G\n",
            "Resolving drive.google.com (drive.google.com)... 108.177.12.113, 108.177.12.139, 108.177.12.138, ...\n",
            "Connecting to drive.google.com (drive.google.com)|108.177.12.113|:443... connected.\n",
            "HTTP request sent, awaiting response... 303 See Other\n",
            "Location: https://doc-00-c0-docs.googleusercontent.com/docs/securesc/ha0ro937gcuc7l7deffksulhg5h7mbp1/llepl438t3ehhqmj67jipcrtcmqth8rk/1671542475000/14904333240138417226/*/1Si4EJ_RexI3Q7yZU8eLjgp4ORe_BXr4G?e=download&uuid=a4952599-87f6-485e-b2a2-6aeb2a63892e [following]\n",
            "Warning: wildcards not supported in HTTP.\n",
            "--2022-12-20 13:22:16--  https://doc-00-c0-docs.googleusercontent.com/docs/securesc/ha0ro937gcuc7l7deffksulhg5h7mbp1/llepl438t3ehhqmj67jipcrtcmqth8rk/1671542475000/14904333240138417226/*/1Si4EJ_RexI3Q7yZU8eLjgp4ORe_BXr4G?e=download&uuid=a4952599-87f6-485e-b2a2-6aeb2a63892e\n",
            "Resolving doc-00-c0-docs.googleusercontent.com (doc-00-c0-docs.googleusercontent.com)... 108.177.12.132, 2607:f8b0:400c:c08::84\n",
            "Connecting to doc-00-c0-docs.googleusercontent.com (doc-00-c0-docs.googleusercontent.com)|108.177.12.132|:443... connected.\n",
            "HTTP request sent, awaiting response... 200 OK\n",
            "Length: 2941524 (2.8M) [text/csv]\n",
            "Saving to: ‘train_case2.csv’\n",
            "\n",
            "train_case2.csv     100%[===================>]   2.80M  --.-KB/s    in 0.02s   \n",
            "\n",
            "2022-12-20 13:22:17 (164 MB/s) - ‘train_case2.csv’ saved [2941524/2941524]\n",
            "\n"
          ]
        }
      ]
    },
    {
      "cell_type": "code",
      "source": [
        "df = pd.read_csv('train_case2.csv', ';')\n",
        "\n",
        "df.head(3)"
      ],
      "metadata": {
        "colab": {
          "base_uri": "https://localhost:8080/",
          "height": 200
        },
        "id": "29gOCOUOJe6E",
        "outputId": "38ddabfc-32f3-4d6a-c4a5-b278dc2b25b1"
      },
      "execution_count": 12,
      "outputs": [
        {
          "output_type": "stream",
          "name": "stderr",
          "text": [
            "/usr/local/lib/python3.8/dist-packages/IPython/core/interactiveshell.py:3326: FutureWarning: In a future version of pandas all arguments of read_csv except for the argument 'filepath_or_buffer' will be keyword-only\n",
            "  exec(code_obj, self.user_global_ns, self.user_ns)\n"
          ]
        },
        {
          "output_type": "execute_result",
          "data": {
            "text/plain": [
              "   id    age  gender  height  weight  ap_hi  ap_lo  cholesterol  gluc  smoke  \\\n",
              "0   0  18393       2     168    62.0    110     80            1     1      0   \n",
              "1   1  20228       1     156    85.0    140     90            3     1      0   \n",
              "2   2  18857       1     165    64.0    130     70            3     1      0   \n",
              "\n",
              "   alco  active  cardio  \n",
              "0     0       1       0  \n",
              "1     0       1       1  \n",
              "2     0       0       1  "
            ],
            "text/html": [
              "\n",
              "  <div id=\"df-371f9bb2-788d-4638-8552-a0f2144fb217\">\n",
              "    <div class=\"colab-df-container\">\n",
              "      <div>\n",
              "<style scoped>\n",
              "    .dataframe tbody tr th:only-of-type {\n",
              "        vertical-align: middle;\n",
              "    }\n",
              "\n",
              "    .dataframe tbody tr th {\n",
              "        vertical-align: top;\n",
              "    }\n",
              "\n",
              "    .dataframe thead th {\n",
              "        text-align: right;\n",
              "    }\n",
              "</style>\n",
              "<table border=\"1\" class=\"dataframe\">\n",
              "  <thead>\n",
              "    <tr style=\"text-align: right;\">\n",
              "      <th></th>\n",
              "      <th>id</th>\n",
              "      <th>age</th>\n",
              "      <th>gender</th>\n",
              "      <th>height</th>\n",
              "      <th>weight</th>\n",
              "      <th>ap_hi</th>\n",
              "      <th>ap_lo</th>\n",
              "      <th>cholesterol</th>\n",
              "      <th>gluc</th>\n",
              "      <th>smoke</th>\n",
              "      <th>alco</th>\n",
              "      <th>active</th>\n",
              "      <th>cardio</th>\n",
              "    </tr>\n",
              "  </thead>\n",
              "  <tbody>\n",
              "    <tr>\n",
              "      <th>0</th>\n",
              "      <td>0</td>\n",
              "      <td>18393</td>\n",
              "      <td>2</td>\n",
              "      <td>168</td>\n",
              "      <td>62.0</td>\n",
              "      <td>110</td>\n",
              "      <td>80</td>\n",
              "      <td>1</td>\n",
              "      <td>1</td>\n",
              "      <td>0</td>\n",
              "      <td>0</td>\n",
              "      <td>1</td>\n",
              "      <td>0</td>\n",
              "    </tr>\n",
              "    <tr>\n",
              "      <th>1</th>\n",
              "      <td>1</td>\n",
              "      <td>20228</td>\n",
              "      <td>1</td>\n",
              "      <td>156</td>\n",
              "      <td>85.0</td>\n",
              "      <td>140</td>\n",
              "      <td>90</td>\n",
              "      <td>3</td>\n",
              "      <td>1</td>\n",
              "      <td>0</td>\n",
              "      <td>0</td>\n",
              "      <td>1</td>\n",
              "      <td>1</td>\n",
              "    </tr>\n",
              "    <tr>\n",
              "      <th>2</th>\n",
              "      <td>2</td>\n",
              "      <td>18857</td>\n",
              "      <td>1</td>\n",
              "      <td>165</td>\n",
              "      <td>64.0</td>\n",
              "      <td>130</td>\n",
              "      <td>70</td>\n",
              "      <td>3</td>\n",
              "      <td>1</td>\n",
              "      <td>0</td>\n",
              "      <td>0</td>\n",
              "      <td>0</td>\n",
              "      <td>1</td>\n",
              "    </tr>\n",
              "  </tbody>\n",
              "</table>\n",
              "</div>\n",
              "      <button class=\"colab-df-convert\" onclick=\"convertToInteractive('df-371f9bb2-788d-4638-8552-a0f2144fb217')\"\n",
              "              title=\"Convert this dataframe to an interactive table.\"\n",
              "              style=\"display:none;\">\n",
              "        \n",
              "  <svg xmlns=\"http://www.w3.org/2000/svg\" height=\"24px\"viewBox=\"0 0 24 24\"\n",
              "       width=\"24px\">\n",
              "    <path d=\"M0 0h24v24H0V0z\" fill=\"none\"/>\n",
              "    <path d=\"M18.56 5.44l.94 2.06.94-2.06 2.06-.94-2.06-.94-.94-2.06-.94 2.06-2.06.94zm-11 1L8.5 8.5l.94-2.06 2.06-.94-2.06-.94L8.5 2.5l-.94 2.06-2.06.94zm10 10l.94 2.06.94-2.06 2.06-.94-2.06-.94-.94-2.06-.94 2.06-2.06.94z\"/><path d=\"M17.41 7.96l-1.37-1.37c-.4-.4-.92-.59-1.43-.59-.52 0-1.04.2-1.43.59L10.3 9.45l-7.72 7.72c-.78.78-.78 2.05 0 2.83L4 21.41c.39.39.9.59 1.41.59.51 0 1.02-.2 1.41-.59l7.78-7.78 2.81-2.81c.8-.78.8-2.07 0-2.86zM5.41 20L4 18.59l7.72-7.72 1.47 1.35L5.41 20z\"/>\n",
              "  </svg>\n",
              "      </button>\n",
              "      \n",
              "  <style>\n",
              "    .colab-df-container {\n",
              "      display:flex;\n",
              "      flex-wrap:wrap;\n",
              "      gap: 12px;\n",
              "    }\n",
              "\n",
              "    .colab-df-convert {\n",
              "      background-color: #E8F0FE;\n",
              "      border: none;\n",
              "      border-radius: 50%;\n",
              "      cursor: pointer;\n",
              "      display: none;\n",
              "      fill: #1967D2;\n",
              "      height: 32px;\n",
              "      padding: 0 0 0 0;\n",
              "      width: 32px;\n",
              "    }\n",
              "\n",
              "    .colab-df-convert:hover {\n",
              "      background-color: #E2EBFA;\n",
              "      box-shadow: 0px 1px 2px rgba(60, 64, 67, 0.3), 0px 1px 3px 1px rgba(60, 64, 67, 0.15);\n",
              "      fill: #174EA6;\n",
              "    }\n",
              "\n",
              "    [theme=dark] .colab-df-convert {\n",
              "      background-color: #3B4455;\n",
              "      fill: #D2E3FC;\n",
              "    }\n",
              "\n",
              "    [theme=dark] .colab-df-convert:hover {\n",
              "      background-color: #434B5C;\n",
              "      box-shadow: 0px 1px 3px 1px rgba(0, 0, 0, 0.15);\n",
              "      filter: drop-shadow(0px 1px 2px rgba(0, 0, 0, 0.3));\n",
              "      fill: #FFFFFF;\n",
              "    }\n",
              "  </style>\n",
              "\n",
              "      <script>\n",
              "        const buttonEl =\n",
              "          document.querySelector('#df-371f9bb2-788d-4638-8552-a0f2144fb217 button.colab-df-convert');\n",
              "        buttonEl.style.display =\n",
              "          google.colab.kernel.accessAllowed ? 'block' : 'none';\n",
              "\n",
              "        async function convertToInteractive(key) {\n",
              "          const element = document.querySelector('#df-371f9bb2-788d-4638-8552-a0f2144fb217');\n",
              "          const dataTable =\n",
              "            await google.colab.kernel.invokeFunction('convertToInteractive',\n",
              "                                                     [key], {});\n",
              "          if (!dataTable) return;\n",
              "\n",
              "          const docLinkHtml = 'Like what you see? Visit the ' +\n",
              "            '<a target=\"_blank\" href=https://colab.research.google.com/notebooks/data_table.ipynb>data table notebook</a>'\n",
              "            + ' to learn more about interactive tables.';\n",
              "          element.innerHTML = '';\n",
              "          dataTable['output_type'] = 'display_data';\n",
              "          await google.colab.output.renderOutput(dataTable, element);\n",
              "          const docLink = document.createElement('div');\n",
              "          docLink.innerHTML = docLinkHtml;\n",
              "          element.appendChild(docLink);\n",
              "        }\n",
              "      </script>\n",
              "    </div>\n",
              "  </div>\n",
              "  "
            ]
          },
          "metadata": {},
          "execution_count": 12
        }
      ]
    },
    {
      "cell_type": "code",
      "source": [
        "#пропусков нет\n",
        "\n",
        "df.info()"
      ],
      "metadata": {
        "colab": {
          "base_uri": "https://localhost:8080/"
        },
        "id": "mwDkKkGOKY9g",
        "outputId": "76b81120-0460-4e90-af76-de9a3901f5b2"
      },
      "execution_count": 13,
      "outputs": [
        {
          "output_type": "stream",
          "name": "stdout",
          "text": [
            "<class 'pandas.core.frame.DataFrame'>\n",
            "RangeIndex: 70000 entries, 0 to 69999\n",
            "Data columns (total 13 columns):\n",
            " #   Column       Non-Null Count  Dtype  \n",
            "---  ------       --------------  -----  \n",
            " 0   id           70000 non-null  int64  \n",
            " 1   age          70000 non-null  int64  \n",
            " 2   gender       70000 non-null  int64  \n",
            " 3   height       70000 non-null  int64  \n",
            " 4   weight       70000 non-null  float64\n",
            " 5   ap_hi        70000 non-null  int64  \n",
            " 6   ap_lo        70000 non-null  int64  \n",
            " 7   cholesterol  70000 non-null  int64  \n",
            " 8   gluc         70000 non-null  int64  \n",
            " 9   smoke        70000 non-null  int64  \n",
            " 10  alco         70000 non-null  int64  \n",
            " 11  active       70000 non-null  int64  \n",
            " 12  cardio       70000 non-null  int64  \n",
            "dtypes: float64(1), int64(12)\n",
            "memory usage: 6.9 MB\n"
          ]
        }
      ]
    },
    {
      "cell_type": "code",
      "source": [
        "#разделим наши данные на тренировочную и тестовую выборки\n",
        "\n",
        "X_train, X_test, y_train, y_test = train_test_split(df.drop(columns='cardio'), \n",
        "                                                    df['cardio'], random_state=0)"
      ],
      "metadata": {
        "id": "n3ojPOpmJq5d"
      },
      "execution_count": 14,
      "outputs": []
    },
    {
      "cell_type": "markdown",
      "source": [
        "К полям:\n",
        "- gender, cholesterol применим OHE-кодирование\n",
        "- age, height, weight, ap_hi, ap_lo - standardScaler\n",
        "- gluc, smoke, alco, active - оставим пока как есть"
      ],
      "metadata": {
        "id": "FI3Mb_4LJ536"
      }
    },
    {
      "cell_type": "code",
      "source": [
        "class ColumnSelector(BaseEstimator, TransformerMixin):\n",
        "    \"\"\"\n",
        "    Transformer to select a single column from the data frame to perform additional transformations on\n",
        "    \"\"\"\n",
        "    def __init__(self, key):\n",
        "        self.key = key\n",
        "\n",
        "    def fit(self, X, y=None):\n",
        "        return self\n",
        "\n",
        "    def transform(self, X):\n",
        "        return X[self.key]\n",
        "    \n",
        "class NumberSelector(BaseEstimator, TransformerMixin):\n",
        "    \"\"\"\n",
        "    Transformer to select a single column from the data frame to perform additional transformations on\n",
        "    Use on numeric columns in the data\n",
        "    \"\"\"\n",
        "    def __init__(self, key):\n",
        "        self.key = key\n",
        "\n",
        "    def fit(self, X, y=None):\n",
        "        return self\n",
        "\n",
        "    def transform(self, X):\n",
        "        return X[[self.key]]\n",
        "    \n",
        "class OHEEncoder(BaseEstimator, TransformerMixin):\n",
        "    def __init__(self, key):\n",
        "        self.key = key\n",
        "        self.columns = []\n",
        "\n",
        "    def fit(self, X, y=None):\n",
        "        self.columns = [col for col in pd.get_dummies(X, prefix=self.key).columns]\n",
        "        return self\n",
        "\n",
        "    def transform(self, X):\n",
        "        X = pd.get_dummies(X, prefix=self.key)\n",
        "        test_columns = [col for col in X.columns]\n",
        "        for col_ in self.columns:\n",
        "            if col_ not in test_columns:\n",
        "                X[col_] = 0\n",
        "        return X[self.columns]\n",
        "\n",
        "\n",
        "from sklearn.preprocessing import StandardScaler\n",
        "\n",
        "\n",
        "continuos_cols = ['age', 'height', 'weight', 'ap_hi', 'ap_lo']\n",
        "cat_cols = ['gender', 'cholesterol']\n",
        "base_cols = ['gluc', 'smoke', 'alco', 'active']\n",
        "\n",
        "continuos_transformers = []\n",
        "cat_transformers = []\n",
        "base_transformers = []\n",
        "\n",
        "for cont_col in continuos_cols:\n",
        "    transfomer =  Pipeline([\n",
        "                ('selector', NumberSelector(key=cont_col)),\n",
        "                ('standard', StandardScaler())\n",
        "            ])\n",
        "    continuos_transformers.append((cont_col, transfomer))\n",
        "    \n",
        "for cat_col in cat_cols:\n",
        "    cat_transformer = Pipeline([\n",
        "                ('selector', ColumnSelector(key=cat_col)),\n",
        "                ('ohe', OHEEncoder(key=cat_col))\n",
        "            ])\n",
        "    cat_transformers.append((cat_col, cat_transformer))\n",
        "    \n",
        "for base_col in base_cols:\n",
        "    base_transformer = Pipeline([\n",
        "                ('selector', NumberSelector(key=base_col))\n",
        "            ])\n",
        "    base_transformers.append((base_col, base_transformer))"
      ],
      "metadata": {
        "id": "taXOM7i1J6sL"
      },
      "execution_count": 15,
      "outputs": []
    },
    {
      "cell_type": "markdown",
      "source": [
        "Теперь объединим все наши трансформеры с помощью FeatureUnion"
      ],
      "metadata": {
        "id": "89ui-DwlKS-6"
      }
    },
    {
      "cell_type": "code",
      "source": [
        "#посмотрим списки\n",
        "\n",
        "continuos_transformers+cat_transformers+base_transformers"
      ],
      "metadata": {
        "colab": {
          "base_uri": "https://localhost:8080/"
        },
        "id": "BBPlKsTiKnOn",
        "outputId": "f3d7f957-ef81-4b2d-cc6a-3cbcd290a6f2"
      },
      "execution_count": 16,
      "outputs": [
        {
          "output_type": "execute_result",
          "data": {
            "text/plain": [
              "[('age', Pipeline(steps=[('selector', NumberSelector(key='age')),\n",
              "                  ('standard', StandardScaler())])),\n",
              " ('height', Pipeline(steps=[('selector', NumberSelector(key='height')),\n",
              "                  ('standard', StandardScaler())])),\n",
              " ('weight', Pipeline(steps=[('selector', NumberSelector(key='weight')),\n",
              "                  ('standard', StandardScaler())])),\n",
              " ('ap_hi', Pipeline(steps=[('selector', NumberSelector(key='ap_hi')),\n",
              "                  ('standard', StandardScaler())])),\n",
              " ('ap_lo', Pipeline(steps=[('selector', NumberSelector(key='ap_lo')),\n",
              "                  ('standard', StandardScaler())])),\n",
              " ('gender', Pipeline(steps=[('selector', ColumnSelector(key='gender')),\n",
              "                  ('ohe', OHEEncoder(key='gender'))])),\n",
              " ('cholesterol',\n",
              "  Pipeline(steps=[('selector', ColumnSelector(key='cholesterol')),\n",
              "                  ('ohe', OHEEncoder(key='cholesterol'))])),\n",
              " ('gluc', Pipeline(steps=[('selector', NumberSelector(key='gluc'))])),\n",
              " ('smoke', Pipeline(steps=[('selector', NumberSelector(key='smoke'))])),\n",
              " ('alco', Pipeline(steps=[('selector', NumberSelector(key='alco'))])),\n",
              " ('active', Pipeline(steps=[('selector', NumberSelector(key='active'))]))]"
            ]
          },
          "metadata": {},
          "execution_count": 16
        }
      ]
    },
    {
      "cell_type": "code",
      "source": [
        "from sklearn.pipeline import FeatureUnion\n",
        "\n",
        "feats = FeatureUnion(continuos_transformers+cat_transformers+base_transformers)\n",
        "feature_processing = Pipeline([('feats', feats)])\n",
        "\n",
        "feature_processing.fit_transform(X_train)"
      ],
      "metadata": {
        "colab": {
          "base_uri": "https://localhost:8080/"
        },
        "id": "D4YlJ0QuKT1R",
        "outputId": "2a77d047-7718-4432-cf2f-69a774ddf7fd"
      },
      "execution_count": 17,
      "outputs": [
        {
          "output_type": "execute_result",
          "data": {
            "text/plain": [
              "array([[-1.73391771,  0.6873301 ,  0.74843904, ...,  1.        ,\n",
              "         0.        ,  1.        ],\n",
              "       [-1.67343538,  0.07758923, -0.29640123, ...,  0.        ,\n",
              "         0.        ,  1.        ],\n",
              "       [ 0.13738132,  1.17512278, -0.15708919, ...,  0.        ,\n",
              "         0.        ,  0.        ],\n",
              "       ...,\n",
              "       [ 1.17775864,  1.17512278, -0.15708919, ...,  0.        ,\n",
              "         0.        ,  1.        ],\n",
              "       [-0.47190715, -1.38578883,  0.74843904, ...,  0.        ,\n",
              "         0.        ,  1.        ],\n",
              "       [ 0.38174619,  0.56538192, -0.08743318, ...,  0.        ,\n",
              "         0.        ,  1.        ]])"
            ]
          },
          "metadata": {},
          "execution_count": 17
        }
      ]
    },
    {
      "cell_type": "markdown",
      "source": [
        "Добавим классификатор - Логистическую регресиию и запустим кросс-валидацию"
      ],
      "metadata": {
        "id": "PoDk6USqK4Wp"
      }
    },
    {
      "cell_type": "code",
      "source": [
        "classifier_lr = Pipeline([\n",
        "    ('features', feats),\n",
        "    ('classifier_lr', LogisticRegression(random_state=42)),\n",
        "])\n",
        "\n",
        "\n",
        "# запустим кросс-валидацию\n",
        "cv_scores = cross_val_score(classifier_lr, X_train, y_train, cv=7, scoring='roc_auc')\n",
        "cv_score = np.mean(cv_scores)\n",
        "cv_score_std = np.std(cv_scores)\n",
        "print(f'CV score is {cv_score}+-{cv_score_std}')\n",
        "\n",
        "# обучим пайплайн на всем тренировочном датасете\n",
        "classifier_lr.fit(X_train, y_train)\n",
        "y_score = classifier_lr.predict_proba(X_test)[:, 1]"
      ],
      "metadata": {
        "colab": {
          "base_uri": "https://localhost:8080/"
        },
        "id": "YIbbQ8ZRK4DX",
        "outputId": "69ec0654-9bce-4284-c73c-6c59ee55541d"
      },
      "execution_count": 18,
      "outputs": [
        {
          "output_type": "stream",
          "name": "stdout",
          "text": [
            "CV score is 0.7864573689384385+-0.004422021036885763\n"
          ]
        }
      ]
    },
    {
      "cell_type": "markdown",
      "source": [
        "Посчитаем precision/recall/f_score/roc_auc_score"
      ],
      "metadata": {
        "id": "vYQrWROfs8D5"
      }
    },
    {
      "cell_type": "code",
      "source": [
        "b = 1\n",
        "precision, recall, thresholds = precision_recall_curve(y_test.values, y_score)\n",
        "fscore = (1 +b**2) * (precision * recall) / (b**2 * precision + recall)\n",
        "# locate the index of the largest f score\n",
        "ix = np.argmax(fscore)\n",
        "print(f'Best Threshold={thresholds[ix]}, F-Score={fscore[ix]:.3f}, Precision={precision[ix]:.3f}, Recall={recall[ix]:.3f}')"
      ],
      "metadata": {
        "colab": {
          "base_uri": "https://localhost:8080/"
        },
        "id": "RLvvYst7s8vA",
        "outputId": "641e5901-da7d-4550-cc36-3d1ce2f5e0fc"
      },
      "execution_count": 19,
      "outputs": [
        {
          "output_type": "stream",
          "name": "stdout",
          "text": [
            "Best Threshold=0.3869370891147379, F-Score=0.730, Precision=0.647, Recall=0.838\n"
          ]
        }
      ]
    },
    {
      "cell_type": "code",
      "source": [
        "from sklearn.metrics import roc_auc_score\n",
        "\n",
        "roc_auc_lr = roc_auc_score(y_test, classifier_lr.predict_proba(X_test)[:, 1])\n",
        "\n",
        "print(f\"roc auc score: {roc_auc_score(y_train, classifier_lr.predict_proba(X_train)[:, 1])}\")\n",
        "\n",
        "print(f\"roc auc score: {roc_auc_lr}\")"
      ],
      "metadata": {
        "colab": {
          "base_uri": "https://localhost:8080/"
        },
        "id": "ufsCk_rUteJm",
        "outputId": "23693a31-e3fe-4752-b911-f9c8151f5efe"
      },
      "execution_count": 29,
      "outputs": [
        {
          "output_type": "stream",
          "name": "stdout",
          "text": [
            "roc auc score: 0.7870081561637485\n",
            "roc auc score: 0.7840347790421852\n"
          ]
        }
      ]
    },
    {
      "cell_type": "markdown",
      "source": [
        "Посмотрим на матрицу ошибок"
      ],
      "metadata": {
        "id": "F2YtBQq8uyg5"
      }
    },
    {
      "cell_type": "code",
      "source": [
        "def plot_confusion_matrix(cm, classes,\n",
        "                          normalize=False,\n",
        "                          title='Confusion matrix',\n",
        "                          cmap=plt.cm.Blues):\n",
        "    \"\"\"\n",
        "    This function prints and plots the confusion matrix.\n",
        "    Normalization can be applied by setting `normalize=True`.\n",
        "    \"\"\"\n",
        "    plt.imshow(cm, interpolation='nearest', cmap=cmap)\n",
        "    plt.title(title)\n",
        "    plt.colorbar()\n",
        "    tick_marks = np.arange(len(classes))\n",
        "    plt.xticks(tick_marks, classes, rotation=45)\n",
        "    plt.yticks(tick_marks, classes)\n",
        "\n",
        "    if normalize:\n",
        "        cm = cm.astype('float') / cm.sum(axis=1)[:, np.newaxis]\n",
        "        print(\"Normalized confusion matrix\")\n",
        "    else:\n",
        "        print('Confusion matrix, without normalization')\n",
        "\n",
        "    print(cm)\n",
        "\n",
        "    thresh = cm.max() / 2.\n",
        "    for i, j in itertools.product(range(cm.shape[0]), range(cm.shape[1])):\n",
        "        plt.text(j, i, cm[i, j],\n",
        "                 horizontalalignment=\"center\",\n",
        "                 color=\"white\" if cm[i, j] > thresh else \"black\")\n",
        "\n",
        "    plt.tight_layout()\n",
        "    plt.ylabel('True label')\n",
        "    plt.xlabel('Predicted label')"
      ],
      "metadata": {
        "id": "xVoKQtTjvGB6"
      },
      "execution_count": 24,
      "outputs": []
    },
    {
      "cell_type": "code",
      "source": [
        "# мы уже нашли ранее \"оптимальный\" порог, когда максимизировали f_score\n",
        "font = {'size' : 15}\n",
        "\n",
        "plt.rc('font', **font)\n",
        "\n",
        "cnf_matrix = confusion_matrix(y_test, y_score > thresholds[ix])\n",
        "plt.figure(figsize=(10, 8))\n",
        "plot_confusion_matrix(cnf_matrix, classes=['cardio_0', 'cardio_1'],\n",
        "                      title='Confusion matrix')\n",
        "plt.savefig(\"conf_matrix.png\")\n",
        "plt.show()"
      ],
      "metadata": {
        "colab": {
          "base_uri": "https://localhost:8080/",
          "height": 648
        },
        "id": "3BSfjtvVux3c",
        "outputId": "931b7b64-3048-4bcb-aac3-bbcbc53b9085"
      },
      "execution_count": 25,
      "outputs": [
        {
          "output_type": "stream",
          "name": "stdout",
          "text": [
            "Confusion matrix, without normalization\n",
            "[[4861 3959]\n",
            " [1411 7269]]\n"
          ]
        },
        {
          "output_type": "display_data",
          "data": {
            "text/plain": [
              "<Figure size 720x576 with 2 Axes>"
            ],
            "image/png": "[encoded data removed]"
          },
          "metadata": {
            "needs_background": "light"
          }
        }
      ]
    },
    {
      "cell_type": "code",
      "source": [
        "TP = cnf_matrix[1, 1]\n",
        "FP = cnf_matrix[0, 1]\n",
        "TN = cnf_matrix[0, 0]\n",
        "FN = cnf_matrix[1, 0]\n",
        "\n",
        "TP, FP, TN, FN"
      ],
      "metadata": {
        "colab": {
          "base_uri": "https://localhost:8080/"
        },
        "id": "tHEVswuCvqYG",
        "outputId": "0319d50c-6830-48d6-be60-a82072b56b32"
      },
      "execution_count": 26,
      "outputs": [
        {
          "output_type": "execute_result",
          "data": {
            "text/plain": [
              "(7269, 3959, 4861, 1411)"
            ]
          },
          "metadata": {},
          "execution_count": 26
        }
      ]
    },
    {
      "cell_type": "markdown",
      "source": [
        "Посчитаем расходы на обследование и лечение в случае использование модели\n",
        "\n",
        "Пусть:\n",
        "\n",
        "- стоимость лечения 15000р, если сделали тест и начали лечить вовремя\n",
        "- стоимость лечения 20000р, если упустили и начали лечить когда уже проявились все симптомы\n",
        "- стоимость теста 1400р\n",
        "\n",
        "\n",
        "\n",
        "- лишних тестов сделали FP = cnf_matrix[0][1]\n",
        "- пропустили больных FN = cnf_matrix[1][0]\n",
        "- правильных тестов сделали TP = cnf_matrix[1][1]"
      ],
      "metadata": {
        "id": "-icTsGRnw0HL"
      }
    },
    {
      "cell_type": "code",
      "source": [
        "ML_costs = (FP * 1400) + (TP * (1400 + 15000)) + FN * 20000\n",
        "\n",
        "ML_costs"
      ],
      "metadata": {
        "colab": {
          "base_uri": "https://localhost:8080/"
        },
        "id": "Wqku-jtVwywD",
        "outputId": "9252695d-67a2-4888-bf6c-b578355fe2f1"
      },
      "execution_count": 27,
      "outputs": [
        {
          "output_type": "execute_result",
          "data": {
            "text/plain": [
              "152974200"
            ]
          },
          "metadata": {},
          "execution_count": 27
        }
      ]
    },
    {
      "cell_type": "markdown",
      "source": [
        "Сформируем таблицу с результатами"
      ],
      "metadata": {
        "id": "PE3hfdh1xgua"
      }
    },
    {
      "cell_type": "code",
      "source": [
        "metrics_df = pd.DataFrame(columns=['Model', 'Thresh', 'F-Score', 'Precision', 'Recall', 'Roc_auc', 'ML_costs'])\n",
        "metrics_df"
      ],
      "metadata": {
        "colab": {
          "base_uri": "https://localhost:8080/",
          "height": 49
        },
        "id": "w5y42EkUuHwl",
        "outputId": "cde61138-f2fd-4dec-c04e-47114218c731"
      },
      "execution_count": 36,
      "outputs": [
        {
          "output_type": "execute_result",
          "data": {
            "text/plain": [
              "Empty DataFrame\n",
              "Columns: [Model, Thresh, F-Score, Precision, Recall, Roc_auc, ML_costs]\n",
              "Index: []"
            ],
            "text/html": [
              "\n",
              "  <div id=\"df-13a999ef-a25b-4afa-8b26-22254eae1d0a\">\n",
              "    <div class=\"colab-df-container\">\n",
              "      <div>\n",
              "<style scoped>\n",
              "    .dataframe tbody tr th:only-of-type {\n",
              "        vertical-align: middle;\n",
              "    }\n",
              "\n",
              "    .dataframe tbody tr th {\n",
              "        vertical-align: top;\n",
              "    }\n",
              "\n",
              "    .dataframe thead th {\n",
              "        text-align: right;\n",
              "    }\n",
              "</style>\n",
              "<table border=\"1\" class=\"dataframe\">\n",
              "  <thead>\n",
              "    <tr style=\"text-align: right;\">\n",
              "      <th></th>\n",
              "      <th>Model</th>\n",
              "      <th>Thresh</th>\n",
              "      <th>F-Score</th>\n",
              "      <th>Precision</th>\n",
              "      <th>Recall</th>\n",
              "      <th>Roc_auc</th>\n",
              "      <th>ML_costs</th>\n",
              "    </tr>\n",
              "  </thead>\n",
              "  <tbody>\n",
              "  </tbody>\n",
              "</table>\n",
              "</div>\n",
              "      <button class=\"colab-df-convert\" onclick=\"convertToInteractive('df-13a999ef-a25b-4afa-8b26-22254eae1d0a')\"\n",
              "              title=\"Convert this dataframe to an interactive table.\"\n",
              "              style=\"display:none;\">\n",
              "        \n",
              "  <svg xmlns=\"http://www.w3.org/2000/svg\" height=\"24px\"viewBox=\"0 0 24 24\"\n",
              "       width=\"24px\">\n",
              "    <path d=\"M0 0h24v24H0V0z\" fill=\"none\"/>\n",
              "    <path d=\"M18.56 5.44l.94 2.06.94-2.06 2.06-.94-2.06-.94-.94-2.06-.94 2.06-2.06.94zm-11 1L8.5 8.5l.94-2.06 2.06-.94-2.06-.94L8.5 2.5l-.94 2.06-2.06.94zm10 10l.94 2.06.94-2.06 2.06-.94-2.06-.94-.94-2.06-.94 2.06-2.06.94z\"/><path d=\"M17.41 7.96l-1.37-1.37c-.4-.4-.92-.59-1.43-.59-.52 0-1.04.2-1.43.59L10.3 9.45l-7.72 7.72c-.78.78-.78 2.05 0 2.83L4 21.41c.39.39.9.59 1.41.59.51 0 1.02-.2 1.41-.59l7.78-7.78 2.81-2.81c.8-.78.8-2.07 0-2.86zM5.41 20L4 18.59l7.72-7.72 1.47 1.35L5.41 20z\"/>\n",
              "  </svg>\n",
              "      </button>\n",
              "      \n",
              "  <style>\n",
              "    .colab-df-container {\n",
              "      display:flex;\n",
              "      flex-wrap:wrap;\n",
              "      gap: 12px;\n",
              "    }\n",
              "\n",
              "    .colab-df-convert {\n",
              "      background-color: #E8F0FE;\n",
              "      border: none;\n",
              "      border-radius: 50%;\n",
              "      cursor: pointer;\n",
              "      display: none;\n",
              "      fill: #1967D2;\n",
              "      height: 32px;\n",
              "      padding: 0 0 0 0;\n",
              "      width: 32px;\n",
              "    }\n",
              "\n",
              "    .colab-df-convert:hover {\n",
              "      background-color: #E2EBFA;\n",
              "      box-shadow: 0px 1px 2px rgba(60, 64, 67, 0.3), 0px 1px 3px 1px rgba(60, 64, 67, 0.15);\n",
              "      fill: #174EA6;\n",
              "    }\n",
              "\n",
              "    [theme=dark] .colab-df-convert {\n",
              "      background-color: #3B4455;\n",
              "      fill: #D2E3FC;\n",
              "    }\n",
              "\n",
              "    [theme=dark] .colab-df-convert:hover {\n",
              "      background-color: #434B5C;\n",
              "      box-shadow: 0px 1px 3px 1px rgba(0, 0, 0, 0.15);\n",
              "      filter: drop-shadow(0px 1px 2px rgba(0, 0, 0, 0.3));\n",
              "      fill: #FFFFFF;\n",
              "    }\n",
              "  </style>\n",
              "\n",
              "      <script>\n",
              "        const buttonEl =\n",
              "          document.querySelector('#df-13a999ef-a25b-4afa-8b26-22254eae1d0a button.colab-df-convert');\n",
              "        buttonEl.style.display =\n",
              "          google.colab.kernel.accessAllowed ? 'block' : 'none';\n",
              "\n",
              "        async function convertToInteractive(key) {\n",
              "          const element = document.querySelector('#df-13a999ef-a25b-4afa-8b26-22254eae1d0a');\n",
              "          const dataTable =\n",
              "            await google.colab.kernel.invokeFunction('convertToInteractive',\n",
              "                                                     [key], {});\n",
              "          if (!dataTable) return;\n",
              "\n",
              "          const docLinkHtml = 'Like what you see? Visit the ' +\n",
              "            '<a target=\"_blank\" href=https://colab.research.google.com/notebooks/data_table.ipynb>data table notebook</a>'\n",
              "            + ' to learn more about interactive tables.';\n",
              "          element.innerHTML = '';\n",
              "          dataTable['output_type'] = 'display_data';\n",
              "          await google.colab.output.renderOutput(dataTable, element);\n",
              "          const docLink = document.createElement('div');\n",
              "          docLink.innerHTML = docLinkHtml;\n",
              "          element.appendChild(docLink);\n",
              "        }\n",
              "      </script>\n",
              "    </div>\n",
              "  </div>\n",
              "  "
            ]
          },
          "metadata": {},
          "execution_count": 36
        }
      ]
    },
    {
      "cell_type": "code",
      "source": [
        "metrics_df = metrics_df.append({\n",
        "    'Model': type(classifier_lr['classifier_lr']).__name__,\n",
        "    'Thresh': thresholds[ix],\n",
        "    'F-Score': fscore[ix],\n",
        "    'Precision': precision[ix],\n",
        "    'Recall': recall[ix],\n",
        "    'Roc_auc': roc_auc_lr,\n",
        "    'ML_costs': ML_costs\n",
        "  }, ignore_index=True)"
      ],
      "metadata": {
        "id": "D2vIHQLjxuUn"
      },
      "execution_count": 37,
      "outputs": []
    },
    {
      "cell_type": "code",
      "source": [
        "metrics_df"
      ],
      "metadata": {
        "colab": {
          "base_uri": "https://localhost:8080/",
          "height": 81
        },
        "id": "jYo_6vqvyQ_c",
        "outputId": "2f5c16cf-1491-419f-c81f-429b467c3716"
      },
      "execution_count": 38,
      "outputs": [
        {
          "output_type": "execute_result",
          "data": {
            "text/plain": [
              "                Model    Thresh   F-Score  Precision    Recall   Roc_auc  \\\n",
              "0  LogisticRegression  0.386937  0.730323   0.647431  0.837558  0.784035   \n",
              "\n",
              "    ML_costs  \n",
              "0  152974200  "
            ],
            "text/html": [
              "\n",
              "  <div id=\"df-01c78bab-b9f9-4e9b-b760-f68cd2ef2088\">\n",
              "    <div class=\"colab-df-container\">\n",
              "      <div>\n",
              "<style scoped>\n",
              "    .dataframe tbody tr th:only-of-type {\n",
              "        vertical-align: middle;\n",
              "    }\n",
              "\n",
              "    .dataframe tbody tr th {\n",
              "        vertical-align: top;\n",
              "    }\n",
              "\n",
              "    .dataframe thead th {\n",
              "        text-align: right;\n",
              "    }\n",
              "</style>\n",
              "<table border=\"1\" class=\"dataframe\">\n",
              "  <thead>\n",
              "    <tr style=\"text-align: right;\">\n",
              "      <th></th>\n",
              "      <th>Model</th>\n",
              "      <th>Thresh</th>\n",
              "      <th>F-Score</th>\n",
              "      <th>Precision</th>\n",
              "      <th>Recall</th>\n",
              "      <th>Roc_auc</th>\n",
              "      <th>ML_costs</th>\n",
              "    </tr>\n",
              "  </thead>\n",
              "  <tbody>\n",
              "    <tr>\n",
              "      <th>0</th>\n",
              "      <td>LogisticRegression</td>\n",
              "      <td>0.386937</td>\n",
              "      <td>0.730323</td>\n",
              "      <td>0.647431</td>\n",
              "      <td>0.837558</td>\n",
              "      <td>0.784035</td>\n",
              "      <td>152974200</td>\n",
              "    </tr>\n",
              "  </tbody>\n",
              "</table>\n",
              "</div>\n",
              "      <button class=\"colab-df-convert\" onclick=\"convertToInteractive('df-01c78bab-b9f9-4e9b-b760-f68cd2ef2088')\"\n",
              "              title=\"Convert this dataframe to an interactive table.\"\n",
              "              style=\"display:none;\">\n",
              "        \n",
              "  <svg xmlns=\"http://www.w3.org/2000/svg\" height=\"24px\"viewBox=\"0 0 24 24\"\n",
              "       width=\"24px\">\n",
              "    <path d=\"M0 0h24v24H0V0z\" fill=\"none\"/>\n",
              "    <path d=\"M18.56 5.44l.94 2.06.94-2.06 2.06-.94-2.06-.94-.94-2.06-.94 2.06-2.06.94zm-11 1L8.5 8.5l.94-2.06 2.06-.94-2.06-.94L8.5 2.5l-.94 2.06-2.06.94zm10 10l.94 2.06.94-2.06 2.06-.94-2.06-.94-.94-2.06-.94 2.06-2.06.94z\"/><path d=\"M17.41 7.96l-1.37-1.37c-.4-.4-.92-.59-1.43-.59-.52 0-1.04.2-1.43.59L10.3 9.45l-7.72 7.72c-.78.78-.78 2.05 0 2.83L4 21.41c.39.39.9.59 1.41.59.51 0 1.02-.2 1.41-.59l7.78-7.78 2.81-2.81c.8-.78.8-2.07 0-2.86zM5.41 20L4 18.59l7.72-7.72 1.47 1.35L5.41 20z\"/>\n",
              "  </svg>\n",
              "      </button>\n",
              "      \n",
              "  <style>\n",
              "    .colab-df-container {\n",
              "      display:flex;\n",
              "      flex-wrap:wrap;\n",
              "      gap: 12px;\n",
              "    }\n",
              "\n",
              "    .colab-df-convert {\n",
              "      background-color: #E8F0FE;\n",
              "      border: none;\n",
              "      border-radius: 50%;\n",
              "      cursor: pointer;\n",
              "      display: none;\n",
              "      fill: #1967D2;\n",
              "      height: 32px;\n",
              "      padding: 0 0 0 0;\n",
              "      width: 32px;\n",
              "    }\n",
              "\n",
              "    .colab-df-convert:hover {\n",
              "      background-color: #E2EBFA;\n",
              "      box-shadow: 0px 1px 2px rgba(60, 64, 67, 0.3), 0px 1px 3px 1px rgba(60, 64, 67, 0.15);\n",
              "      fill: #174EA6;\n",
              "    }\n",
              "\n",
              "    [theme=dark] .colab-df-convert {\n",
              "      background-color: #3B4455;\n",
              "      fill: #D2E3FC;\n",
              "    }\n",
              "\n",
              "    [theme=dark] .colab-df-convert:hover {\n",
              "      background-color: #434B5C;\n",
              "      box-shadow: 0px 1px 3px 1px rgba(0, 0, 0, 0.15);\n",
              "      filter: drop-shadow(0px 1px 2px rgba(0, 0, 0, 0.3));\n",
              "      fill: #FFFFFF;\n",
              "    }\n",
              "  </style>\n",
              "\n",
              "      <script>\n",
              "        const buttonEl =\n",
              "          document.querySelector('#df-01c78bab-b9f9-4e9b-b760-f68cd2ef2088 button.colab-df-convert');\n",
              "        buttonEl.style.display =\n",
              "          google.colab.kernel.accessAllowed ? 'block' : 'none';\n",
              "\n",
              "        async function convertToInteractive(key) {\n",
              "          const element = document.querySelector('#df-01c78bab-b9f9-4e9b-b760-f68cd2ef2088');\n",
              "          const dataTable =\n",
              "            await google.colab.kernel.invokeFunction('convertToInteractive',\n",
              "                                                     [key], {});\n",
              "          if (!dataTable) return;\n",
              "\n",
              "          const docLinkHtml = 'Like what you see? Visit the ' +\n",
              "            '<a target=\"_blank\" href=https://colab.research.google.com/notebooks/data_table.ipynb>data table notebook</a>'\n",
              "            + ' to learn more about interactive tables.';\n",
              "          element.innerHTML = '';\n",
              "          dataTable['output_type'] = 'display_data';\n",
              "          await google.colab.output.renderOutput(dataTable, element);\n",
              "          const docLink = document.createElement('div');\n",
              "          docLink.innerHTML = docLinkHtml;\n",
              "          element.appendChild(docLink);\n",
              "        }\n",
              "      </script>\n",
              "    </div>\n",
              "  </div>\n",
              "  "
            ]
          },
          "metadata": {},
          "execution_count": 38
        }
      ]
    },
    {
      "cell_type": "markdown",
      "source": [
        "Градиентный бустинг\n"
      ],
      "metadata": {
        "id": "9noZr6KhypOb"
      }
    },
    {
      "cell_type": "code",
      "source": [
        "from sklearn.ensemble import GradientBoostingClassifier"
      ],
      "metadata": {
        "id": "a3NlsHhUysna"
      },
      "execution_count": 39,
      "outputs": []
    },
    {
      "cell_type": "code",
      "source": [
        "classifier_gb = Pipeline([\n",
        "    ('features', feats),\n",
        "    ('classifier_gb', GradientBoostingClassifier(random_state=42)),\n",
        "])"
      ],
      "metadata": {
        "id": "qHUSTgTlzRha"
      },
      "execution_count": 41,
      "outputs": []
    },
    {
      "cell_type": "code",
      "source": [
        "# запустим кросс-валидацию\n",
        "cv_scores = cross_val_score(classifier_gb, X_train, y_train, cv=7, scoring='roc_auc')\n",
        "cv_score = np.mean(cv_scores)\n",
        "cv_score_std = np.std(cv_scores)\n",
        "print(f'CV score is {cv_score}+-{cv_score_std}')\n",
        "\n",
        "# обучим пайплайн на всем тренировочном датасете\n",
        "classifier_gb.fit(X_train, y_train)\n",
        "y_score = classifier_gb.predict_proba(X_test)[:, 1]"
      ],
      "metadata": {
        "colab": {
          "base_uri": "https://localhost:8080/"
        },
        "id": "0R4eU5PazhE4",
        "outputId": "1822c4ce-a42f-4b5f-eb95-289f82a3a315"
      },
      "execution_count": 43,
      "outputs": [
        {
          "output_type": "stream",
          "name": "stdout",
          "text": [
            "CV score is 0.8023336401314394+-0.003067762759094604\n"
          ]
        }
      ]
    },
    {
      "cell_type": "markdown",
      "source": [
        "Посчитаем precision/recall/f_score/roc_auc_score"
      ],
      "metadata": {
        "id": "2ASO67iX0EDx"
      }
    },
    {
      "cell_type": "code",
      "source": [
        "b = 1\n",
        "precision, recall, thresholds = precision_recall_curve(y_test.values, y_score)\n",
        "fscore = (1 +b**2) * (precision * recall) / (b**2 * precision + recall)\n",
        "# locate the index of the largest f score\n",
        "ix = np.argmax(fscore)\n",
        "print(f'Best Threshold={thresholds[ix]}, F-Score={fscore[ix]:.3f}, Precision={precision[ix]:.3f}, Recall={recall[ix]:.3f}')"
      ],
      "metadata": {
        "colab": {
          "base_uri": "https://localhost:8080/"
        },
        "id": "oEl99z0o0DvW",
        "outputId": "b9353fac-28e4-4f00-8b33-a83c7a9ce229"
      },
      "execution_count": 44,
      "outputs": [
        {
          "output_type": "stream",
          "name": "stdout",
          "text": [
            "Best Threshold=0.39494659702686624, F-Score=0.740, Precision=0.698, Recall=0.788\n"
          ]
        }
      ]
    },
    {
      "cell_type": "code",
      "source": [
        "roc_auc_gb = roc_auc_score(y_test, classifier_gb.predict_proba(X_test)[:, 1])\n",
        "\n",
        "print(f\"roc auc score: {roc_auc_score(y_train, classifier_gb.predict_proba(X_train)[:, 1])}\")\n",
        "\n",
        "print(f\"roc auc score: {roc_auc_gb}\")"
      ],
      "metadata": {
        "colab": {
          "base_uri": "https://localhost:8080/"
        },
        "id": "F8H9gc8x0VLG",
        "outputId": "2c7de5a9-118b-4729-b999-67e188162d29"
      },
      "execution_count": 45,
      "outputs": [
        {
          "output_type": "stream",
          "name": "stdout",
          "text": [
            "roc auc score: 0.8076553421213264\n",
            "roc auc score: 0.8026153641179974\n"
          ]
        }
      ]
    },
    {
      "cell_type": "code",
      "source": [
        "font = {'size' : 15}\n",
        "\n",
        "plt.rc('font', **font)\n",
        "\n",
        "cnf_matrix = confusion_matrix(y_test, y_score > thresholds[ix])\n",
        "plt.figure(figsize=(10, 8))\n",
        "plot_confusion_matrix(cnf_matrix, classes=['cardio_0', 'cardio_1'],\n",
        "                      title='Confusion matrix')\n",
        "plt.savefig(\"conf_matrix.png\")\n",
        "plt.show()"
      ],
      "metadata": {
        "colab": {
          "base_uri": "https://localhost:8080/",
          "height": 648
        },
        "id": "w_I6o9Z8z-t2",
        "outputId": "dd646214-5bee-4123-aaf1-fa0e374335a5"
      },
      "execution_count": 46,
      "outputs": [
        {
          "output_type": "stream",
          "name": "stdout",
          "text": [
            "Confusion matrix, without normalization\n",
            "[[5858 2962]\n",
            " [1840 6840]]\n"
          ]
        },
        {
          "output_type": "display_data",
          "data": {
            "text/plain": [
              "<Figure size 720x576 with 2 Axes>"
            ],
            "image/png": "[encoded data removed]"
          },
          "metadata": {
            "needs_background": "light"
          }
        }
      ]
    },
    {
      "cell_type": "code",
      "source": [
        "TP = cnf_matrix[1, 1]\n",
        "FP = cnf_matrix[0, 1]\n",
        "TN = cnf_matrix[0, 0]\n",
        "FN = cnf_matrix[1, 0]\n",
        "\n",
        "TP, FP, TN, FN"
      ],
      "metadata": {
        "colab": {
          "base_uri": "https://localhost:8080/"
        },
        "id": "4gZ7qeba0vaF",
        "outputId": "b9fb1ac2-9991-41a1-e2db-cf67f62759db"
      },
      "execution_count": 47,
      "outputs": [
        {
          "output_type": "execute_result",
          "data": {
            "text/plain": [
              "(6840, 2962, 5858, 1840)"
            ]
          },
          "metadata": {},
          "execution_count": 47
        }
      ]
    },
    {
      "cell_type": "code",
      "source": [
        "ML_costs = (FP * 1400) + (TP * (1400 + 15000)) + FN * 20000\n",
        "\n",
        "ML_costs"
      ],
      "metadata": {
        "colab": {
          "base_uri": "https://localhost:8080/"
        },
        "id": "oOfD_jU007uy",
        "outputId": "a2aca734-cbd8-48f3-a5f7-b1061a153dbb"
      },
      "execution_count": 48,
      "outputs": [
        {
          "output_type": "execute_result",
          "data": {
            "text/plain": [
              "153122800"
            ]
          },
          "metadata": {},
          "execution_count": 48
        }
      ]
    },
    {
      "cell_type": "code",
      "source": [
        "metrics_df = metrics_df.append({\n",
        "    'Model': type(classifier_gb['classifier_gb']).__name__,\n",
        "    'Thresh': thresholds[ix],\n",
        "    'F-Score': fscore[ix],\n",
        "    'Precision': precision[ix],\n",
        "    'Recall': recall[ix],\n",
        "    'Roc_auc': roc_auc_gb,\n",
        "    'ML_costs': ML_costs\n",
        "  }, ignore_index=True)\n",
        "\n",
        "metrics_df"
      ],
      "metadata": {
        "colab": {
          "base_uri": "https://localhost:8080/",
          "height": 112
        },
        "id": "_BAnqBXG1Bcy",
        "outputId": "df721678-7dbc-4965-cb06-d2203f814a48"
      },
      "execution_count": 49,
      "outputs": [
        {
          "output_type": "execute_result",
          "data": {
            "text/plain": [
              "                        Model    Thresh   F-Score  Precision    Recall  \\\n",
              "0          LogisticRegression  0.386937  0.730323   0.647431  0.837558   \n",
              "1  GradientBoostingClassifier  0.394947  0.740248   0.697848  0.788134   \n",
              "\n",
              "    Roc_auc   ML_costs  \n",
              "0  0.784035  152974200  \n",
              "1  0.802615  153122800  "
            ],
            "text/html": [
              "\n",
              "  <div id=\"df-b3686dcd-f66b-4e63-a570-f92ab2e5a9ce\">\n",
              "    <div class=\"colab-df-container\">\n",
              "      <div>\n",
              "<style scoped>\n",
              "    .dataframe tbody tr th:only-of-type {\n",
              "        vertical-align: middle;\n",
              "    }\n",
              "\n",
              "    .dataframe tbody tr th {\n",
              "        vertical-align: top;\n",
              "    }\n",
              "\n",
              "    .dataframe thead th {\n",
              "        text-align: right;\n",
              "    }\n",
              "</style>\n",
              "<table border=\"1\" class=\"dataframe\">\n",
              "  <thead>\n",
              "    <tr style=\"text-align: right;\">\n",
              "      <th></th>\n",
              "      <th>Model</th>\n",
              "      <th>Thresh</th>\n",
              "      <th>F-Score</th>\n",
              "      <th>Precision</th>\n",
              "      <th>Recall</th>\n",
              "      <th>Roc_auc</th>\n",
              "      <th>ML_costs</th>\n",
              "    </tr>\n",
              "  </thead>\n",
              "  <tbody>\n",
              "    <tr>\n",
              "      <th>0</th>\n",
              "      <td>LogisticRegression</td>\n",
              "      <td>0.386937</td>\n",
              "      <td>0.730323</td>\n",
              "      <td>0.647431</td>\n",
              "      <td>0.837558</td>\n",
              "      <td>0.784035</td>\n",
              "      <td>152974200</td>\n",
              "    </tr>\n",
              "    <tr>\n",
              "      <th>1</th>\n",
              "      <td>GradientBoostingClassifier</td>\n",
              "      <td>0.394947</td>\n",
              "      <td>0.740248</td>\n",
              "      <td>0.697848</td>\n",
              "      <td>0.788134</td>\n",
              "      <td>0.802615</td>\n",
              "      <td>153122800</td>\n",
              "    </tr>\n",
              "  </tbody>\n",
              "</table>\n",
              "</div>\n",
              "      <button class=\"colab-df-convert\" onclick=\"convertToInteractive('df-b3686dcd-f66b-4e63-a570-f92ab2e5a9ce')\"\n",
              "              title=\"Convert this dataframe to an interactive table.\"\n",
              "              style=\"display:none;\">\n",
              "        \n",
              "  <svg xmlns=\"http://www.w3.org/2000/svg\" height=\"24px\"viewBox=\"0 0 24 24\"\n",
              "       width=\"24px\">\n",
              "    <path d=\"M0 0h24v24H0V0z\" fill=\"none\"/>\n",
              "    <path d=\"M18.56 5.44l.94 2.06.94-2.06 2.06-.94-2.06-.94-.94-2.06-.94 2.06-2.06.94zm-11 1L8.5 8.5l.94-2.06 2.06-.94-2.06-.94L8.5 2.5l-.94 2.06-2.06.94zm10 10l.94 2.06.94-2.06 2.06-.94-2.06-.94-.94-2.06-.94 2.06-2.06.94z\"/><path d=\"M17.41 7.96l-1.37-1.37c-.4-.4-.92-.59-1.43-.59-.52 0-1.04.2-1.43.59L10.3 9.45l-7.72 7.72c-.78.78-.78 2.05 0 2.83L4 21.41c.39.39.9.59 1.41.59.51 0 1.02-.2 1.41-.59l7.78-7.78 2.81-2.81c.8-.78.8-2.07 0-2.86zM5.41 20L4 18.59l7.72-7.72 1.47 1.35L5.41 20z\"/>\n",
              "  </svg>\n",
              "      </button>\n",
              "      \n",
              "  <style>\n",
              "    .colab-df-container {\n",
              "      display:flex;\n",
              "      flex-wrap:wrap;\n",
              "      gap: 12px;\n",
              "    }\n",
              "\n",
              "    .colab-df-convert {\n",
              "      background-color: #E8F0FE;\n",
              "      border: none;\n",
              "      border-radius: 50%;\n",
              "      cursor: pointer;\n",
              "      display: none;\n",
              "      fill: #1967D2;\n",
              "      height: 32px;\n",
              "      padding: 0 0 0 0;\n",
              "      width: 32px;\n",
              "    }\n",
              "\n",
              "    .colab-df-convert:hover {\n",
              "      background-color: #E2EBFA;\n",
              "      box-shadow: 0px 1px 2px rgba(60, 64, 67, 0.3), 0px 1px 3px 1px rgba(60, 64, 67, 0.15);\n",
              "      fill: #174EA6;\n",
              "    }\n",
              "\n",
              "    [theme=dark] .colab-df-convert {\n",
              "      background-color: #3B4455;\n",
              "      fill: #D2E3FC;\n",
              "    }\n",
              "\n",
              "    [theme=dark] .colab-df-convert:hover {\n",
              "      background-color: #434B5C;\n",
              "      box-shadow: 0px 1px 3px 1px rgba(0, 0, 0, 0.15);\n",
              "      filter: drop-shadow(0px 1px 2px rgba(0, 0, 0, 0.3));\n",
              "      fill: #FFFFFF;\n",
              "    }\n",
              "  </style>\n",
              "\n",
              "      <script>\n",
              "        const buttonEl =\n",
              "          document.querySelector('#df-b3686dcd-f66b-4e63-a570-f92ab2e5a9ce button.colab-df-convert');\n",
              "        buttonEl.style.display =\n",
              "          google.colab.kernel.accessAllowed ? 'block' : 'none';\n",
              "\n",
              "        async function convertToInteractive(key) {\n",
              "          const element = document.querySelector('#df-b3686dcd-f66b-4e63-a570-f92ab2e5a9ce');\n",
              "          const dataTable =\n",
              "            await google.colab.kernel.invokeFunction('convertToInteractive',\n",
              "                                                     [key], {});\n",
              "          if (!dataTable) return;\n",
              "\n",
              "          const docLinkHtml = 'Like what you see? Visit the ' +\n",
              "            '<a target=\"_blank\" href=https://colab.research.google.com/notebooks/data_table.ipynb>data table notebook</a>'\n",
              "            + ' to learn more about interactive tables.';\n",
              "          element.innerHTML = '';\n",
              "          dataTable['output_type'] = 'display_data';\n",
              "          await google.colab.output.renderOutput(dataTable, element);\n",
              "          const docLink = document.createElement('div');\n",
              "          docLink.innerHTML = docLinkHtml;\n",
              "          element.appendChild(docLink);\n",
              "        }\n",
              "      </script>\n",
              "    </div>\n",
              "  </div>\n",
              "  "
            ]
          },
          "metadata": {},
          "execution_count": 49
        }
      ]
    },
    {
      "cell_type": "markdown",
      "source": [
        "Случайный лес\n"
      ],
      "metadata": {
        "id": "CAQVk5Nn1RZb"
      }
    },
    {
      "cell_type": "code",
      "source": [
        "from sklearn.ensemble import RandomForestClassifier"
      ],
      "metadata": {
        "id": "A-Le3Usk1T66"
      },
      "execution_count": 50,
      "outputs": []
    },
    {
      "cell_type": "code",
      "source": [
        "classifier_rf = Pipeline([\n",
        "    ('features', feats),\n",
        "    ('classifier_rf', RandomForestClassifier(random_state=42)),\n",
        "])"
      ],
      "metadata": {
        "id": "1e6aNBox1jjo"
      },
      "execution_count": 51,
      "outputs": []
    },
    {
      "cell_type": "code",
      "source": [
        "# запустим кросс-валидацию\n",
        "cv_scores = cross_val_score(classifier_rf, X_train, y_train, cv=7, scoring='roc_auc')\n",
        "cv_score = np.mean(cv_scores)\n",
        "cv_score_std = np.std(cv_scores)\n",
        "print(f'CV score is {cv_score}+-{cv_score_std}')\n",
        "\n",
        "# обучим пайплайн на всем тренировочном датасете\n",
        "classifier_rf.fit(X_train, y_train)\n",
        "y_score = classifier_rf.predict_proba(X_test)[:, 1]"
      ],
      "metadata": {
        "colab": {
          "base_uri": "https://localhost:8080/"
        },
        "id": "Kcmhuuoq1pmJ",
        "outputId": "d44a7d8f-74aa-43ec-f370-cd3b9b2ad55c"
      },
      "execution_count": 52,
      "outputs": [
        {
          "output_type": "stream",
          "name": "stdout",
          "text": [
            "CV score is 0.7743796633622809+-0.003611330100912611\n"
          ]
        }
      ]
    },
    {
      "cell_type": "markdown",
      "source": [
        "Посчитаем precision/recall/f_score/roc_auc_score"
      ],
      "metadata": {
        "id": "NZLc4iSn1823"
      }
    },
    {
      "cell_type": "code",
      "source": [
        "b = 1\n",
        "precision, recall, thresholds = precision_recall_curve(y_test.values, y_score)\n",
        "fscore = (1 +b**2) * (precision * recall) / (b**2 * precision + recall)\n",
        "# locate the index of the largest f score\n",
        "ix = np.argmax(fscore)\n",
        "print(f'Best Threshold={thresholds[ix]}, F-Score={fscore[ix]:.3f}, Precision={precision[ix]:.3f}, Recall={recall[ix]:.3f}')"
      ],
      "metadata": {
        "colab": {
          "base_uri": "https://localhost:8080/"
        },
        "id": "xZIEv0tv17-7",
        "outputId": "00837427-d584-401e-c9bb-550cb7693450"
      },
      "execution_count": 53,
      "outputs": [
        {
          "output_type": "stream",
          "name": "stdout",
          "text": [
            "Best Threshold=0.35, F-Score=0.719, Precision=0.643, Recall=0.816\n"
          ]
        }
      ]
    },
    {
      "cell_type": "code",
      "source": [
        "roc_auc_rf = roc_auc_score(y_test, classifier_rf.predict_proba(X_test)[:, 1])\n",
        "\n",
        "print(f\"roc auc score: {roc_auc_score(y_train, classifier_gb.predict_proba(X_train)[:, 1])}\")\n",
        "\n",
        "print(f\"roc auc score: {roc_auc_gb}\")"
      ],
      "metadata": {
        "colab": {
          "base_uri": "https://localhost:8080/"
        },
        "id": "Gz3Tk_1v2Nf2",
        "outputId": "e6d92275-16f5-47c1-a61b-28ba911bc372"
      },
      "execution_count": 54,
      "outputs": [
        {
          "output_type": "stream",
          "name": "stdout",
          "text": [
            "roc auc score: 0.8076553421213264\n",
            "roc auc score: 0.8026153641179974\n"
          ]
        }
      ]
    },
    {
      "cell_type": "code",
      "source": [
        "font = {'size' : 15}\n",
        "\n",
        "plt.rc('font', **font)\n",
        "\n",
        "cnf_matrix = confusion_matrix(y_test, y_score > thresholds[ix])\n",
        "plt.figure(figsize=(10, 8))\n",
        "plot_confusion_matrix(cnf_matrix, classes=['cardio_0', 'cardio_1'],\n",
        "                      title='Confusion matrix')\n",
        "plt.savefig(\"conf_matrix.png\")\n",
        "plt.show()"
      ],
      "metadata": {
        "colab": {
          "base_uri": "https://localhost:8080/",
          "height": 648
        },
        "id": "lNBdAJz62deN",
        "outputId": "8caf771c-9c5a-4c64-f602-fb7ad3e0ceb0"
      },
      "execution_count": 56,
      "outputs": [
        {
          "output_type": "stream",
          "name": "stdout",
          "text": [
            "Confusion matrix, without normalization\n",
            "[[4991 3829]\n",
            " [1663 7017]]\n"
          ]
        },
        {
          "output_type": "display_data",
          "data": {
            "text/plain": [
              "<Figure size 720x576 with 2 Axes>"
            ],
            "image/png": "[encoded data removed]"
          },
          "metadata": {
            "needs_background": "light"
          }
        }
      ]
    },
    {
      "cell_type": "code",
      "source": [
        "TP = cnf_matrix[1, 1]\n",
        "FP = cnf_matrix[0, 1]\n",
        "TN = cnf_matrix[0, 0]\n",
        "FN = cnf_matrix[1, 0]\n",
        "\n",
        "TP, FP, TN, FN"
      ],
      "metadata": {
        "colab": {
          "base_uri": "https://localhost:8080/"
        },
        "id": "s29h4Rc02jIs",
        "outputId": "dbe48154-3ac7-422a-8c7c-f03a8c3a7915"
      },
      "execution_count": 57,
      "outputs": [
        {
          "output_type": "execute_result",
          "data": {
            "text/plain": [
              "(7017, 3829, 4991, 1663)"
            ]
          },
          "metadata": {},
          "execution_count": 57
        }
      ]
    },
    {
      "cell_type": "code",
      "source": [
        "ML_costs = (FP * 1400) + (TP * (1400 + 15000)) + FN * 20000\n",
        "\n",
        "ML_costs"
      ],
      "metadata": {
        "colab": {
          "base_uri": "https://localhost:8080/"
        },
        "id": "no1jk-dj23H7",
        "outputId": "257a2b64-4ecd-4b54-bc1a-e70bbb47af51"
      },
      "execution_count": 58,
      "outputs": [
        {
          "output_type": "execute_result",
          "data": {
            "text/plain": [
              "153699400"
            ]
          },
          "metadata": {},
          "execution_count": 58
        }
      ]
    },
    {
      "cell_type": "code",
      "source": [
        "metrics_df = metrics_df.append({\n",
        "    'Model': type(classifier_rf['classifier_rf']).__name__,\n",
        "    'Thresh': thresholds[ix],\n",
        "    'F-Score': fscore[ix],\n",
        "    'Precision': precision[ix],\n",
        "    'Recall': recall[ix],\n",
        "    'Roc_auc': roc_auc_rf,\n",
        "    'ML_costs': ML_costs\n",
        "  }, ignore_index=True)\n",
        "\n",
        "metrics_df"
      ],
      "metadata": {
        "colab": {
          "base_uri": "https://localhost:8080/",
          "height": 143
        },
        "id": "6ODgfOxZ26Zq",
        "outputId": "0e04a9ff-a254-419c-95e7-79ea29218ad8"
      },
      "execution_count": 60,
      "outputs": [
        {
          "output_type": "execute_result",
          "data": {
            "text/plain": [
              "                        Model    Thresh   F-Score  Precision    Recall  \\\n",
              "0          LogisticRegression  0.386937  0.730323   0.647431  0.837558   \n",
              "1  GradientBoostingClassifier  0.394947  0.740248   0.697848  0.788134   \n",
              "2      RandomForestClassifier  0.350000  0.718863   0.642669  0.815553   \n",
              "\n",
              "    Roc_auc   ML_costs  \n",
              "0  0.784035  152974200  \n",
              "1  0.802615  153122800  \n",
              "2  0.771037  153699400  "
            ],
            "text/html": [
              "\n",
              "  <div id=\"df-3dc071ce-adaa-41e8-8516-d52d8418a54b\">\n",
              "    <div class=\"colab-df-container\">\n",
              "      <div>\n",
              "<style scoped>\n",
              "    .dataframe tbody tr th:only-of-type {\n",
              "        vertical-align: middle;\n",
              "    }\n",
              "\n",
              "    .dataframe tbody tr th {\n",
              "        vertical-align: top;\n",
              "    }\n",
              "\n",
              "    .dataframe thead th {\n",
              "        text-align: right;\n",
              "    }\n",
              "</style>\n",
              "<table border=\"1\" class=\"dataframe\">\n",
              "  <thead>\n",
              "    <tr style=\"text-align: right;\">\n",
              "      <th></th>\n",
              "      <th>Model</th>\n",
              "      <th>Thresh</th>\n",
              "      <th>F-Score</th>\n",
              "      <th>Precision</th>\n",
              "      <th>Recall</th>\n",
              "      <th>Roc_auc</th>\n",
              "      <th>ML_costs</th>\n",
              "    </tr>\n",
              "  </thead>\n",
              "  <tbody>\n",
              "    <tr>\n",
              "      <th>0</th>\n",
              "      <td>LogisticRegression</td>\n",
              "      <td>0.386937</td>\n",
              "      <td>0.730323</td>\n",
              "      <td>0.647431</td>\n",
              "      <td>0.837558</td>\n",
              "      <td>0.784035</td>\n",
              "      <td>152974200</td>\n",
              "    </tr>\n",
              "    <tr>\n",
              "      <th>1</th>\n",
              "      <td>GradientBoostingClassifier</td>\n",
              "      <td>0.394947</td>\n",
              "      <td>0.740248</td>\n",
              "      <td>0.697848</td>\n",
              "      <td>0.788134</td>\n",
              "      <td>0.802615</td>\n",
              "      <td>153122800</td>\n",
              "    </tr>\n",
              "    <tr>\n",
              "      <th>2</th>\n",
              "      <td>RandomForestClassifier</td>\n",
              "      <td>0.350000</td>\n",
              "      <td>0.718863</td>\n",
              "      <td>0.642669</td>\n",
              "      <td>0.815553</td>\n",
              "      <td>0.771037</td>\n",
              "      <td>153699400</td>\n",
              "    </tr>\n",
              "  </tbody>\n",
              "</table>\n",
              "</div>\n",
              "      <button class=\"colab-df-convert\" onclick=\"convertToInteractive('df-3dc071ce-adaa-41e8-8516-d52d8418a54b')\"\n",
              "              title=\"Convert this dataframe to an interactive table.\"\n",
              "              style=\"display:none;\">\n",
              "        \n",
              "  <svg xmlns=\"http://www.w3.org/2000/svg\" height=\"24px\"viewBox=\"0 0 24 24\"\n",
              "       width=\"24px\">\n",
              "    <path d=\"M0 0h24v24H0V0z\" fill=\"none\"/>\n",
              "    <path d=\"M18.56 5.44l.94 2.06.94-2.06 2.06-.94-2.06-.94-.94-2.06-.94 2.06-2.06.94zm-11 1L8.5 8.5l.94-2.06 2.06-.94-2.06-.94L8.5 2.5l-.94 2.06-2.06.94zm10 10l.94 2.06.94-2.06 2.06-.94-2.06-.94-.94-2.06-.94 2.06-2.06.94z\"/><path d=\"M17.41 7.96l-1.37-1.37c-.4-.4-.92-.59-1.43-.59-.52 0-1.04.2-1.43.59L10.3 9.45l-7.72 7.72c-.78.78-.78 2.05 0 2.83L4 21.41c.39.39.9.59 1.41.59.51 0 1.02-.2 1.41-.59l7.78-7.78 2.81-2.81c.8-.78.8-2.07 0-2.86zM5.41 20L4 18.59l7.72-7.72 1.47 1.35L5.41 20z\"/>\n",
              "  </svg>\n",
              "      </button>\n",
              "      \n",
              "  <style>\n",
              "    .colab-df-container {\n",
              "      display:flex;\n",
              "      flex-wrap:wrap;\n",
              "      gap: 12px;\n",
              "    }\n",
              "\n",
              "    .colab-df-convert {\n",
              "      background-color: #E8F0FE;\n",
              "      border: none;\n",
              "      border-radius: 50%;\n",
              "      cursor: pointer;\n",
              "      display: none;\n",
              "      fill: #1967D2;\n",
              "      height: 32px;\n",
              "      padding: 0 0 0 0;\n",
              "      width: 32px;\n",
              "    }\n",
              "\n",
              "    .colab-df-convert:hover {\n",
              "      background-color: #E2EBFA;\n",
              "      box-shadow: 0px 1px 2px rgba(60, 64, 67, 0.3), 0px 1px 3px 1px rgba(60, 64, 67, 0.15);\n",
              "      fill: #174EA6;\n",
              "    }\n",
              "\n",
              "    [theme=dark] .colab-df-convert {\n",
              "      background-color: #3B4455;\n",
              "      fill: #D2E3FC;\n",
              "    }\n",
              "\n",
              "    [theme=dark] .colab-df-convert:hover {\n",
              "      background-color: #434B5C;\n",
              "      box-shadow: 0px 1px 3px 1px rgba(0, 0, 0, 0.15);\n",
              "      filter: drop-shadow(0px 1px 2px rgba(0, 0, 0, 0.3));\n",
              "      fill: #FFFFFF;\n",
              "    }\n",
              "  </style>\n",
              "\n",
              "      <script>\n",
              "        const buttonEl =\n",
              "          document.querySelector('#df-3dc071ce-adaa-41e8-8516-d52d8418a54b button.colab-df-convert');\n",
              "        buttonEl.style.display =\n",
              "          google.colab.kernel.accessAllowed ? 'block' : 'none';\n",
              "\n",
              "        async function convertToInteractive(key) {\n",
              "          const element = document.querySelector('#df-3dc071ce-adaa-41e8-8516-d52d8418a54b');\n",
              "          const dataTable =\n",
              "            await google.colab.kernel.invokeFunction('convertToInteractive',\n",
              "                                                     [key], {});\n",
              "          if (!dataTable) return;\n",
              "\n",
              "          const docLinkHtml = 'Like what you see? Visit the ' +\n",
              "            '<a target=\"_blank\" href=https://colab.research.google.com/notebooks/data_table.ipynb>data table notebook</a>'\n",
              "            + ' to learn more about interactive tables.';\n",
              "          element.innerHTML = '';\n",
              "          dataTable['output_type'] = 'display_data';\n",
              "          await google.colab.output.renderOutput(dataTable, element);\n",
              "          const docLink = document.createElement('div');\n",
              "          docLink.innerHTML = docLinkHtml;\n",
              "          element.appendChild(docLink);\n",
              "        }\n",
              "      </script>\n",
              "    </div>\n",
              "  </div>\n",
              "  "
            ]
          },
          "metadata": {},
          "execution_count": 60
        }
      ]
    },
    {
      "cell_type": "markdown",
      "source": [
        "**Выводы**\n",
        "\n",
        "Попробуем сделать выводы о том, какая модель справилась с задачей лучше других:\n",
        "\n",
        "С точки зрения DS-метрик лучший результат показала модель GradientBoostingClassifier:\n",
        "\n",
        "\n",
        "0.740248\t0.697848\t0.788134\t0.802615\n",
        "\n",
        "С точки зрения затрат на обследование и лечение лучший (наименьший) результат у модели LogisticRegression: \n",
        "\n",
        "152974200\n",
        "\n",
        "Думаю так получилось потому, что стоимость разных видов обследования и лечения разная и LR показала наименьший результат FalseNegative, которые в итоге имеют самое дорогое лечение. Так как таких случаем меньше, это уменьшило общие затраты. \n"
      ],
      "metadata": {
        "id": "qzvXKkI23MHT"
      }
    },
    {
      "cell_type": "markdown",
      "source": [
        "###Вопрос 5"
      ],
      "metadata": {
        "id": "Ggv6rwL_8YPn"
      }
    },
    {
      "cell_type": "markdown",
      "source": [
        "5. (опциональный вопрос) какая метрика (precision_recall_curve или roc_auc_curve) больше подходит в случае сильного дисбаланса классов? (когда объектов одного из классов намного больше чем другого). \n",
        "\n",
        "p.s.В вопросе проще разобраться, если вспомнить оси на графике roc auc curve и рассмотреть такой пример:\n",
        "\n",
        "Имеется 100000 объектов, из которых только 100 - класс \"1\" (99900 - класс \"0\", соответственно). \n",
        "Допустим, у нас две модели:\n",
        "\n",
        "- первая помечает 100 объектов как класс 1, но TP = 90\n",
        "- вторая помечает 1000 объектов как класс 1, но TP такой же - 90\n",
        "\n",
        "Какая модель лучше и почему? И что позволяет легче сделать вывод - roc_auc_curve или precision_recall_curve?"
      ],
      "metadata": {
        "id": "UaIwqqnW4hLP"
      }
    },
    {
      "cell_type": "code",
      "source": [
        "total = 100000\n",
        "cl_1 =  100\n",
        "cl_0 = 99900\n",
        "\n",
        "#Модель 1\n",
        "\n",
        "m_1_chosen = 100\n",
        "m_1_TP = 90\n",
        "m_1_TN = 99890\n",
        "m_1_FP = 10\n",
        "m_1_FN = 10\n",
        "\n",
        "#Модель 2\n",
        "#вторая помечает 1000 объектов как класс 1, но TP такой же - 90\n",
        "\n",
        "m_2_chosen = 1000\n",
        "m_2_TP = 90\n",
        "m_2_TN = 98990\n",
        "m_2_FP = 910\n",
        "m_2_FN = 10"
      ],
      "metadata": {
        "id": "4VUuIcFq4YmT"
      },
      "execution_count": 61,
      "outputs": []
    },
    {
      "cell_type": "markdown",
      "source": [
        "<center>$\\large precision = \\LARGE \\frac{TP}{TP \\: + \\: FP} \\:\\:\\:\\:\\: \\large recall = \\LARGE \\frac{TP}{TP \\: + \\: FN}$<center>"
      ],
      "metadata": {
        "id": "eLqb_C8z-fD4"
      }
    },
    {
      "cell_type": "code",
      "source": [
        "precision_m_1 = m_1_TP / (m_1_TP + m_1_FP)\n",
        "precision_m_1"
      ],
      "metadata": {
        "colab": {
          "base_uri": "https://localhost:8080/"
        },
        "id": "3OQ9TAg291Vq",
        "outputId": "d05c5289-e00e-4c0f-b2fb-1b16a39e19a0"
      },
      "execution_count": 63,
      "outputs": [
        {
          "output_type": "execute_result",
          "data": {
            "text/plain": [
              "0.9"
            ]
          },
          "metadata": {},
          "execution_count": 63
        }
      ]
    },
    {
      "cell_type": "code",
      "source": [
        "recall_m_1 = m_1_TP / (m_1_TP + m_1_FN)\n",
        "recall_m_1"
      ],
      "metadata": {
        "colab": {
          "base_uri": "https://localhost:8080/"
        },
        "id": "pySqgNJE-heY",
        "outputId": "99ec87da-fcf0-473b-ee91-641fb3f17ec7"
      },
      "execution_count": 64,
      "outputs": [
        {
          "output_type": "execute_result",
          "data": {
            "text/plain": [
              "0.9"
            ]
          },
          "metadata": {},
          "execution_count": 64
        }
      ]
    },
    {
      "cell_type": "code",
      "source": [
        "b = 1\n",
        "fscore_m_1 = (1 +b**2) * (precision_m_1 * recall_m_1) / (b**2 * precision_m_1 + recall_m_1)\n",
        "fscore_m_1"
      ],
      "metadata": {
        "colab": {
          "base_uri": "https://localhost:8080/"
        },
        "id": "BEy4T2Hn-WSj",
        "outputId": "2d0fd668-f2de-4018-fd01-8e9e16544d04"
      },
      "execution_count": 66,
      "outputs": [
        {
          "output_type": "execute_result",
          "data": {
            "text/plain": [
              "0.9"
            ]
          },
          "metadata": {},
          "execution_count": 66
        }
      ]
    },
    {
      "cell_type": "code",
      "source": [
        "#Во второй модели precision хуже в 10 раз, а recall такой же\n",
        "precision_m_2 = m_2_TP / (m_2_TP + m_2_FP)\n",
        "\n",
        "recall_m_2 = m_2_TP / (m_2_TP + m_2_FN)\n",
        "\n",
        "precision_m_2, recall_m_2"
      ],
      "metadata": {
        "colab": {
          "base_uri": "https://localhost:8080/"
        },
        "id": "pMp-w65x-2qK",
        "outputId": "9abf0dc4-e112-4f7f-8a6d-1157925fdb79"
      },
      "execution_count": 67,
      "outputs": [
        {
          "output_type": "execute_result",
          "data": {
            "text/plain": [
              "(0.09, 0.9)"
            ]
          },
          "metadata": {},
          "execution_count": 67
        }
      ]
    },
    {
      "cell_type": "code",
      "source": [
        "#fscore тоже гораздо хуже \n",
        "b = 1\n",
        "fscore_m_2 = (1 +b**2) * (precision_m_2 * recall_m_2) / (b**2 * precision_m_2 + recall_m_2)\n",
        "fscore_m_2"
      ],
      "metadata": {
        "colab": {
          "base_uri": "https://localhost:8080/"
        },
        "id": "WB8Cxc5O_Rvu",
        "outputId": "2d809755-6561-4df5-a88d-d966f5a6b6aa"
      },
      "execution_count": 68,
      "outputs": [
        {
          "output_type": "execute_result",
          "data": {
            "text/plain": [
              "0.16363636363636364"
            ]
          },
          "metadata": {},
          "execution_count": 68
        }
      ]
    },
    {
      "cell_type": "markdown",
      "source": [
        "**PR-кривая**"
      ],
      "metadata": {
        "id": "oX8HPRc48jGW"
      }
    },
    {
      "cell_type": "markdown",
      "source": [
        "Графичекая характеристика качества бинарного классификатора, отображает зависимость изменения точности алгоритма от его полноты.\n",
        "\n",
        "Таким образом pr-кривая учитывает и характеристики точности, и полноты (которые гораздо хуже у второй модели)"
      ],
      "metadata": {
        "id": "4z_1ajr48kCm"
      }
    },
    {
      "cell_type": "markdown",
      "source": [
        "Пример изображения\n",
        "\n",
        "<img src=\"https://drive.google.com/uc?id=1rsv2T7GAJ_WlwLAVjuWVER8v4LCu_gyX\">"
      ],
      "metadata": {
        "id": "5Q63iV11_yS1"
      }
    },
    {
      "cell_type": "markdown",
      "source": [
        "**ROC-кривая + ROC-AUC**"
      ],
      "metadata": {
        "id": "4NNacMvbACR1"
      }
    },
    {
      "cell_type": "markdown",
      "source": [
        "Графичекая характеристика качества бинарного классификатора, отображает зависимость доли верных положительных классификаций *True Positive Rate (TPR)* от доли ложных положительных классификаций *False Positive Rate (FPR)*."
      ],
      "metadata": {
        "id": "cJe2Xb0KAHbp"
      }
    },
    {
      "cell_type": "markdown",
      "source": [
        "Пример изображения \n",
        "\n",
        "<img src=\"https://drive.google.com/uc?id=13Wiu3kwC2dUudllku3Q4zpr3YpK4_ICg\">"
      ],
      "metadata": {
        "id": "XsHEZwiGAN5q"
      }
    },
    {
      "cell_type": "markdown",
      "source": [
        "Посчитаем TPR и FPR для обеиих моделей"
      ],
      "metadata": {
        "id": "joA_nk39AYUk"
      }
    },
    {
      "cell_type": "markdown",
      "source": [
        "<center>$\\large TPR = \\LARGE \\frac{TP}{TP \\: + \\: FN} \\:\\:\\:\\:\\: \\large FPR = \\LARGE \\frac{FP}{FP \\: + \\: TN}$<center>"
      ],
      "metadata": {
        "id": "_TO4tA2-AKzr"
      }
    },
    {
      "cell_type": "code",
      "source": [
        "#Модель 1\n",
        "\n",
        "TPR_m_1  =  recall_m_1\n",
        "\n",
        "FPR_m_1 = m_1_FP / (m_1_FP + m_1_TN)\n",
        "\n",
        "TPR_m_1, FPR_m_1"
      ],
      "metadata": {
        "colab": {
          "base_uri": "https://localhost:8080/"
        },
        "id": "kUic9WFX_xdV",
        "outputId": "b9493c42-dcb4-4943-eb99-bbf8d6b2f915"
      },
      "execution_count": 69,
      "outputs": [
        {
          "output_type": "execute_result",
          "data": {
            "text/plain": [
              "(0.9, 0.0001001001001001001)"
            ]
          },
          "metadata": {},
          "execution_count": 69
        }
      ]
    },
    {
      "cell_type": "code",
      "source": [
        "#Модель 2\n",
        "\n",
        "TPR_m_2  =  recall_m_2\n",
        "\n",
        "FPR_m_2 = m_2_FP / (m_2_FP + m_2_TN)\n",
        "\n",
        "TPR_m_2, FPR_m_2"
      ],
      "metadata": {
        "colab": {
          "base_uri": "https://localhost:8080/"
        },
        "id": "tok-C1ByA5oe",
        "outputId": "41f15ff6-f646-48a4-daba-d9b198058de9"
      },
      "execution_count": 70,
      "outputs": [
        {
          "output_type": "execute_result",
          "data": {
            "text/plain": [
              "(0.9, 0.00910910910910911)"
            ]
          },
          "metadata": {},
          "execution_count": 70
        }
      ]
    },
    {
      "cell_type": "markdown",
      "source": [
        "Реальные графики к сожалению не сможем построить, так как они строятся с перемещением thresholds и изменения параметров, а в данной задаче даны только результаты. \n",
        "\n",
        "И всё же понятно, что при небаллансированной выборке больше подходит pr-кривая, которая учитывает, как precision, так и recall \n",
        "\n",
        "В то время как roc-кривая учитывает recall и не учитывает precision (то есть ошибки FP - сколько неверно нашли 1 класс). \n",
        "\n",
        "Так же с помощью f-меры хорошо видно, что гораздо лучше 1я модель. "
      ],
      "metadata": {
        "id": "_b1hgn-EBPq9"
      }
    }
  ]
}