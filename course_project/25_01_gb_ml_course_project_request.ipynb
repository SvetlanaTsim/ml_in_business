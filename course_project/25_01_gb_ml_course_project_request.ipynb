{
  "nbformat": 4,
  "nbformat_minor": 0,
  "metadata": {
    "colab": {
      "provenance": [],
      "authorship_tag": "ABX9TyM08jpwxi30LY0IpL/yUfXM",
      "include_colab_link": true
    },
    "kernelspec": {
      "name": "python3",
      "display_name": "Python 3"
    },
    "language_info": {
      "name": "python"
    }
  },
  "cells": [
    {
      "cell_type": "markdown",
      "metadata": {
        "id": "view-in-github",
        "colab_type": "text"
      },
      "source": [
        "<a href=\"https://colab.research.google.com/github/SvetlanaTsim/ml_in_business/blob/main/course_project/25_01_gb_ml_course_project_request.ipynb\" target=\"_parent\"><img src=\"https://colab.research.google.com/assets/colab-badge.svg\" alt=\"Open In Colab\"/></a>"
      ]
    },
    {
      "cell_type": "markdown",
      "source": [
        "Строим запрос к нашему сервису"
      ],
      "metadata": {
        "id": "70dMrGVNFM-6"
      }
    },
    {
      "cell_type": "code",
      "source": [
        "import requests\n",
        "\n",
        "import urllib.request\n",
        "import json "
      ],
      "metadata": {
        "id": "UvEw6FC_FU-x"
      },
      "execution_count": null,
      "outputs": []
    },
    {
      "cell_type": "code",
      "source": [
        "# Пример данных\n",
        "data  = {'gender': 'Male',\n",
        " 'MultipleLines': 'No',\n",
        " 'InternetService': 'DSL',\n",
        " 'OnlineSecurity': 'No',\n",
        " 'OnlineBackup': 'No',\n",
        " 'DeviceProtection': 'No',\n",
        " 'TechSupport': 'No',\n",
        " 'StreamingTV': 'Yes',\n",
        " 'StreamingMovies': 'No',\n",
        " 'Contract': 'Month-to-month',\n",
        " 'PaymentMethod': 'Electronic check',\n",
        " 'tenure': 1,\n",
        " 'MonthlyCharges': 59.85,\n",
        " 'SeniorCitizen': 0,\n",
        " 'Partner': 'No',\n",
        " 'Dependents': 'No',\n",
        " 'PhoneService': 'Yes',\n",
        " 'PaperlessBilling': 'Yes'}"
      ],
      "metadata": {
        "id": "mRy7NUmNFY2A"
      },
      "execution_count": null,
      "outputs": []
    },
    {
      "cell_type": "code",
      "source": [
        "# from pprint import pprint\n",
        "# # формируем запрос\n",
        "# def send_json(x):\n",
        "#     pprint(x)\n",
        "#     body = x    \n",
        "#     myurl = 'http://6a55-35-233-210-113.ngrok.io' + '/predict'\n",
        "#     headers = {'content-type': 'application/json; charset=utf-8'}\n",
        "#     response = requests.post(myurl, json=body, headers=headers)\n",
        "#     return response.json()['predictions']"
      ],
      "metadata": {
        "id": "_h2SWvZZFnnQ"
      },
      "execution_count": null,
      "outputs": []
    },
    {
      "cell_type": "code",
      "source": [
        "# формируем запрос\n",
        "def send_json(x):\n",
        "    gender, multiple_lines, internet_service, online_security, online_backup, device_protection, tech_support, streaming_tv, streaming_movies, contract, payment_method, tenure, monthly_charges, senior_citizen, partner, dependents, phone_service, paperless_billing  = x\n",
        "# gender               object\n",
        "# MultipleLines        object\n",
        "# InternetService      object\n",
        "# OnlineSecurity       object\n",
        "# OnlineBackup         object\n",
        "# DeviceProtection     object\n",
        "# TechSupport          object\n",
        "# StreamingTV          object\n",
        "# StreamingMovies      object\n",
        "# Contract             object\n",
        "# PaymentMethod        object\n",
        "# PhoneService         object\n",
        "# PaperlessBilling     object\n",
        "# tenure                int64\n",
        "# MonthlyCharges      float64\n",
        "# SeniorCitizen         int64\n",
        "# Partner              object\n",
        "# Dependents           object\n",
        "# dtype: object\n",
        "    body = {'gender': str(gender),\n",
        "            'MultipleLines': str(multiple_lines),\n",
        "            'InternetService': str(internet_service),\n",
        "            'OnlineSecurity': str(online_security),\n",
        "            'OnlineBackup': str(online_backup),\n",
        "            'DeviceProtection': str(device_protection),\n",
        "            'TechSupport': str(tech_support),\n",
        "            'StreamingTV': str(streaming_tv),\n",
        "            'StreamingMovies': str(streaming_movies),\n",
        "            'Contract': str(contract),\n",
        "            'PaymentMethod': str(payment_method),\n",
        "            'tenure': int(tenure),\n",
        "            'MonthlyCharges': float(monthly_charges),\n",
        "            'SeniorCitizen': int(senior_citizen),\n",
        "            'Partner': str(partner),\n",
        "            'Dependents': str(dependents),\n",
        "            'PhoneService': str(phone_service),\n",
        "            'PaperlessBilling': str(paperless_billing),\n",
        "            }\n",
        "    myurl = 'http://24d8-35-233-210-113.ngrok.io' + '/predict'\n",
        "    headers = {'content-type': 'application/json; charset=utf-8'}\n",
        "    response = requests.post(myurl, json=body, headers=headers)\n",
        "    return response.json()['predictions']"
      ],
      "metadata": {
        "id": "hqJS_0h5Of1O"
      },
      "execution_count": null,
      "outputs": []
    },
    {
      "cell_type": "code",
      "source": [
        "# Пример данных\n",
        "data  = ('Male',\n",
        "'No',\n",
        "'DSL',\n",
        "'No',\n",
        "'No',\n",
        "'No',\n",
        "'No',\n",
        "'Yes',\n",
        "'No',\n",
        "'Month-to-month',\n",
        "'Electronic check',\n",
        "1,\n",
        "59.85,\n",
        "0,\n",
        "'No',\n",
        "'No',\n",
        "'Yes',\n",
        "'Yes')"
      ],
      "metadata": {
        "id": "sFpauVltQCvX"
      },
      "execution_count": null,
      "outputs": []
    },
    {
      "cell_type": "code",
      "source": [
        "# обращение к серверу с запросом из одного набора (его построили руками выше - data)\n",
        "response = send_json(data)\n",
        "print('предсказание', response)"
      ],
      "metadata": {
        "colab": {
          "base_uri": "https://localhost:8080/"
        },
        "id": "iqvYDVUYQg0-",
        "outputId": "9bb9e817-8770-456b-fddf-7ef735cd4c70"
      },
      "execution_count": null,
      "outputs": [
        {
          "output_type": "stream",
          "name": "stdout",
          "text": [
            "предсказание 0.26\n"
          ]
        }
      ]
    },
    {
      "cell_type": "markdown",
      "source": [
        "Сделаем обработку массы запросов:\n",
        "\n",
        "загрузим данные X_test\n",
        "https://drive.google.com/file/d/1ztc0UjpO_w-IIfyi2qKdc2cLJaw72P5w/view?usp=sharing\n",
        "\n",
        "y_test\n",
        "https://drive.google.com/file/d/1H7UABuFhTyAPuoq9hoZL5ZJ1TE5wAtVG/view?usp=sharing"
      ],
      "metadata": {
        "id": "OHL2ubf7HOJP"
      }
    },
    {
      "cell_type": "code",
      "source": [
        "!wget 'https://drive.google.com/uc?export=download&id=1ztc0UjpO_w-IIfyi2qKdc2cLJaw72P5w' -O X_test.csv\n",
        "!wget 'https://drive.google.com/uc?export=download&id=1H7UABuFhTyAPuoq9hoZL5ZJ1TE5wAtVG' -O y_test.csv"
      ],
      "metadata": {
        "colab": {
          "base_uri": "https://localhost:8080/"
        },
        "id": "qdNk2PTHHnGO",
        "outputId": "f86aaf25-e153-449d-d90d-17d2fd19c17e"
      },
      "execution_count": null,
      "outputs": [
        {
          "output_type": "stream",
          "name": "stdout",
          "text": [
            "--2023-01-25 10:48:21--  https://drive.google.com/uc?export=download&id=1ztc0UjpO_w-IIfyi2qKdc2cLJaw72P5w\n",
            "Resolving drive.google.com (drive.google.com)... 108.177.12.139, 108.177.12.138, 108.177.12.101, ...\n",
            "Connecting to drive.google.com (drive.google.com)|108.177.12.139|:443... connected.\n",
            "HTTP request sent, awaiting response... 303 See Other\n",
            "Location: https://doc-10-bs-docs.googleusercontent.com/docs/securesc/ha0ro937gcuc7l7deffksulhg5h7mbp1/pgv1kf2ks705cjj5h7d7b6g23cflkr2i/1674643650000/04420567413078840451/*/1ztc0UjpO_w-IIfyi2qKdc2cLJaw72P5w?e=download&uuid=783421ce-4200-4deb-a6a9-9b29b6957df1 [following]\n",
            "Warning: wildcards not supported in HTTP.\n",
            "--2023-01-25 10:48:21--  https://doc-10-bs-docs.googleusercontent.com/docs/securesc/ha0ro937gcuc7l7deffksulhg5h7mbp1/pgv1kf2ks705cjj5h7d7b6g23cflkr2i/1674643650000/04420567413078840451/*/1ztc0UjpO_w-IIfyi2qKdc2cLJaw72P5w?e=download&uuid=783421ce-4200-4deb-a6a9-9b29b6957df1\n",
            "Resolving doc-10-bs-docs.googleusercontent.com (doc-10-bs-docs.googleusercontent.com)... 173.194.211.132, 2607:f8b0:400c:c10::84\n",
            "Connecting to doc-10-bs-docs.googleusercontent.com (doc-10-bs-docs.googleusercontent.com)|173.194.211.132|:443... connected.\n",
            "HTTP request sent, awaiting response... 200 OK\n",
            "Length: 337201 (329K) [text/csv]\n",
            "Saving to: ‘X_test.csv’\n",
            "\n",
            "X_test.csv          100%[===================>] 329.30K  --.-KB/s    in 0.002s  \n",
            "\n",
            "2023-01-25 10:48:21 (132 MB/s) - ‘X_test.csv’ saved [337201/337201]\n",
            "\n",
            "--2023-01-25 10:48:21--  https://drive.google.com/uc?export=download&id=1H7UABuFhTyAPuoq9hoZL5ZJ1TE5wAtVG\n",
            "Resolving drive.google.com (drive.google.com)... 108.177.12.139, 108.177.12.138, 108.177.12.101, ...\n",
            "Connecting to drive.google.com (drive.google.com)|108.177.12.139|:443... connected.\n",
            "HTTP request sent, awaiting response... 303 See Other\n",
            "Location: https://doc-08-bs-docs.googleusercontent.com/docs/securesc/ha0ro937gcuc7l7deffksulhg5h7mbp1/0pg74o92vqgeeops4s5cpui6o8bp8hta/1674643650000/04420567413078840451/*/1H7UABuFhTyAPuoq9hoZL5ZJ1TE5wAtVG?e=download&uuid=a07f81fa-f721-4f87-9169-10085646b0a1 [following]\n",
            "Warning: wildcards not supported in HTTP.\n",
            "--2023-01-25 10:48:22--  https://doc-08-bs-docs.googleusercontent.com/docs/securesc/ha0ro937gcuc7l7deffksulhg5h7mbp1/0pg74o92vqgeeops4s5cpui6o8bp8hta/1674643650000/04420567413078840451/*/1H7UABuFhTyAPuoq9hoZL5ZJ1TE5wAtVG?e=download&uuid=a07f81fa-f721-4f87-9169-10085646b0a1\n",
            "Resolving doc-08-bs-docs.googleusercontent.com (doc-08-bs-docs.googleusercontent.com)... 173.194.211.132, 2607:f8b0:400c:c10::84\n",
            "Connecting to doc-08-bs-docs.googleusercontent.com (doc-08-bs-docs.googleusercontent.com)|173.194.211.132|:443... connected.\n",
            "HTTP request sent, awaiting response... 200 OK\n",
            "Length: 5180 (5.1K) [text/csv]\n",
            "Saving to: ‘y_test.csv’\n",
            "\n",
            "y_test.csv          100%[===================>]   5.06K  --.-KB/s    in 0s      \n",
            "\n",
            "2023-01-25 10:48:22 (44.2 MB/s) - ‘y_test.csv’ saved [5180/5180]\n",
            "\n"
          ]
        }
      ]
    },
    {
      "cell_type": "code",
      "source": [
        "import pandas as pd\n",
        "from sklearn.metrics import roc_auc_score, roc_curve, precision_recall_curve\n",
        "from sklearn.metrics import f1_score\n",
        "from urllib import request, parse\n",
        "\n",
        "\n",
        "X_test = pd.read_csv(\"X_test.csv\", sep = ',')\n",
        "y_test = pd.read_csv(\"y_test.csv\", sep = ',')"
      ],
      "metadata": {
        "id": "oLoocfNoIpav"
      },
      "execution_count": null,
      "outputs": []
    },
    {
      "cell_type": "code",
      "source": [
        "categorical_columns = ['gender', 'MultipleLines', 'InternetService', 'OnlineSecurity',  'OnlineBackup', 'DeviceProtection', 'TechSupport', 'StreamingTV', \n",
        "                       'StreamingMovies', 'Contract', 'PaymentMethod', 'PhoneService', 'PaperlessBilling', 'SeniorCitizen', 'Partner', 'Dependents']\n",
        "continuous_columns = ['tenure', 'MonthlyCharges', ]\n",
        "# binary_columns = ['SeniorCitizen', 'Partner', 'Dependents']\n",
        "\n",
        "features = categorical_columns + continuous_columns\n",
        "features"
      ],
      "metadata": {
        "colab": {
          "base_uri": "https://localhost:8080/"
        },
        "id": "Qncwy0NSJIDc",
        "outputId": "fc0c3a54-d425-4d2b-e21e-134d05afd203"
      },
      "execution_count": null,
      "outputs": [
        {
          "output_type": "execute_result",
          "data": {
            "text/plain": [
              "['gender',\n",
              " 'MultipleLines',\n",
              " 'InternetService',\n",
              " 'OnlineSecurity',\n",
              " 'OnlineBackup',\n",
              " 'DeviceProtection',\n",
              " 'TechSupport',\n",
              " 'StreamingTV',\n",
              " 'StreamingMovies',\n",
              " 'Contract',\n",
              " 'PaymentMethod',\n",
              " 'PhoneService',\n",
              " 'PaperlessBilling',\n",
              " 'SeniorCitizen',\n",
              " 'Partner',\n",
              " 'Dependents',\n",
              " 'tenure',\n",
              " 'MonthlyCharges',\n",
              " 'SeniorCitizen',\n",
              " 'Partner',\n",
              " 'Dependents']"
            ]
          },
          "metadata": {},
          "execution_count": 144
        }
      ]
    },
    {
      "cell_type": "code",
      "source": [
        "X_test.head(10)"
      ],
      "metadata": {
        "colab": {
          "base_uri": "https://localhost:8080/",
          "height": 601
        },
        "id": "_Y0cHALUJP_F",
        "outputId": "309fa45b-4a59-495e-cdfa-9077d8b1b4b0"
      },
      "execution_count": null,
      "outputs": [
        {
          "output_type": "execute_result",
          "data": {
            "text/plain": [
              "   customerID  gender  SeniorCitizen Partner Dependents  tenure PhoneService  \\\n",
              "0  3877-JRJIP    Male              0      No         No       1          Yes   \n",
              "1  5025-GOOKI  Female              0      No         No      20          Yes   \n",
              "2  9894-EZEWG  Female              0      No         No       1          Yes   \n",
              "3  2672-OJQZP  Female              0      No         No       1          Yes   \n",
              "4  3733-UOCWF    Male              1     Yes         No      61          Yes   \n",
              "5  9444-JTXHZ    Male              0     Yes         No       1          Yes   \n",
              "6  5955-EPOAZ  Female              0      No         No       6          Yes   \n",
              "7  2988-GBIVW  Female              1     Yes         No      70          Yes   \n",
              "8  4817-QRJSX  Female              0      No         No      10          Yes   \n",
              "9  9124-LHCJQ  Female              0      No         No       1          Yes   \n",
              "\n",
              "  MultipleLines InternetService       OnlineSecurity         OnlineBackup  \\\n",
              "0           Yes             DSL                   No                   No   \n",
              "1            No              No  No internet service  No internet service   \n",
              "2            No     Fiber optic                   No                  Yes   \n",
              "3            No             DSL                   No                   No   \n",
              "4           Yes     Fiber optic                   No                  Yes   \n",
              "5            No     Fiber optic                   No                   No   \n",
              "6            No              No  No internet service  No internet service   \n",
              "7           Yes     Fiber optic                  Yes                   No   \n",
              "8           Yes     Fiber optic                   No                  Yes   \n",
              "9           Yes     Fiber optic                   No                   No   \n",
              "\n",
              "      DeviceProtection          TechSupport          StreamingTV  \\\n",
              "0                   No                   No                  Yes   \n",
              "1  No internet service  No internet service  No internet service   \n",
              "2                   No                   No                   No   \n",
              "3                   No                   No                   No   \n",
              "4                   No                  Yes                   No   \n",
              "5                  Yes                   No                   No   \n",
              "6  No internet service  No internet service  No internet service   \n",
              "7                   No                   No                   No   \n",
              "8                   No                   No                   No   \n",
              "9                   No                   No                   No   \n",
              "\n",
              "       StreamingMovies        Contract PaperlessBilling  \\\n",
              "0                   No  Month-to-month              Yes   \n",
              "1  No internet service  Month-to-month              Yes   \n",
              "2                   No  Month-to-month              Yes   \n",
              "3                   No  Month-to-month               No   \n",
              "4                   No        One year              Yes   \n",
              "5                   No  Month-to-month               No   \n",
              "6  No internet service  Month-to-month              Yes   \n",
              "7                  Yes  Month-to-month              Yes   \n",
              "8                   No  Month-to-month              Yes   \n",
              "9                  Yes  Month-to-month              Yes   \n",
              "\n",
              "               PaymentMethod  MonthlyCharges TotalCharges  \n",
              "0           Electronic check           59.85        59.85  \n",
              "1    Credit card (automatic)           18.90       347.65  \n",
              "2    Credit card (automatic)           74.30         74.3  \n",
              "3               Mailed check           44.75        44.75  \n",
              "4  Bank transfer (automatic)           85.55      5251.75  \n",
              "5           Electronic check           76.20         76.2  \n",
              "6               Mailed check           20.95        109.5  \n",
              "7           Electronic check           90.85       6470.1  \n",
              "8    Credit card (automatic)           81.00       818.05  \n",
              "9               Mailed check           85.45        85.45  "
            ],
            "text/html": [
              "\n",
              "  <div id=\"df-371c8b23-d965-4ea7-b1b0-21ae0e852b6c\">\n",
              "    <div class=\"colab-df-container\">\n",
              "      <div>\n",
              "<style scoped>\n",
              "    .dataframe tbody tr th:only-of-type {\n",
              "        vertical-align: middle;\n",
              "    }\n",
              "\n",
              "    .dataframe tbody tr th {\n",
              "        vertical-align: top;\n",
              "    }\n",
              "\n",
              "    .dataframe thead th {\n",
              "        text-align: right;\n",
              "    }\n",
              "</style>\n",
              "<table border=\"1\" class=\"dataframe\">\n",
              "  <thead>\n",
              "    <tr style=\"text-align: right;\">\n",
              "      <th></th>\n",
              "      <th>customerID</th>\n",
              "      <th>gender</th>\n",
              "      <th>SeniorCitizen</th>\n",
              "      <th>Partner</th>\n",
              "      <th>Dependents</th>\n",
              "      <th>tenure</th>\n",
              "      <th>PhoneService</th>\n",
              "      <th>MultipleLines</th>\n",
              "      <th>InternetService</th>\n",
              "      <th>OnlineSecurity</th>\n",
              "      <th>OnlineBackup</th>\n",
              "      <th>DeviceProtection</th>\n",
              "      <th>TechSupport</th>\n",
              "      <th>StreamingTV</th>\n",
              "      <th>StreamingMovies</th>\n",
              "      <th>Contract</th>\n",
              "      <th>PaperlessBilling</th>\n",
              "      <th>PaymentMethod</th>\n",
              "      <th>MonthlyCharges</th>\n",
              "      <th>TotalCharges</th>\n",
              "    </tr>\n",
              "  </thead>\n",
              "  <tbody>\n",
              "    <tr>\n",
              "      <th>0</th>\n",
              "      <td>3877-JRJIP</td>\n",
              "      <td>Male</td>\n",
              "      <td>0</td>\n",
              "      <td>No</td>\n",
              "      <td>No</td>\n",
              "      <td>1</td>\n",
              "      <td>Yes</td>\n",
              "      <td>Yes</td>\n",
              "      <td>DSL</td>\n",
              "      <td>No</td>\n",
              "      <td>No</td>\n",
              "      <td>No</td>\n",
              "      <td>No</td>\n",
              "      <td>Yes</td>\n",
              "      <td>No</td>\n",
              "      <td>Month-to-month</td>\n",
              "      <td>Yes</td>\n",
              "      <td>Electronic check</td>\n",
              "      <td>59.85</td>\n",
              "      <td>59.85</td>\n",
              "    </tr>\n",
              "    <tr>\n",
              "      <th>1</th>\n",
              "      <td>5025-GOOKI</td>\n",
              "      <td>Female</td>\n",
              "      <td>0</td>\n",
              "      <td>No</td>\n",
              "      <td>No</td>\n",
              "      <td>20</td>\n",
              "      <td>Yes</td>\n",
              "      <td>No</td>\n",
              "      <td>No</td>\n",
              "      <td>No internet service</td>\n",
              "      <td>No internet service</td>\n",
              "      <td>No internet service</td>\n",
              "      <td>No internet service</td>\n",
              "      <td>No internet service</td>\n",
              "      <td>No internet service</td>\n",
              "      <td>Month-to-month</td>\n",
              "      <td>Yes</td>\n",
              "      <td>Credit card (automatic)</td>\n",
              "      <td>18.90</td>\n",
              "      <td>347.65</td>\n",
              "    </tr>\n",
              "    <tr>\n",
              "      <th>2</th>\n",
              "      <td>9894-EZEWG</td>\n",
              "      <td>Female</td>\n",
              "      <td>0</td>\n",
              "      <td>No</td>\n",
              "      <td>No</td>\n",
              "      <td>1</td>\n",
              "      <td>Yes</td>\n",
              "      <td>No</td>\n",
              "      <td>Fiber optic</td>\n",
              "      <td>No</td>\n",
              "      <td>Yes</td>\n",
              "      <td>No</td>\n",
              "      <td>No</td>\n",
              "      <td>No</td>\n",
              "      <td>No</td>\n",
              "      <td>Month-to-month</td>\n",
              "      <td>Yes</td>\n",
              "      <td>Credit card (automatic)</td>\n",
              "      <td>74.30</td>\n",
              "      <td>74.3</td>\n",
              "    </tr>\n",
              "    <tr>\n",
              "      <th>3</th>\n",
              "      <td>2672-OJQZP</td>\n",
              "      <td>Female</td>\n",
              "      <td>0</td>\n",
              "      <td>No</td>\n",
              "      <td>No</td>\n",
              "      <td>1</td>\n",
              "      <td>Yes</td>\n",
              "      <td>No</td>\n",
              "      <td>DSL</td>\n",
              "      <td>No</td>\n",
              "      <td>No</td>\n",
              "      <td>No</td>\n",
              "      <td>No</td>\n",
              "      <td>No</td>\n",
              "      <td>No</td>\n",
              "      <td>Month-to-month</td>\n",
              "      <td>No</td>\n",
              "      <td>Mailed check</td>\n",
              "      <td>44.75</td>\n",
              "      <td>44.75</td>\n",
              "    </tr>\n",
              "    <tr>\n",
              "      <th>4</th>\n",
              "      <td>3733-UOCWF</td>\n",
              "      <td>Male</td>\n",
              "      <td>1</td>\n",
              "      <td>Yes</td>\n",
              "      <td>No</td>\n",
              "      <td>61</td>\n",
              "      <td>Yes</td>\n",
              "      <td>Yes</td>\n",
              "      <td>Fiber optic</td>\n",
              "      <td>No</td>\n",
              "      <td>Yes</td>\n",
              "      <td>No</td>\n",
              "      <td>Yes</td>\n",
              "      <td>No</td>\n",
              "      <td>No</td>\n",
              "      <td>One year</td>\n",
              "      <td>Yes</td>\n",
              "      <td>Bank transfer (automatic)</td>\n",
              "      <td>85.55</td>\n",
              "      <td>5251.75</td>\n",
              "    </tr>\n",
              "    <tr>\n",
              "      <th>5</th>\n",
              "      <td>9444-JTXHZ</td>\n",
              "      <td>Male</td>\n",
              "      <td>0</td>\n",
              "      <td>Yes</td>\n",
              "      <td>No</td>\n",
              "      <td>1</td>\n",
              "      <td>Yes</td>\n",
              "      <td>No</td>\n",
              "      <td>Fiber optic</td>\n",
              "      <td>No</td>\n",
              "      <td>No</td>\n",
              "      <td>Yes</td>\n",
              "      <td>No</td>\n",
              "      <td>No</td>\n",
              "      <td>No</td>\n",
              "      <td>Month-to-month</td>\n",
              "      <td>No</td>\n",
              "      <td>Electronic check</td>\n",
              "      <td>76.20</td>\n",
              "      <td>76.2</td>\n",
              "    </tr>\n",
              "    <tr>\n",
              "      <th>6</th>\n",
              "      <td>5955-EPOAZ</td>\n",
              "      <td>Female</td>\n",
              "      <td>0</td>\n",
              "      <td>No</td>\n",
              "      <td>No</td>\n",
              "      <td>6</td>\n",
              "      <td>Yes</td>\n",
              "      <td>No</td>\n",
              "      <td>No</td>\n",
              "      <td>No internet service</td>\n",
              "      <td>No internet service</td>\n",
              "      <td>No internet service</td>\n",
              "      <td>No internet service</td>\n",
              "      <td>No internet service</td>\n",
              "      <td>No internet service</td>\n",
              "      <td>Month-to-month</td>\n",
              "      <td>Yes</td>\n",
              "      <td>Mailed check</td>\n",
              "      <td>20.95</td>\n",
              "      <td>109.5</td>\n",
              "    </tr>\n",
              "    <tr>\n",
              "      <th>7</th>\n",
              "      <td>2988-GBIVW</td>\n",
              "      <td>Female</td>\n",
              "      <td>1</td>\n",
              "      <td>Yes</td>\n",
              "      <td>No</td>\n",
              "      <td>70</td>\n",
              "      <td>Yes</td>\n",
              "      <td>Yes</td>\n",
              "      <td>Fiber optic</td>\n",
              "      <td>Yes</td>\n",
              "      <td>No</td>\n",
              "      <td>No</td>\n",
              "      <td>No</td>\n",
              "      <td>No</td>\n",
              "      <td>Yes</td>\n",
              "      <td>Month-to-month</td>\n",
              "      <td>Yes</td>\n",
              "      <td>Electronic check</td>\n",
              "      <td>90.85</td>\n",
              "      <td>6470.1</td>\n",
              "    </tr>\n",
              "    <tr>\n",
              "      <th>8</th>\n",
              "      <td>4817-QRJSX</td>\n",
              "      <td>Female</td>\n",
              "      <td>0</td>\n",
              "      <td>No</td>\n",
              "      <td>No</td>\n",
              "      <td>10</td>\n",
              "      <td>Yes</td>\n",
              "      <td>Yes</td>\n",
              "      <td>Fiber optic</td>\n",
              "      <td>No</td>\n",
              "      <td>Yes</td>\n",
              "      <td>No</td>\n",
              "      <td>No</td>\n",
              "      <td>No</td>\n",
              "      <td>No</td>\n",
              "      <td>Month-to-month</td>\n",
              "      <td>Yes</td>\n",
              "      <td>Credit card (automatic)</td>\n",
              "      <td>81.00</td>\n",
              "      <td>818.05</td>\n",
              "    </tr>\n",
              "    <tr>\n",
              "      <th>9</th>\n",
              "      <td>9124-LHCJQ</td>\n",
              "      <td>Female</td>\n",
              "      <td>0</td>\n",
              "      <td>No</td>\n",
              "      <td>No</td>\n",
              "      <td>1</td>\n",
              "      <td>Yes</td>\n",
              "      <td>Yes</td>\n",
              "      <td>Fiber optic</td>\n",
              "      <td>No</td>\n",
              "      <td>No</td>\n",
              "      <td>No</td>\n",
              "      <td>No</td>\n",
              "      <td>No</td>\n",
              "      <td>Yes</td>\n",
              "      <td>Month-to-month</td>\n",
              "      <td>Yes</td>\n",
              "      <td>Mailed check</td>\n",
              "      <td>85.45</td>\n",
              "      <td>85.45</td>\n",
              "    </tr>\n",
              "  </tbody>\n",
              "</table>\n",
              "</div>\n",
              "      <button class=\"colab-df-convert\" onclick=\"convertToInteractive('df-371c8b23-d965-4ea7-b1b0-21ae0e852b6c')\"\n",
              "              title=\"Convert this dataframe to an interactive table.\"\n",
              "              style=\"display:none;\">\n",
              "        \n",
              "  <svg xmlns=\"http://www.w3.org/2000/svg\" height=\"24px\"viewBox=\"0 0 24 24\"\n",
              "       width=\"24px\">\n",
              "    <path d=\"M0 0h24v24H0V0z\" fill=\"none\"/>\n",
              "    <path d=\"M18.56 5.44l.94 2.06.94-2.06 2.06-.94-2.06-.94-.94-2.06-.94 2.06-2.06.94zm-11 1L8.5 8.5l.94-2.06 2.06-.94-2.06-.94L8.5 2.5l-.94 2.06-2.06.94zm10 10l.94 2.06.94-2.06 2.06-.94-2.06-.94-.94-2.06-.94 2.06-2.06.94z\"/><path d=\"M17.41 7.96l-1.37-1.37c-.4-.4-.92-.59-1.43-.59-.52 0-1.04.2-1.43.59L10.3 9.45l-7.72 7.72c-.78.78-.78 2.05 0 2.83L4 21.41c.39.39.9.59 1.41.59.51 0 1.02-.2 1.41-.59l7.78-7.78 2.81-2.81c.8-.78.8-2.07 0-2.86zM5.41 20L4 18.59l7.72-7.72 1.47 1.35L5.41 20z\"/>\n",
              "  </svg>\n",
              "      </button>\n",
              "      \n",
              "  <style>\n",
              "    .colab-df-container {\n",
              "      display:flex;\n",
              "      flex-wrap:wrap;\n",
              "      gap: 12px;\n",
              "    }\n",
              "\n",
              "    .colab-df-convert {\n",
              "      background-color: #E8F0FE;\n",
              "      border: none;\n",
              "      border-radius: 50%;\n",
              "      cursor: pointer;\n",
              "      display: none;\n",
              "      fill: #1967D2;\n",
              "      height: 32px;\n",
              "      padding: 0 0 0 0;\n",
              "      width: 32px;\n",
              "    }\n",
              "\n",
              "    .colab-df-convert:hover {\n",
              "      background-color: #E2EBFA;\n",
              "      box-shadow: 0px 1px 2px rgba(60, 64, 67, 0.3), 0px 1px 3px 1px rgba(60, 64, 67, 0.15);\n",
              "      fill: #174EA6;\n",
              "    }\n",
              "\n",
              "    [theme=dark] .colab-df-convert {\n",
              "      background-color: #3B4455;\n",
              "      fill: #D2E3FC;\n",
              "    }\n",
              "\n",
              "    [theme=dark] .colab-df-convert:hover {\n",
              "      background-color: #434B5C;\n",
              "      box-shadow: 0px 1px 3px 1px rgba(0, 0, 0, 0.15);\n",
              "      filter: drop-shadow(0px 1px 2px rgba(0, 0, 0, 0.3));\n",
              "      fill: #FFFFFF;\n",
              "    }\n",
              "  </style>\n",
              "\n",
              "      <script>\n",
              "        const buttonEl =\n",
              "          document.querySelector('#df-371c8b23-d965-4ea7-b1b0-21ae0e852b6c button.colab-df-convert');\n",
              "        buttonEl.style.display =\n",
              "          google.colab.kernel.accessAllowed ? 'block' : 'none';\n",
              "\n",
              "        async function convertToInteractive(key) {\n",
              "          const element = document.querySelector('#df-371c8b23-d965-4ea7-b1b0-21ae0e852b6c');\n",
              "          const dataTable =\n",
              "            await google.colab.kernel.invokeFunction('convertToInteractive',\n",
              "                                                     [key], {});\n",
              "          if (!dataTable) return;\n",
              "\n",
              "          const docLinkHtml = 'Like what you see? Visit the ' +\n",
              "            '<a target=\"_blank\" href=https://colab.research.google.com/notebooks/data_table.ipynb>data table notebook</a>'\n",
              "            + ' to learn more about interactive tables.';\n",
              "          element.innerHTML = '';\n",
              "          dataTable['output_type'] = 'display_data';\n",
              "          await google.colab.output.renderOutput(dataTable, element);\n",
              "          const docLink = document.createElement('div');\n",
              "          docLink.innerHTML = docLinkHtml;\n",
              "          element.appendChild(docLink);\n",
              "        }\n",
              "      </script>\n",
              "    </div>\n",
              "  </div>\n",
              "  "
            ]
          },
          "metadata": {},
          "execution_count": 145
        }
      ]
    },
    {
      "cell_type": "code",
      "source": [
        "response = send_json(X_test[['gender',\n",
        "            'MultipleLines',\n",
        "            'InternetService',\n",
        "            'OnlineSecurity',\n",
        "            'OnlineBackup',\n",
        "            'DeviceProtection',\n",
        "            'TechSupport',\n",
        "            'StreamingTV',\n",
        "            'StreamingMovies',\n",
        "            'Contract',\n",
        "            'PaymentMethod',\n",
        "            'tenure',\n",
        "            'MonthlyCharges',\n",
        "            'SeniorCitizen',\n",
        "            'Partner',\n",
        "            'Dependents',\n",
        "            'PhoneService',\n",
        "            'PaperlessBilling']].iloc[0,:])"
      ],
      "metadata": {
        "id": "L8zJxn_rQx9X"
      },
      "execution_count": null,
      "outputs": []
    },
    {
      "cell_type": "code",
      "source": [
        "print(response)"
      ],
      "metadata": {
        "colab": {
          "base_uri": "https://localhost:8080/"
        },
        "id": "C7MfjcHmVCcb",
        "outputId": "4205cb77-3f18-4fc3-92bd-51f415c366bd"
      },
      "execution_count": null,
      "outputs": [
        {
          "output_type": "stream",
          "name": "stdout",
          "text": [
            "0.27\n"
          ]
        }
      ]
    },
    {
      "cell_type": "code",
      "source": [
        "response = send_json(X_test[['gender',\n",
        "            'MultipleLines',\n",
        "            'InternetService',\n",
        "            'OnlineSecurity',\n",
        "            'OnlineBackup',\n",
        "            'DeviceProtection',\n",
        "            'TechSupport',\n",
        "            'StreamingTV',\n",
        "            'StreamingMovies',\n",
        "            'Contract',\n",
        "            'PaymentMethod',\n",
        "            'tenure',\n",
        "            'MonthlyCharges',\n",
        "            'SeniorCitizen',\n",
        "            'Partner',\n",
        "            'Dependents',\n",
        "            'PhoneService',\n",
        "            'PaperlessBilling']].iloc[5,:])"
      ],
      "metadata": {
        "id": "7VP0fE_ZY1in"
      },
      "execution_count": null,
      "outputs": []
    },
    {
      "cell_type": "markdown",
      "source": [
        "Сделаем N запросов и оценим время"
      ],
      "metadata": {
        "id": "1f9X5f1hVNPR"
      }
    },
    {
      "cell_type": "code",
      "source": [
        "N = 50"
      ],
      "metadata": {
        "id": "3A-dHmqYVNwQ"
      },
      "execution_count": null,
      "outputs": []
    },
    {
      "cell_type": "code",
      "source": [
        "for i in range(N):\n",
        "\n",
        "  response = send_json(X_test[['gender',\n",
        "              'MultipleLines',\n",
        "              'InternetService',\n",
        "              'OnlineSecurity',\n",
        "              'OnlineBackup',\n",
        "              'DeviceProtection',\n",
        "              'TechSupport',\n",
        "              'StreamingTV',\n",
        "              'StreamingMovies',\n",
        "              'Contract',\n",
        "              'PaymentMethod',\n",
        "              'tenure',\n",
        "              'MonthlyCharges',\n",
        "              'SeniorCitizen',\n",
        "              'Partner',\n",
        "              'Dependents',\n",
        "              'PhoneService',\n",
        "              'PaperlessBilling']].iloc[i,:])\n",
        "  print(response)"
      ],
      "metadata": {
        "colab": {
          "base_uri": "https://localhost:8080/"
        },
        "id": "dYeL0ctEWVRJ",
        "outputId": "2ee6725c-e9c6-46e1-ce0c-ef7824c7f2c2"
      },
      "execution_count": null,
      "outputs": [
        {
          "output_type": "stream",
          "name": "stdout",
          "text": [
            "0.27\n",
            "0.13\n",
            "0.89\n",
            "0.76\n",
            "0.02\n",
            "0.84\n",
            "0.14\n",
            "0.34\n",
            "0.93\n",
            "1.0\n",
            "0.78\n",
            "0.29\n",
            "0.775\n",
            "1.0\n",
            "0.92\n",
            "0.1\n",
            "0.95\n",
            "0.1\n",
            "0.03\n",
            "0.02\n",
            "0.07\n",
            "0.04\n",
            "0.89\n",
            "1.0\n",
            "0.0\n",
            "0.02\n",
            "0.8466666666666665\n",
            "0.0\n",
            "0.49\n",
            "0.63\n",
            "0.03\n",
            "0.37\n",
            "0.26\n",
            "0.84\n",
            "0.02\n",
            "0.2\n",
            "0.98\n",
            "0.21\n",
            "0.1\n",
            "0.37\n",
            "0.84\n",
            "0.83\n",
            "0.39\n",
            "0.11\n",
            "0.39\n",
            "0.75\n",
            "0.0\n",
            "1.0\n",
            "1.0\n",
            "0.22\n"
          ]
        }
      ]
    },
    {
      "cell_type": "code",
      "source": [
        "%%time\n",
        "predictions = X_test[['gender',\n",
        "            'MultipleLines',\n",
        "            'InternetService',\n",
        "            'OnlineSecurity',\n",
        "            'OnlineBackup',\n",
        "            'DeviceProtection',\n",
        "            'TechSupport',\n",
        "            'StreamingTV',\n",
        "            'StreamingMovies',\n",
        "            'Contract',\n",
        "            'PaymentMethod',\n",
        "            'tenure',\n",
        "            'MonthlyCharges',\n",
        "            'SeniorCitizen',\n",
        "            'Partner',\n",
        "            'Dependents',\n",
        "            'PhoneService',\n",
        "            'PaperlessBilling']].iloc[:N].apply(lambda x: send_json(x), axis=1)"
      ],
      "metadata": {
        "colab": {
          "base_uri": "https://localhost:8080/"
        },
        "id": "-CX0rJQ1VPtZ",
        "outputId": "21e427b0-33cf-40b9-9c1d-81b95df62928"
      },
      "execution_count": null,
      "outputs": [
        {
          "output_type": "stream",
          "name": "stdout",
          "text": [
            "CPU times: user 224 ms, sys: 20.5 ms, total: 245 ms\n",
            "Wall time: 11.2 s\n"
          ]
        }
      ]
    },
    {
      "cell_type": "code",
      "source": [
        "predictions.values[:5]"
      ],
      "metadata": {
        "colab": {
          "base_uri": "https://localhost:8080/"
        },
        "id": "CHJFn_Z2VIbr",
        "outputId": "b682e12f-068b-4243-aed8-3f41af5407a0"
      },
      "execution_count": null,
      "outputs": [
        {
          "output_type": "execute_result",
          "data": {
            "text/plain": [
              "array([0.27, 0.13, 0.89, 0.76, 0.02])"
            ]
          },
          "metadata": {},
          "execution_count": 152
        }
      ]
    },
    {
      "cell_type": "markdown",
      "source": [
        "Сделаем N запросов и оценим время"
      ],
      "metadata": {
        "id": "S5O-ZfCBLsp1"
      }
    },
    {
      "cell_type": "markdown",
      "source": [
        "Посчитаем метрику"
      ],
      "metadata": {
        "id": "Hj37v2mpgqx_"
      }
    },
    {
      "cell_type": "code",
      "source": [
        "y_test.head()"
      ],
      "metadata": {
        "colab": {
          "base_uri": "https://localhost:8080/",
          "height": 206
        },
        "id": "q5cstzKDgruP",
        "outputId": "595d2158-8d59-43a9-9b65-1e165d01ac7d"
      },
      "execution_count": null,
      "outputs": [
        {
          "output_type": "execute_result",
          "data": {
            "text/plain": [
              "   Churn\n",
              "0      1\n",
              "1      0\n",
              "2      1\n",
              "3      0\n",
              "4      0"
            ],
            "text/html": [
              "\n",
              "  <div id=\"df-977d79a6-71fb-4986-9d6b-943142043b7e\">\n",
              "    <div class=\"colab-df-container\">\n",
              "      <div>\n",
              "<style scoped>\n",
              "    .dataframe tbody tr th:only-of-type {\n",
              "        vertical-align: middle;\n",
              "    }\n",
              "\n",
              "    .dataframe tbody tr th {\n",
              "        vertical-align: top;\n",
              "    }\n",
              "\n",
              "    .dataframe thead th {\n",
              "        text-align: right;\n",
              "    }\n",
              "</style>\n",
              "<table border=\"1\" class=\"dataframe\">\n",
              "  <thead>\n",
              "    <tr style=\"text-align: right;\">\n",
              "      <th></th>\n",
              "      <th>Churn</th>\n",
              "    </tr>\n",
              "  </thead>\n",
              "  <tbody>\n",
              "    <tr>\n",
              "      <th>0</th>\n",
              "      <td>1</td>\n",
              "    </tr>\n",
              "    <tr>\n",
              "      <th>1</th>\n",
              "      <td>0</td>\n",
              "    </tr>\n",
              "    <tr>\n",
              "      <th>2</th>\n",
              "      <td>1</td>\n",
              "    </tr>\n",
              "    <tr>\n",
              "      <th>3</th>\n",
              "      <td>0</td>\n",
              "    </tr>\n",
              "    <tr>\n",
              "      <th>4</th>\n",
              "      <td>0</td>\n",
              "    </tr>\n",
              "  </tbody>\n",
              "</table>\n",
              "</div>\n",
              "      <button class=\"colab-df-convert\" onclick=\"convertToInteractive('df-977d79a6-71fb-4986-9d6b-943142043b7e')\"\n",
              "              title=\"Convert this dataframe to an interactive table.\"\n",
              "              style=\"display:none;\">\n",
              "        \n",
              "  <svg xmlns=\"http://www.w3.org/2000/svg\" height=\"24px\"viewBox=\"0 0 24 24\"\n",
              "       width=\"24px\">\n",
              "    <path d=\"M0 0h24v24H0V0z\" fill=\"none\"/>\n",
              "    <path d=\"M18.56 5.44l.94 2.06.94-2.06 2.06-.94-2.06-.94-.94-2.06-.94 2.06-2.06.94zm-11 1L8.5 8.5l.94-2.06 2.06-.94-2.06-.94L8.5 2.5l-.94 2.06-2.06.94zm10 10l.94 2.06.94-2.06 2.06-.94-2.06-.94-.94-2.06-.94 2.06-2.06.94z\"/><path d=\"M17.41 7.96l-1.37-1.37c-.4-.4-.92-.59-1.43-.59-.52 0-1.04.2-1.43.59L10.3 9.45l-7.72 7.72c-.78.78-.78 2.05 0 2.83L4 21.41c.39.39.9.59 1.41.59.51 0 1.02-.2 1.41-.59l7.78-7.78 2.81-2.81c.8-.78.8-2.07 0-2.86zM5.41 20L4 18.59l7.72-7.72 1.47 1.35L5.41 20z\"/>\n",
              "  </svg>\n",
              "      </button>\n",
              "      \n",
              "  <style>\n",
              "    .colab-df-container {\n",
              "      display:flex;\n",
              "      flex-wrap:wrap;\n",
              "      gap: 12px;\n",
              "    }\n",
              "\n",
              "    .colab-df-convert {\n",
              "      background-color: #E8F0FE;\n",
              "      border: none;\n",
              "      border-radius: 50%;\n",
              "      cursor: pointer;\n",
              "      display: none;\n",
              "      fill: #1967D2;\n",
              "      height: 32px;\n",
              "      padding: 0 0 0 0;\n",
              "      width: 32px;\n",
              "    }\n",
              "\n",
              "    .colab-df-convert:hover {\n",
              "      background-color: #E2EBFA;\n",
              "      box-shadow: 0px 1px 2px rgba(60, 64, 67, 0.3), 0px 1px 3px 1px rgba(60, 64, 67, 0.15);\n",
              "      fill: #174EA6;\n",
              "    }\n",
              "\n",
              "    [theme=dark] .colab-df-convert {\n",
              "      background-color: #3B4455;\n",
              "      fill: #D2E3FC;\n",
              "    }\n",
              "\n",
              "    [theme=dark] .colab-df-convert:hover {\n",
              "      background-color: #434B5C;\n",
              "      box-shadow: 0px 1px 3px 1px rgba(0, 0, 0, 0.15);\n",
              "      filter: drop-shadow(0px 1px 2px rgba(0, 0, 0, 0.3));\n",
              "      fill: #FFFFFF;\n",
              "    }\n",
              "  </style>\n",
              "\n",
              "      <script>\n",
              "        const buttonEl =\n",
              "          document.querySelector('#df-977d79a6-71fb-4986-9d6b-943142043b7e button.colab-df-convert');\n",
              "        buttonEl.style.display =\n",
              "          google.colab.kernel.accessAllowed ? 'block' : 'none';\n",
              "\n",
              "        async function convertToInteractive(key) {\n",
              "          const element = document.querySelector('#df-977d79a6-71fb-4986-9d6b-943142043b7e');\n",
              "          const dataTable =\n",
              "            await google.colab.kernel.invokeFunction('convertToInteractive',\n",
              "                                                     [key], {});\n",
              "          if (!dataTable) return;\n",
              "\n",
              "          const docLinkHtml = 'Like what you see? Visit the ' +\n",
              "            '<a target=\"_blank\" href=https://colab.research.google.com/notebooks/data_table.ipynb>data table notebook</a>'\n",
              "            + ' to learn more about interactive tables.';\n",
              "          element.innerHTML = '';\n",
              "          dataTable['output_type'] = 'display_data';\n",
              "          await google.colab.output.renderOutput(dataTable, element);\n",
              "          const docLink = document.createElement('div');\n",
              "          docLink.innerHTML = docLinkHtml;\n",
              "          element.appendChild(docLink);\n",
              "        }\n",
              "      </script>\n",
              "    </div>\n",
              "  </div>\n",
              "  "
            ]
          },
          "metadata": {},
          "execution_count": 153
        }
      ]
    },
    {
      "cell_type": "code",
      "source": [
        "import numpy as np\n",
        "\n",
        "precision, recall, thresholds = precision_recall_curve(y_test[:N], predictions)\n",
        "\n",
        "fscore = (2 * precision * recall) / (precision + recall)\n",
        "# locate the index of the largest f score\n",
        "ix = np.argmax(fscore)\n",
        "print(f'Best Threshold={thresholds[ix]}, F-Score={fscore[ix]:.3f}, Precision={precision[ix]:.3f}, Recall={recall[ix]:.3f}')"
      ],
      "metadata": {
        "colab": {
          "base_uri": "https://localhost:8080/"
        },
        "id": "GYPNuVUugyp_",
        "outputId": "5d6ba347-dd38-44ec-8c8c-f6b3c8b66a37"
      },
      "execution_count": null,
      "outputs": [
        {
          "output_type": "stream",
          "name": "stdout",
          "text": [
            "Best Threshold=0.775, F-Score=0.872, Precision=0.944, Recall=0.810\n"
          ]
        }
      ]
    },
    {
      "cell_type": "code",
      "source": [
        "roc_auc_score(y_score=predictions.values, y_true=y_test.values[:N])"
      ],
      "metadata": {
        "colab": {
          "base_uri": "https://localhost:8080/"
        },
        "id": "MPXryA5mhGEm",
        "outputId": "0cfacb73-3008-4afa-f554-4ff32c356994"
      },
      "execution_count": null,
      "outputs": [
        {
          "output_type": "execute_result",
          "data": {
            "text/plain": [
              "0.9556650246305419"
            ]
          },
          "metadata": {},
          "execution_count": 155
        }
      ]
    },
    {
      "cell_type": "markdown",
      "source": [
        "Выводы:\n",
        "На 50 наблюдениях модель показывает неплохие результаты.\n",
        "\n",
        "Best Threshold=0.775, F-Score=0.872, Precision=0.944, Recall=0.810\n",
        "\n",
        "Roc_auc_score = 0.9556650246305419\n"
      ],
      "metadata": {
        "id": "n9HPpISmhIYu"
      }
    }
  ]
}