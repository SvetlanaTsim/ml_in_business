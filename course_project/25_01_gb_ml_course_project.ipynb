{
  "nbformat": 4,
  "nbformat_minor": 0,
  "metadata": {
    "colab": {
      "provenance": [],
      "include_colab_link": true
    },
    "kernelspec": {
      "name": "python3",
      "display_name": "Python 3"
    },
    "language_info": {
      "name": "python"
    }
  },
  "cells": [
    {
      "cell_type": "markdown",
      "metadata": {
        "id": "view-in-github",
        "colab_type": "text"
      },
      "source": [
        "<a href=\"https://colab.research.google.com/github/SvetlanaTsim/ml_in_business/blob/main/course_project/25_01_gb_ml_course_project.ipynb\" target=\"_parent\"><img src=\"https://colab.research.google.com/assets/colab-badge.svg\" alt=\"Open In Colab\"/></a>"
      ]
    },
    {
      "cell_type": "markdown",
      "source": [
        "# Модель оттока для данных по телекому Telco Customer Churn"
      ],
      "metadata": {
        "id": "7J2XnqDm7VYS"
      }
    },
    {
      "cell_type": "markdown",
      "source": [
        "https://www.kaggle.com/datasets/blastchar/telco-customer-churn"
      ],
      "metadata": {
        "id": "4yX56X5r7ZLO"
      }
    },
    {
      "cell_type": "markdown",
      "source": [
        "## About Dataset\n",
        "### Context\n",
        "\"Predict behavior to retain customers. You can analyze all relevant customer data and develop focused customer retention programs.\" [IBM Sample Data Sets]\n",
        "\n",
        "### Content\n",
        "Each row represents a customer, each column contains customer’s attributes described on the column Metadata.\n",
        "\n",
        "### The data set includes information about:\n",
        "\n",
        "Customers who left within the last month – the column is called Churn\n",
        "\n",
        "Services that each customer has signed up for – phone, multiple lines, internet, online security, online backup, device protection, tech support, and streaming TV and movies\n",
        "\n",
        "Customer account information – how long they’ve been a customer, contract, payment method, paperless billing, monthly charges, and total charges\n",
        "\n",
        "Demographic info about customers – gender, age range, and if they have partners and dependents"
      ],
      "metadata": {
        "id": "3kYRJDsB2SUS"
      }
    },
    {
      "cell_type": "markdown",
      "source": [
        "#Шаг 1 Обучение модели"
      ],
      "metadata": {
        "id": "gXA0Wj9zK0nu"
      }
    },
    {
      "cell_type": "code",
      "source": [
        "import pandas as pd\n",
        "import numpy as np\n",
        "import matplotlib.pyplot as plt\n",
        "import seaborn as sns\n",
        "import plotly.express as px\n",
        "from sklearn.metrics import accuracy_score, confusion_matrix, classification_report\n",
        "from yellowbrick.classifier import ConfusionMatrix\n",
        "from sklearn.tree import DecisionTreeClassifier\n",
        "from sklearn.metrics import r2_score\n",
        "from sklearn.metrics import mean_absolute_error, mean_squared_error\n",
        "from sklearn.model_selection import GridSearchCV\n",
        "from sklearn.impute import SimpleImputer"
      ],
      "metadata": {
        "id": "G-Kc5XPu7qht"
      },
      "execution_count": 1044,
      "outputs": []
    },
    {
      "cell_type": "markdown",
      "source": [
        "# 1. Загрузка данных"
      ],
      "metadata": {
        "id": "3mjm455V7tzN"
      }
    },
    {
      "cell_type": "code",
      "source": [
        "pd.set_option('display.max_columns', None)"
      ],
      "metadata": {
        "id": "1uyaMD-D3Rd4"
      },
      "execution_count": 1045,
      "outputs": []
    },
    {
      "cell_type": "markdown",
      "source": [
        "Ссылка на google drive: https://drive.google.com/file/d/1lh7xHLCg-FluHkYYJweCA_O5iuTZFUcc\n"
      ],
      "metadata": {
        "id": "Y3rEBoxuJBrH"
      }
    },
    {
      "cell_type": "code",
      "source": [
        "!wget 'https://drive.google.com/uc?export=download&id=1lh7xHLCg-FluHkYYJweCA_O5iuTZFUcc' -O churn_data.csv"
      ],
      "metadata": {
        "colab": {
          "base_uri": "https://localhost:8080/"
        },
        "id": "0ionrvGqGXwC",
        "outputId": "3bcab854-1e01-4297-b7d7-a7869cba16ae"
      },
      "execution_count": 1046,
      "outputs": [
        {
          "output_type": "stream",
          "name": "stdout",
          "text": [
            "--2023-01-25 10:43:39--  https://drive.google.com/uc?export=download&id=1lh7xHLCg-FluHkYYJweCA_O5iuTZFUcc\n",
            "Resolving drive.google.com (drive.google.com)... 74.125.142.102, 74.125.142.138, 74.125.142.113, ...\n",
            "Connecting to drive.google.com (drive.google.com)|74.125.142.102|:443... connected.\n",
            "HTTP request sent, awaiting response... 303 See Other\n",
            "Location: https://doc-0g-bs-docs.googleusercontent.com/docs/securesc/ha0ro937gcuc7l7deffksulhg5h7mbp1/qiqk17o5ijgd2nh7m761craucldibrik/1674643350000/04420567413078840451/*/1lh7xHLCg-FluHkYYJweCA_O5iuTZFUcc?e=download&uuid=6e67f361-1c98-41f9-a113-3e2c9c45dc21 [following]\n",
            "Warning: wildcards not supported in HTTP.\n",
            "--2023-01-25 10:43:40--  https://doc-0g-bs-docs.googleusercontent.com/docs/securesc/ha0ro937gcuc7l7deffksulhg5h7mbp1/qiqk17o5ijgd2nh7m761craucldibrik/1674643350000/04420567413078840451/*/1lh7xHLCg-FluHkYYJweCA_O5iuTZFUcc?e=download&uuid=6e67f361-1c98-41f9-a113-3e2c9c45dc21\n",
            "Resolving doc-0g-bs-docs.googleusercontent.com (doc-0g-bs-docs.googleusercontent.com)... 74.125.197.132, 2607:f8b0:400e:c03::84\n",
            "Connecting to doc-0g-bs-docs.googleusercontent.com (doc-0g-bs-docs.googleusercontent.com)|74.125.197.132|:443... connected.\n",
            "HTTP request sent, awaiting response... 200 OK\n",
            "Length: 977501 (955K) [text/csv]\n",
            "Saving to: ‘churn_data.csv’\n",
            "\n",
            "churn_data.csv      100%[===================>] 954.59K  --.-KB/s    in 0.008s  \n",
            "\n",
            "2023-01-25 10:43:40 (115 MB/s) - ‘churn_data.csv’ saved [977501/977501]\n",
            "\n"
          ]
        }
      ]
    },
    {
      "cell_type": "code",
      "source": [
        "df = pd.read_csv('churn_data.csv', sep = ',')\n"
      ],
      "metadata": {
        "id": "kIjDhItuGjXW"
      },
      "execution_count": 1047,
      "outputs": []
    },
    {
      "cell_type": "code",
      "execution_count": 1048,
      "metadata": {
        "colab": {
          "base_uri": "https://localhost:8080/",
          "height": 357
        },
        "id": "-XOnmcJW7Qm0",
        "outputId": "ffdc8dee-0eb9-41c0-ba0d-8956d92fa526"
      },
      "outputs": [
        {
          "output_type": "execute_result",
          "data": {
            "text/plain": [
              "   customerID  gender  SeniorCitizen Partner Dependents  tenure PhoneService  \\\n",
              "0  7590-VHVEG  Female              0     Yes         No       1           No   \n",
              "1  5575-GNVDE    Male              0      No         No      34          Yes   \n",
              "2  3668-QPYBK    Male              0      No         No       2          Yes   \n",
              "3  7795-CFOCW    Male              0      No         No      45           No   \n",
              "4  9237-HQITU  Female              0      No         No       2          Yes   \n",
              "\n",
              "      MultipleLines InternetService OnlineSecurity OnlineBackup  \\\n",
              "0  No phone service             DSL             No          Yes   \n",
              "1                No             DSL            Yes           No   \n",
              "2                No             DSL            Yes          Yes   \n",
              "3  No phone service             DSL            Yes           No   \n",
              "4                No     Fiber optic             No           No   \n",
              "\n",
              "  DeviceProtection TechSupport StreamingTV StreamingMovies        Contract  \\\n",
              "0               No          No          No              No  Month-to-month   \n",
              "1              Yes          No          No              No        One year   \n",
              "2               No          No          No              No  Month-to-month   \n",
              "3              Yes         Yes          No              No        One year   \n",
              "4               No          No          No              No  Month-to-month   \n",
              "\n",
              "  PaperlessBilling              PaymentMethod  MonthlyCharges TotalCharges  \\\n",
              "0              Yes           Electronic check           29.85        29.85   \n",
              "1               No               Mailed check           56.95       1889.5   \n",
              "2              Yes               Mailed check           53.85       108.15   \n",
              "3               No  Bank transfer (automatic)           42.30      1840.75   \n",
              "4              Yes           Electronic check           70.70       151.65   \n",
              "\n",
              "  Churn  \n",
              "0    No  \n",
              "1    No  \n",
              "2   Yes  \n",
              "3    No  \n",
              "4   Yes  "
            ],
            "text/html": [
              "\n",
              "  <div id=\"df-821faf15-baeb-4911-802c-0df1ca34e847\">\n",
              "    <div class=\"colab-df-container\">\n",
              "      <div>\n",
              "<style scoped>\n",
              "    .dataframe tbody tr th:only-of-type {\n",
              "        vertical-align: middle;\n",
              "    }\n",
              "\n",
              "    .dataframe tbody tr th {\n",
              "        vertical-align: top;\n",
              "    }\n",
              "\n",
              "    .dataframe thead th {\n",
              "        text-align: right;\n",
              "    }\n",
              "</style>\n",
              "<table border=\"1\" class=\"dataframe\">\n",
              "  <thead>\n",
              "    <tr style=\"text-align: right;\">\n",
              "      <th></th>\n",
              "      <th>customerID</th>\n",
              "      <th>gender</th>\n",
              "      <th>SeniorCitizen</th>\n",
              "      <th>Partner</th>\n",
              "      <th>Dependents</th>\n",
              "      <th>tenure</th>\n",
              "      <th>PhoneService</th>\n",
              "      <th>MultipleLines</th>\n",
              "      <th>InternetService</th>\n",
              "      <th>OnlineSecurity</th>\n",
              "      <th>OnlineBackup</th>\n",
              "      <th>DeviceProtection</th>\n",
              "      <th>TechSupport</th>\n",
              "      <th>StreamingTV</th>\n",
              "      <th>StreamingMovies</th>\n",
              "      <th>Contract</th>\n",
              "      <th>PaperlessBilling</th>\n",
              "      <th>PaymentMethod</th>\n",
              "      <th>MonthlyCharges</th>\n",
              "      <th>TotalCharges</th>\n",
              "      <th>Churn</th>\n",
              "    </tr>\n",
              "  </thead>\n",
              "  <tbody>\n",
              "    <tr>\n",
              "      <th>0</th>\n",
              "      <td>7590-VHVEG</td>\n",
              "      <td>Female</td>\n",
              "      <td>0</td>\n",
              "      <td>Yes</td>\n",
              "      <td>No</td>\n",
              "      <td>1</td>\n",
              "      <td>No</td>\n",
              "      <td>No phone service</td>\n",
              "      <td>DSL</td>\n",
              "      <td>No</td>\n",
              "      <td>Yes</td>\n",
              "      <td>No</td>\n",
              "      <td>No</td>\n",
              "      <td>No</td>\n",
              "      <td>No</td>\n",
              "      <td>Month-to-month</td>\n",
              "      <td>Yes</td>\n",
              "      <td>Electronic check</td>\n",
              "      <td>29.85</td>\n",
              "      <td>29.85</td>\n",
              "      <td>No</td>\n",
              "    </tr>\n",
              "    <tr>\n",
              "      <th>1</th>\n",
              "      <td>5575-GNVDE</td>\n",
              "      <td>Male</td>\n",
              "      <td>0</td>\n",
              "      <td>No</td>\n",
              "      <td>No</td>\n",
              "      <td>34</td>\n",
              "      <td>Yes</td>\n",
              "      <td>No</td>\n",
              "      <td>DSL</td>\n",
              "      <td>Yes</td>\n",
              "      <td>No</td>\n",
              "      <td>Yes</td>\n",
              "      <td>No</td>\n",
              "      <td>No</td>\n",
              "      <td>No</td>\n",
              "      <td>One year</td>\n",
              "      <td>No</td>\n",
              "      <td>Mailed check</td>\n",
              "      <td>56.95</td>\n",
              "      <td>1889.5</td>\n",
              "      <td>No</td>\n",
              "    </tr>\n",
              "    <tr>\n",
              "      <th>2</th>\n",
              "      <td>3668-QPYBK</td>\n",
              "      <td>Male</td>\n",
              "      <td>0</td>\n",
              "      <td>No</td>\n",
              "      <td>No</td>\n",
              "      <td>2</td>\n",
              "      <td>Yes</td>\n",
              "      <td>No</td>\n",
              "      <td>DSL</td>\n",
              "      <td>Yes</td>\n",
              "      <td>Yes</td>\n",
              "      <td>No</td>\n",
              "      <td>No</td>\n",
              "      <td>No</td>\n",
              "      <td>No</td>\n",
              "      <td>Month-to-month</td>\n",
              "      <td>Yes</td>\n",
              "      <td>Mailed check</td>\n",
              "      <td>53.85</td>\n",
              "      <td>108.15</td>\n",
              "      <td>Yes</td>\n",
              "    </tr>\n",
              "    <tr>\n",
              "      <th>3</th>\n",
              "      <td>7795-CFOCW</td>\n",
              "      <td>Male</td>\n",
              "      <td>0</td>\n",
              "      <td>No</td>\n",
              "      <td>No</td>\n",
              "      <td>45</td>\n",
              "      <td>No</td>\n",
              "      <td>No phone service</td>\n",
              "      <td>DSL</td>\n",
              "      <td>Yes</td>\n",
              "      <td>No</td>\n",
              "      <td>Yes</td>\n",
              "      <td>Yes</td>\n",
              "      <td>No</td>\n",
              "      <td>No</td>\n",
              "      <td>One year</td>\n",
              "      <td>No</td>\n",
              "      <td>Bank transfer (automatic)</td>\n",
              "      <td>42.30</td>\n",
              "      <td>1840.75</td>\n",
              "      <td>No</td>\n",
              "    </tr>\n",
              "    <tr>\n",
              "      <th>4</th>\n",
              "      <td>9237-HQITU</td>\n",
              "      <td>Female</td>\n",
              "      <td>0</td>\n",
              "      <td>No</td>\n",
              "      <td>No</td>\n",
              "      <td>2</td>\n",
              "      <td>Yes</td>\n",
              "      <td>No</td>\n",
              "      <td>Fiber optic</td>\n",
              "      <td>No</td>\n",
              "      <td>No</td>\n",
              "      <td>No</td>\n",
              "      <td>No</td>\n",
              "      <td>No</td>\n",
              "      <td>No</td>\n",
              "      <td>Month-to-month</td>\n",
              "      <td>Yes</td>\n",
              "      <td>Electronic check</td>\n",
              "      <td>70.70</td>\n",
              "      <td>151.65</td>\n",
              "      <td>Yes</td>\n",
              "    </tr>\n",
              "  </tbody>\n",
              "</table>\n",
              "</div>\n",
              "      <button class=\"colab-df-convert\" onclick=\"convertToInteractive('df-821faf15-baeb-4911-802c-0df1ca34e847')\"\n",
              "              title=\"Convert this dataframe to an interactive table.\"\n",
              "              style=\"display:none;\">\n",
              "        \n",
              "  <svg xmlns=\"http://www.w3.org/2000/svg\" height=\"24px\"viewBox=\"0 0 24 24\"\n",
              "       width=\"24px\">\n",
              "    <path d=\"M0 0h24v24H0V0z\" fill=\"none\"/>\n",
              "    <path d=\"M18.56 5.44l.94 2.06.94-2.06 2.06-.94-2.06-.94-.94-2.06-.94 2.06-2.06.94zm-11 1L8.5 8.5l.94-2.06 2.06-.94-2.06-.94L8.5 2.5l-.94 2.06-2.06.94zm10 10l.94 2.06.94-2.06 2.06-.94-2.06-.94-.94-2.06-.94 2.06-2.06.94z\"/><path d=\"M17.41 7.96l-1.37-1.37c-.4-.4-.92-.59-1.43-.59-.52 0-1.04.2-1.43.59L10.3 9.45l-7.72 7.72c-.78.78-.78 2.05 0 2.83L4 21.41c.39.39.9.59 1.41.59.51 0 1.02-.2 1.41-.59l7.78-7.78 2.81-2.81c.8-.78.8-2.07 0-2.86zM5.41 20L4 18.59l7.72-7.72 1.47 1.35L5.41 20z\"/>\n",
              "  </svg>\n",
              "      </button>\n",
              "      \n",
              "  <style>\n",
              "    .colab-df-container {\n",
              "      display:flex;\n",
              "      flex-wrap:wrap;\n",
              "      gap: 12px;\n",
              "    }\n",
              "\n",
              "    .colab-df-convert {\n",
              "      background-color: #E8F0FE;\n",
              "      border: none;\n",
              "      border-radius: 50%;\n",
              "      cursor: pointer;\n",
              "      display: none;\n",
              "      fill: #1967D2;\n",
              "      height: 32px;\n",
              "      padding: 0 0 0 0;\n",
              "      width: 32px;\n",
              "    }\n",
              "\n",
              "    .colab-df-convert:hover {\n",
              "      background-color: #E2EBFA;\n",
              "      box-shadow: 0px 1px 2px rgba(60, 64, 67, 0.3), 0px 1px 3px 1px rgba(60, 64, 67, 0.15);\n",
              "      fill: #174EA6;\n",
              "    }\n",
              "\n",
              "    [theme=dark] .colab-df-convert {\n",
              "      background-color: #3B4455;\n",
              "      fill: #D2E3FC;\n",
              "    }\n",
              "\n",
              "    [theme=dark] .colab-df-convert:hover {\n",
              "      background-color: #434B5C;\n",
              "      box-shadow: 0px 1px 3px 1px rgba(0, 0, 0, 0.15);\n",
              "      filter: drop-shadow(0px 1px 2px rgba(0, 0, 0, 0.3));\n",
              "      fill: #FFFFFF;\n",
              "    }\n",
              "  </style>\n",
              "\n",
              "      <script>\n",
              "        const buttonEl =\n",
              "          document.querySelector('#df-821faf15-baeb-4911-802c-0df1ca34e847 button.colab-df-convert');\n",
              "        buttonEl.style.display =\n",
              "          google.colab.kernel.accessAllowed ? 'block' : 'none';\n",
              "\n",
              "        async function convertToInteractive(key) {\n",
              "          const element = document.querySelector('#df-821faf15-baeb-4911-802c-0df1ca34e847');\n",
              "          const dataTable =\n",
              "            await google.colab.kernel.invokeFunction('convertToInteractive',\n",
              "                                                     [key], {});\n",
              "          if (!dataTable) return;\n",
              "\n",
              "          const docLinkHtml = 'Like what you see? Visit the ' +\n",
              "            '<a target=\"_blank\" href=https://colab.research.google.com/notebooks/data_table.ipynb>data table notebook</a>'\n",
              "            + ' to learn more about interactive tables.';\n",
              "          element.innerHTML = '';\n",
              "          dataTable['output_type'] = 'display_data';\n",
              "          await google.colab.output.renderOutput(dataTable, element);\n",
              "          const docLink = document.createElement('div');\n",
              "          docLink.innerHTML = docLinkHtml;\n",
              "          element.appendChild(docLink);\n",
              "        }\n",
              "      </script>\n",
              "    </div>\n",
              "  </div>\n",
              "  "
            ]
          },
          "metadata": {},
          "execution_count": 1048
        }
      ],
      "source": [
        "#df = pd.read_csv('WA_Fn-UseC_-Telco-Customer-Churn.csv', sep = ',')\n",
        "\n",
        "df.head()"
      ]
    },
    {
      "cell_type": "code",
      "source": [
        "df.describe()"
      ],
      "metadata": {
        "colab": {
          "base_uri": "https://localhost:8080/",
          "height": 300
        },
        "id": "J6EWVW0727Yn",
        "outputId": "561d82aa-fc27-4077-f76f-0acc0090d154"
      },
      "execution_count": 1049,
      "outputs": [
        {
          "output_type": "execute_result",
          "data": {
            "text/plain": [
              "       SeniorCitizen       tenure  MonthlyCharges\n",
              "count    7043.000000  7043.000000     7043.000000\n",
              "mean        0.162147    32.371149       64.761692\n",
              "std         0.368612    24.559481       30.090047\n",
              "min         0.000000     0.000000       18.250000\n",
              "25%         0.000000     9.000000       35.500000\n",
              "50%         0.000000    29.000000       70.350000\n",
              "75%         0.000000    55.000000       89.850000\n",
              "max         1.000000    72.000000      118.750000"
            ],
            "text/html": [
              "\n",
              "  <div id=\"df-f760ee0b-39bb-4b7a-a6b4-6b02fd005081\">\n",
              "    <div class=\"colab-df-container\">\n",
              "      <div>\n",
              "<style scoped>\n",
              "    .dataframe tbody tr th:only-of-type {\n",
              "        vertical-align: middle;\n",
              "    }\n",
              "\n",
              "    .dataframe tbody tr th {\n",
              "        vertical-align: top;\n",
              "    }\n",
              "\n",
              "    .dataframe thead th {\n",
              "        text-align: right;\n",
              "    }\n",
              "</style>\n",
              "<table border=\"1\" class=\"dataframe\">\n",
              "  <thead>\n",
              "    <tr style=\"text-align: right;\">\n",
              "      <th></th>\n",
              "      <th>SeniorCitizen</th>\n",
              "      <th>tenure</th>\n",
              "      <th>MonthlyCharges</th>\n",
              "    </tr>\n",
              "  </thead>\n",
              "  <tbody>\n",
              "    <tr>\n",
              "      <th>count</th>\n",
              "      <td>7043.000000</td>\n",
              "      <td>7043.000000</td>\n",
              "      <td>7043.000000</td>\n",
              "    </tr>\n",
              "    <tr>\n",
              "      <th>mean</th>\n",
              "      <td>0.162147</td>\n",
              "      <td>32.371149</td>\n",
              "      <td>64.761692</td>\n",
              "    </tr>\n",
              "    <tr>\n",
              "      <th>std</th>\n",
              "      <td>0.368612</td>\n",
              "      <td>24.559481</td>\n",
              "      <td>30.090047</td>\n",
              "    </tr>\n",
              "    <tr>\n",
              "      <th>min</th>\n",
              "      <td>0.000000</td>\n",
              "      <td>0.000000</td>\n",
              "      <td>18.250000</td>\n",
              "    </tr>\n",
              "    <tr>\n",
              "      <th>25%</th>\n",
              "      <td>0.000000</td>\n",
              "      <td>9.000000</td>\n",
              "      <td>35.500000</td>\n",
              "    </tr>\n",
              "    <tr>\n",
              "      <th>50%</th>\n",
              "      <td>0.000000</td>\n",
              "      <td>29.000000</td>\n",
              "      <td>70.350000</td>\n",
              "    </tr>\n",
              "    <tr>\n",
              "      <th>75%</th>\n",
              "      <td>0.000000</td>\n",
              "      <td>55.000000</td>\n",
              "      <td>89.850000</td>\n",
              "    </tr>\n",
              "    <tr>\n",
              "      <th>max</th>\n",
              "      <td>1.000000</td>\n",
              "      <td>72.000000</td>\n",
              "      <td>118.750000</td>\n",
              "    </tr>\n",
              "  </tbody>\n",
              "</table>\n",
              "</div>\n",
              "      <button class=\"colab-df-convert\" onclick=\"convertToInteractive('df-f760ee0b-39bb-4b7a-a6b4-6b02fd005081')\"\n",
              "              title=\"Convert this dataframe to an interactive table.\"\n",
              "              style=\"display:none;\">\n",
              "        \n",
              "  <svg xmlns=\"http://www.w3.org/2000/svg\" height=\"24px\"viewBox=\"0 0 24 24\"\n",
              "       width=\"24px\">\n",
              "    <path d=\"M0 0h24v24H0V0z\" fill=\"none\"/>\n",
              "    <path d=\"M18.56 5.44l.94 2.06.94-2.06 2.06-.94-2.06-.94-.94-2.06-.94 2.06-2.06.94zm-11 1L8.5 8.5l.94-2.06 2.06-.94-2.06-.94L8.5 2.5l-.94 2.06-2.06.94zm10 10l.94 2.06.94-2.06 2.06-.94-2.06-.94-.94-2.06-.94 2.06-2.06.94z\"/><path d=\"M17.41 7.96l-1.37-1.37c-.4-.4-.92-.59-1.43-.59-.52 0-1.04.2-1.43.59L10.3 9.45l-7.72 7.72c-.78.78-.78 2.05 0 2.83L4 21.41c.39.39.9.59 1.41.59.51 0 1.02-.2 1.41-.59l7.78-7.78 2.81-2.81c.8-.78.8-2.07 0-2.86zM5.41 20L4 18.59l7.72-7.72 1.47 1.35L5.41 20z\"/>\n",
              "  </svg>\n",
              "      </button>\n",
              "      \n",
              "  <style>\n",
              "    .colab-df-container {\n",
              "      display:flex;\n",
              "      flex-wrap:wrap;\n",
              "      gap: 12px;\n",
              "    }\n",
              "\n",
              "    .colab-df-convert {\n",
              "      background-color: #E8F0FE;\n",
              "      border: none;\n",
              "      border-radius: 50%;\n",
              "      cursor: pointer;\n",
              "      display: none;\n",
              "      fill: #1967D2;\n",
              "      height: 32px;\n",
              "      padding: 0 0 0 0;\n",
              "      width: 32px;\n",
              "    }\n",
              "\n",
              "    .colab-df-convert:hover {\n",
              "      background-color: #E2EBFA;\n",
              "      box-shadow: 0px 1px 2px rgba(60, 64, 67, 0.3), 0px 1px 3px 1px rgba(60, 64, 67, 0.15);\n",
              "      fill: #174EA6;\n",
              "    }\n",
              "\n",
              "    [theme=dark] .colab-df-convert {\n",
              "      background-color: #3B4455;\n",
              "      fill: #D2E3FC;\n",
              "    }\n",
              "\n",
              "    [theme=dark] .colab-df-convert:hover {\n",
              "      background-color: #434B5C;\n",
              "      box-shadow: 0px 1px 3px 1px rgba(0, 0, 0, 0.15);\n",
              "      filter: drop-shadow(0px 1px 2px rgba(0, 0, 0, 0.3));\n",
              "      fill: #FFFFFF;\n",
              "    }\n",
              "  </style>\n",
              "\n",
              "      <script>\n",
              "        const buttonEl =\n",
              "          document.querySelector('#df-f760ee0b-39bb-4b7a-a6b4-6b02fd005081 button.colab-df-convert');\n",
              "        buttonEl.style.display =\n",
              "          google.colab.kernel.accessAllowed ? 'block' : 'none';\n",
              "\n",
              "        async function convertToInteractive(key) {\n",
              "          const element = document.querySelector('#df-f760ee0b-39bb-4b7a-a6b4-6b02fd005081');\n",
              "          const dataTable =\n",
              "            await google.colab.kernel.invokeFunction('convertToInteractive',\n",
              "                                                     [key], {});\n",
              "          if (!dataTable) return;\n",
              "\n",
              "          const docLinkHtml = 'Like what you see? Visit the ' +\n",
              "            '<a target=\"_blank\" href=https://colab.research.google.com/notebooks/data_table.ipynb>data table notebook</a>'\n",
              "            + ' to learn more about interactive tables.';\n",
              "          element.innerHTML = '';\n",
              "          dataTable['output_type'] = 'display_data';\n",
              "          await google.colab.output.renderOutput(dataTable, element);\n",
              "          const docLink = document.createElement('div');\n",
              "          docLink.innerHTML = docLinkHtml;\n",
              "          element.appendChild(docLink);\n",
              "        }\n",
              "      </script>\n",
              "    </div>\n",
              "  </div>\n",
              "  "
            ]
          },
          "metadata": {},
          "execution_count": 1049
        }
      ]
    },
    {
      "cell_type": "code",
      "source": [
        "#нет пропусков\n",
        "df.info()"
      ],
      "metadata": {
        "colab": {
          "base_uri": "https://localhost:8080/"
        },
        "id": "1lsHkMqG3B1H",
        "outputId": "1d184586-2c1b-46ec-bfe1-490c6fb08443"
      },
      "execution_count": 1050,
      "outputs": [
        {
          "output_type": "stream",
          "name": "stdout",
          "text": [
            "<class 'pandas.core.frame.DataFrame'>\n",
            "RangeIndex: 7043 entries, 0 to 7042\n",
            "Data columns (total 21 columns):\n",
            " #   Column            Non-Null Count  Dtype  \n",
            "---  ------            --------------  -----  \n",
            " 0   customerID        7043 non-null   object \n",
            " 1   gender            7043 non-null   object \n",
            " 2   SeniorCitizen     7043 non-null   int64  \n",
            " 3   Partner           7043 non-null   object \n",
            " 4   Dependents        7043 non-null   object \n",
            " 5   tenure            7043 non-null   int64  \n",
            " 6   PhoneService      7043 non-null   object \n",
            " 7   MultipleLines     7043 non-null   object \n",
            " 8   InternetService   7043 non-null   object \n",
            " 9   OnlineSecurity    7043 non-null   object \n",
            " 10  OnlineBackup      7043 non-null   object \n",
            " 11  DeviceProtection  7043 non-null   object \n",
            " 12  TechSupport       7043 non-null   object \n",
            " 13  StreamingTV       7043 non-null   object \n",
            " 14  StreamingMovies   7043 non-null   object \n",
            " 15  Contract          7043 non-null   object \n",
            " 16  PaperlessBilling  7043 non-null   object \n",
            " 17  PaymentMethod     7043 non-null   object \n",
            " 18  MonthlyCharges    7043 non-null   float64\n",
            " 19  TotalCharges      7043 non-null   object \n",
            " 20  Churn             7043 non-null   object \n",
            "dtypes: float64(1), int64(2), object(18)\n",
            "memory usage: 1.1+ MB\n"
          ]
        }
      ]
    },
    {
      "cell_type": "code",
      "source": [
        "df.isnull().sum()"
      ],
      "metadata": {
        "colab": {
          "base_uri": "https://localhost:8080/"
        },
        "id": "azV08-6m3yq0",
        "outputId": "2916cc72-671e-485f-c2a5-df2419766a97"
      },
      "execution_count": 1051,
      "outputs": [
        {
          "output_type": "execute_result",
          "data": {
            "text/plain": [
              "customerID          0\n",
              "gender              0\n",
              "SeniorCitizen       0\n",
              "Partner             0\n",
              "Dependents          0\n",
              "tenure              0\n",
              "PhoneService        0\n",
              "MultipleLines       0\n",
              "InternetService     0\n",
              "OnlineSecurity      0\n",
              "OnlineBackup        0\n",
              "DeviceProtection    0\n",
              "TechSupport         0\n",
              "StreamingTV         0\n",
              "StreamingMovies     0\n",
              "Contract            0\n",
              "PaperlessBilling    0\n",
              "PaymentMethod       0\n",
              "MonthlyCharges      0\n",
              "TotalCharges        0\n",
              "Churn               0\n",
              "dtype: int64"
            ]
          },
          "metadata": {},
          "execution_count": 1051
        }
      ]
    },
    {
      "cell_type": "code",
      "source": [
        "df.dtypes"
      ],
      "metadata": {
        "colab": {
          "base_uri": "https://localhost:8080/"
        },
        "id": "KKJDLcnd3aq1",
        "outputId": "f5e1b309-0272-4ffa-d692-a61c146d59e4"
      },
      "execution_count": 1052,
      "outputs": [
        {
          "output_type": "execute_result",
          "data": {
            "text/plain": [
              "customerID           object\n",
              "gender               object\n",
              "SeniorCitizen         int64\n",
              "Partner              object\n",
              "Dependents           object\n",
              "tenure                int64\n",
              "PhoneService         object\n",
              "MultipleLines        object\n",
              "InternetService      object\n",
              "OnlineSecurity       object\n",
              "OnlineBackup         object\n",
              "DeviceProtection     object\n",
              "TechSupport          object\n",
              "StreamingTV          object\n",
              "StreamingMovies      object\n",
              "Contract             object\n",
              "PaperlessBilling     object\n",
              "PaymentMethod        object\n",
              "MonthlyCharges      float64\n",
              "TotalCharges         object\n",
              "Churn                object\n",
              "dtype: object"
            ]
          },
          "metadata": {},
          "execution_count": 1052
        }
      ]
    },
    {
      "cell_type": "code",
      "source": [
        "df.TotalCharges = pd.to_numeric(df.TotalCharges, errors='coerce')"
      ],
      "metadata": {
        "id": "P4qtfFq8300M"
      },
      "execution_count": 1053,
      "outputs": []
    },
    {
      "cell_type": "code",
      "source": [
        "df.isnull().sum()"
      ],
      "metadata": {
        "colab": {
          "base_uri": "https://localhost:8080/"
        },
        "id": "PC7m6keO4Gtc",
        "outputId": "228babc4-cdbc-409b-8bb7-44b2b50918bd"
      },
      "execution_count": 1054,
      "outputs": [
        {
          "output_type": "execute_result",
          "data": {
            "text/plain": [
              "customerID           0\n",
              "gender               0\n",
              "SeniorCitizen        0\n",
              "Partner              0\n",
              "Dependents           0\n",
              "tenure               0\n",
              "PhoneService         0\n",
              "MultipleLines        0\n",
              "InternetService      0\n",
              "OnlineSecurity       0\n",
              "OnlineBackup         0\n",
              "DeviceProtection     0\n",
              "TechSupport          0\n",
              "StreamingTV          0\n",
              "StreamingMovies      0\n",
              "Contract             0\n",
              "PaperlessBilling     0\n",
              "PaymentMethod        0\n",
              "MonthlyCharges       0\n",
              "TotalCharges        11\n",
              "Churn                0\n",
              "dtype: int64"
            ]
          },
          "metadata": {},
          "execution_count": 1054
        }
      ]
    },
    {
      "cell_type": "markdown",
      "source": [
        "# 2. Анализ данных"
      ],
      "metadata": {
        "id": "KGLzPtFL4XG6"
      }
    },
    {
      "cell_type": "markdown",
      "source": [
        "### Корреляция признаков"
      ],
      "metadata": {
        "id": "_F0KmHiG7I_Y"
      }
    },
    {
      "cell_type": "markdown",
      "source": [
        "Признак TotalCharges сильно коррелирует с признаками tenure и MonthlyCharges, поэтому его нужно будет удалить. "
      ],
      "metadata": {
        "id": "o1-Utzdt6CTN"
      }
    },
    {
      "cell_type": "code",
      "source": [
        "df = df.drop('TotalCharges', axis = 1)\n",
        "\n",
        "df.head()"
      ],
      "metadata": {
        "colab": {
          "base_uri": "https://localhost:8080/",
          "height": 357
        },
        "id": "SDR342lp6arM",
        "outputId": "b03fbe56-a069-497f-d370-df7826fa71d1"
      },
      "execution_count": 1055,
      "outputs": [
        {
          "output_type": "execute_result",
          "data": {
            "text/plain": [
              "   customerID  gender  SeniorCitizen Partner Dependents  tenure PhoneService  \\\n",
              "0  7590-VHVEG  Female              0     Yes         No       1           No   \n",
              "1  5575-GNVDE    Male              0      No         No      34          Yes   \n",
              "2  3668-QPYBK    Male              0      No         No       2          Yes   \n",
              "3  7795-CFOCW    Male              0      No         No      45           No   \n",
              "4  9237-HQITU  Female              0      No         No       2          Yes   \n",
              "\n",
              "      MultipleLines InternetService OnlineSecurity OnlineBackup  \\\n",
              "0  No phone service             DSL             No          Yes   \n",
              "1                No             DSL            Yes           No   \n",
              "2                No             DSL            Yes          Yes   \n",
              "3  No phone service             DSL            Yes           No   \n",
              "4                No     Fiber optic             No           No   \n",
              "\n",
              "  DeviceProtection TechSupport StreamingTV StreamingMovies        Contract  \\\n",
              "0               No          No          No              No  Month-to-month   \n",
              "1              Yes          No          No              No        One year   \n",
              "2               No          No          No              No  Month-to-month   \n",
              "3              Yes         Yes          No              No        One year   \n",
              "4               No          No          No              No  Month-to-month   \n",
              "\n",
              "  PaperlessBilling              PaymentMethod  MonthlyCharges Churn  \n",
              "0              Yes           Electronic check           29.85    No  \n",
              "1               No               Mailed check           56.95    No  \n",
              "2              Yes               Mailed check           53.85   Yes  \n",
              "3               No  Bank transfer (automatic)           42.30    No  \n",
              "4              Yes           Electronic check           70.70   Yes  "
            ],
            "text/html": [
              "\n",
              "  <div id=\"df-3c474b68-4f06-450e-80b8-8fb847aa3695\">\n",
              "    <div class=\"colab-df-container\">\n",
              "      <div>\n",
              "<style scoped>\n",
              "    .dataframe tbody tr th:only-of-type {\n",
              "        vertical-align: middle;\n",
              "    }\n",
              "\n",
              "    .dataframe tbody tr th {\n",
              "        vertical-align: top;\n",
              "    }\n",
              "\n",
              "    .dataframe thead th {\n",
              "        text-align: right;\n",
              "    }\n",
              "</style>\n",
              "<table border=\"1\" class=\"dataframe\">\n",
              "  <thead>\n",
              "    <tr style=\"text-align: right;\">\n",
              "      <th></th>\n",
              "      <th>customerID</th>\n",
              "      <th>gender</th>\n",
              "      <th>SeniorCitizen</th>\n",
              "      <th>Partner</th>\n",
              "      <th>Dependents</th>\n",
              "      <th>tenure</th>\n",
              "      <th>PhoneService</th>\n",
              "      <th>MultipleLines</th>\n",
              "      <th>InternetService</th>\n",
              "      <th>OnlineSecurity</th>\n",
              "      <th>OnlineBackup</th>\n",
              "      <th>DeviceProtection</th>\n",
              "      <th>TechSupport</th>\n",
              "      <th>StreamingTV</th>\n",
              "      <th>StreamingMovies</th>\n",
              "      <th>Contract</th>\n",
              "      <th>PaperlessBilling</th>\n",
              "      <th>PaymentMethod</th>\n",
              "      <th>MonthlyCharges</th>\n",
              "      <th>Churn</th>\n",
              "    </tr>\n",
              "  </thead>\n",
              "  <tbody>\n",
              "    <tr>\n",
              "      <th>0</th>\n",
              "      <td>7590-VHVEG</td>\n",
              "      <td>Female</td>\n",
              "      <td>0</td>\n",
              "      <td>Yes</td>\n",
              "      <td>No</td>\n",
              "      <td>1</td>\n",
              "      <td>No</td>\n",
              "      <td>No phone service</td>\n",
              "      <td>DSL</td>\n",
              "      <td>No</td>\n",
              "      <td>Yes</td>\n",
              "      <td>No</td>\n",
              "      <td>No</td>\n",
              "      <td>No</td>\n",
              "      <td>No</td>\n",
              "      <td>Month-to-month</td>\n",
              "      <td>Yes</td>\n",
              "      <td>Electronic check</td>\n",
              "      <td>29.85</td>\n",
              "      <td>No</td>\n",
              "    </tr>\n",
              "    <tr>\n",
              "      <th>1</th>\n",
              "      <td>5575-GNVDE</td>\n",
              "      <td>Male</td>\n",
              "      <td>0</td>\n",
              "      <td>No</td>\n",
              "      <td>No</td>\n",
              "      <td>34</td>\n",
              "      <td>Yes</td>\n",
              "      <td>No</td>\n",
              "      <td>DSL</td>\n",
              "      <td>Yes</td>\n",
              "      <td>No</td>\n",
              "      <td>Yes</td>\n",
              "      <td>No</td>\n",
              "      <td>No</td>\n",
              "      <td>No</td>\n",
              "      <td>One year</td>\n",
              "      <td>No</td>\n",
              "      <td>Mailed check</td>\n",
              "      <td>56.95</td>\n",
              "      <td>No</td>\n",
              "    </tr>\n",
              "    <tr>\n",
              "      <th>2</th>\n",
              "      <td>3668-QPYBK</td>\n",
              "      <td>Male</td>\n",
              "      <td>0</td>\n",
              "      <td>No</td>\n",
              "      <td>No</td>\n",
              "      <td>2</td>\n",
              "      <td>Yes</td>\n",
              "      <td>No</td>\n",
              "      <td>DSL</td>\n",
              "      <td>Yes</td>\n",
              "      <td>Yes</td>\n",
              "      <td>No</td>\n",
              "      <td>No</td>\n",
              "      <td>No</td>\n",
              "      <td>No</td>\n",
              "      <td>Month-to-month</td>\n",
              "      <td>Yes</td>\n",
              "      <td>Mailed check</td>\n",
              "      <td>53.85</td>\n",
              "      <td>Yes</td>\n",
              "    </tr>\n",
              "    <tr>\n",
              "      <th>3</th>\n",
              "      <td>7795-CFOCW</td>\n",
              "      <td>Male</td>\n",
              "      <td>0</td>\n",
              "      <td>No</td>\n",
              "      <td>No</td>\n",
              "      <td>45</td>\n",
              "      <td>No</td>\n",
              "      <td>No phone service</td>\n",
              "      <td>DSL</td>\n",
              "      <td>Yes</td>\n",
              "      <td>No</td>\n",
              "      <td>Yes</td>\n",
              "      <td>Yes</td>\n",
              "      <td>No</td>\n",
              "      <td>No</td>\n",
              "      <td>One year</td>\n",
              "      <td>No</td>\n",
              "      <td>Bank transfer (automatic)</td>\n",
              "      <td>42.30</td>\n",
              "      <td>No</td>\n",
              "    </tr>\n",
              "    <tr>\n",
              "      <th>4</th>\n",
              "      <td>9237-HQITU</td>\n",
              "      <td>Female</td>\n",
              "      <td>0</td>\n",
              "      <td>No</td>\n",
              "      <td>No</td>\n",
              "      <td>2</td>\n",
              "      <td>Yes</td>\n",
              "      <td>No</td>\n",
              "      <td>Fiber optic</td>\n",
              "      <td>No</td>\n",
              "      <td>No</td>\n",
              "      <td>No</td>\n",
              "      <td>No</td>\n",
              "      <td>No</td>\n",
              "      <td>No</td>\n",
              "      <td>Month-to-month</td>\n",
              "      <td>Yes</td>\n",
              "      <td>Electronic check</td>\n",
              "      <td>70.70</td>\n",
              "      <td>Yes</td>\n",
              "    </tr>\n",
              "  </tbody>\n",
              "</table>\n",
              "</div>\n",
              "      <button class=\"colab-df-convert\" onclick=\"convertToInteractive('df-3c474b68-4f06-450e-80b8-8fb847aa3695')\"\n",
              "              title=\"Convert this dataframe to an interactive table.\"\n",
              "              style=\"display:none;\">\n",
              "        \n",
              "  <svg xmlns=\"http://www.w3.org/2000/svg\" height=\"24px\"viewBox=\"0 0 24 24\"\n",
              "       width=\"24px\">\n",
              "    <path d=\"M0 0h24v24H0V0z\" fill=\"none\"/>\n",
              "    <path d=\"M18.56 5.44l.94 2.06.94-2.06 2.06-.94-2.06-.94-.94-2.06-.94 2.06-2.06.94zm-11 1L8.5 8.5l.94-2.06 2.06-.94-2.06-.94L8.5 2.5l-.94 2.06-2.06.94zm10 10l.94 2.06.94-2.06 2.06-.94-2.06-.94-.94-2.06-.94 2.06-2.06.94z\"/><path d=\"M17.41 7.96l-1.37-1.37c-.4-.4-.92-.59-1.43-.59-.52 0-1.04.2-1.43.59L10.3 9.45l-7.72 7.72c-.78.78-.78 2.05 0 2.83L4 21.41c.39.39.9.59 1.41.59.51 0 1.02-.2 1.41-.59l7.78-7.78 2.81-2.81c.8-.78.8-2.07 0-2.86zM5.41 20L4 18.59l7.72-7.72 1.47 1.35L5.41 20z\"/>\n",
              "  </svg>\n",
              "      </button>\n",
              "      \n",
              "  <style>\n",
              "    .colab-df-container {\n",
              "      display:flex;\n",
              "      flex-wrap:wrap;\n",
              "      gap: 12px;\n",
              "    }\n",
              "\n",
              "    .colab-df-convert {\n",
              "      background-color: #E8F0FE;\n",
              "      border: none;\n",
              "      border-radius: 50%;\n",
              "      cursor: pointer;\n",
              "      display: none;\n",
              "      fill: #1967D2;\n",
              "      height: 32px;\n",
              "      padding: 0 0 0 0;\n",
              "      width: 32px;\n",
              "    }\n",
              "\n",
              "    .colab-df-convert:hover {\n",
              "      background-color: #E2EBFA;\n",
              "      box-shadow: 0px 1px 2px rgba(60, 64, 67, 0.3), 0px 1px 3px 1px rgba(60, 64, 67, 0.15);\n",
              "      fill: #174EA6;\n",
              "    }\n",
              "\n",
              "    [theme=dark] .colab-df-convert {\n",
              "      background-color: #3B4455;\n",
              "      fill: #D2E3FC;\n",
              "    }\n",
              "\n",
              "    [theme=dark] .colab-df-convert:hover {\n",
              "      background-color: #434B5C;\n",
              "      box-shadow: 0px 1px 3px 1px rgba(0, 0, 0, 0.15);\n",
              "      filter: drop-shadow(0px 1px 2px rgba(0, 0, 0, 0.3));\n",
              "      fill: #FFFFFF;\n",
              "    }\n",
              "  </style>\n",
              "\n",
              "      <script>\n",
              "        const buttonEl =\n",
              "          document.querySelector('#df-3c474b68-4f06-450e-80b8-8fb847aa3695 button.colab-df-convert');\n",
              "        buttonEl.style.display =\n",
              "          google.colab.kernel.accessAllowed ? 'block' : 'none';\n",
              "\n",
              "        async function convertToInteractive(key) {\n",
              "          const element = document.querySelector('#df-3c474b68-4f06-450e-80b8-8fb847aa3695');\n",
              "          const dataTable =\n",
              "            await google.colab.kernel.invokeFunction('convertToInteractive',\n",
              "                                                     [key], {});\n",
              "          if (!dataTable) return;\n",
              "\n",
              "          const docLinkHtml = 'Like what you see? Visit the ' +\n",
              "            '<a target=\"_blank\" href=https://colab.research.google.com/notebooks/data_table.ipynb>data table notebook</a>'\n",
              "            + ' to learn more about interactive tables.';\n",
              "          element.innerHTML = '';\n",
              "          dataTable['output_type'] = 'display_data';\n",
              "          await google.colab.output.renderOutput(dataTable, element);\n",
              "          const docLink = document.createElement('div');\n",
              "          docLink.innerHTML = docLinkHtml;\n",
              "          element.appendChild(docLink);\n",
              "        }\n",
              "      </script>\n",
              "    </div>\n",
              "  </div>\n",
              "  "
            ]
          },
          "metadata": {},
          "execution_count": 1055
        }
      ]
    },
    {
      "cell_type": "code",
      "source": [
        "correlation = df.corr().round(2)\n",
        "plt.figure(figsize = (14,7))\n",
        "sns.heatmap(correlation, annot = True, cmap = 'BuPu')"
      ],
      "metadata": {
        "colab": {
          "base_uri": "https://localhost:8080/",
          "height": 455
        },
        "id": "uGszx0QO6keq",
        "outputId": "0dfe268a-c408-4ffa-c267-8001457d4ab6"
      },
      "execution_count": 1056,
      "outputs": [
        {
          "output_type": "execute_result",
          "data": {
            "text/plain": [
              "<matplotlib.axes._subplots.AxesSubplot at 0x7f6ce7094730>"
            ]
          },
          "metadata": {},
          "execution_count": 1056
        },
        {
          "output_type": "display_data",
          "data": {
            "text/plain": [
              "<Figure size 1008x504 with 2 Axes>"
            ],
            "image/png": "[encoded data removed]"
          },
          "metadata": {}
        }
      ]
    },
    {
      "cell_type": "markdown",
      "source": [
        "### Категорийные переменные"
      ],
      "metadata": {
        "id": "t2fXFc4N6yCh"
      }
    },
    {
      "cell_type": "code",
      "source": [
        "df.drop('customerID', axis = 1, inplace=True)"
      ],
      "metadata": {
        "id": "Xr7ZYx0I8ofq"
      },
      "execution_count": 1057,
      "outputs": []
    },
    {
      "cell_type": "code",
      "source": [
        "df.columns"
      ],
      "metadata": {
        "colab": {
          "base_uri": "https://localhost:8080/"
        },
        "id": "9xagAwQj7wiN",
        "outputId": "a4cd5058-91da-444a-d715-189cc96fef5a"
      },
      "execution_count": 1058,
      "outputs": [
        {
          "output_type": "execute_result",
          "data": {
            "text/plain": [
              "Index(['gender', 'SeniorCitizen', 'Partner', 'Dependents', 'tenure',\n",
              "       'PhoneService', 'MultipleLines', 'InternetService', 'OnlineSecurity',\n",
              "       'OnlineBackup', 'DeviceProtection', 'TechSupport', 'StreamingTV',\n",
              "       'StreamingMovies', 'Contract', 'PaperlessBilling', 'PaymentMethod',\n",
              "       'MonthlyCharges', 'Churn'],\n",
              "      dtype='object')"
            ]
          },
          "metadata": {},
          "execution_count": 1058
        }
      ]
    },
    {
      "cell_type": "code",
      "source": [
        "cat_features = ['gender', 'Partner', 'Dependents', 'PhoneService', \n",
        "                'MultipleLines', 'InternetService',\n",
        "                'OnlineSecurity', 'OnlineBackup', 'DeviceProtection', 'TechSupport',\n",
        "                'StreamingTV', 'StreamingMovies', 'Contract', 'PaperlessBilling',\n",
        "                'PaymentMethod', 'Churn']"
      ],
      "metadata": {
        "id": "d2PYHiBz7sde"
      },
      "execution_count": 1059,
      "outputs": []
    },
    {
      "cell_type": "code",
      "source": [
        "for i in cat_features:\n",
        "  print(df[i].value_counts())\n",
        "  print('-' * 30)"
      ],
      "metadata": {
        "colab": {
          "base_uri": "https://localhost:8080/"
        },
        "id": "uRpAtMgO6rwq",
        "outputId": "be1c121a-4048-4ade-ab97-6b0ee0e8f005"
      },
      "execution_count": 1060,
      "outputs": [
        {
          "output_type": "stream",
          "name": "stdout",
          "text": [
            "Male      3555\n",
            "Female    3488\n",
            "Name: gender, dtype: int64\n",
            "------------------------------\n",
            "No     3641\n",
            "Yes    3402\n",
            "Name: Partner, dtype: int64\n",
            "------------------------------\n",
            "No     4933\n",
            "Yes    2110\n",
            "Name: Dependents, dtype: int64\n",
            "------------------------------\n",
            "Yes    6361\n",
            "No      682\n",
            "Name: PhoneService, dtype: int64\n",
            "------------------------------\n",
            "No                  3390\n",
            "Yes                 2971\n",
            "No phone service     682\n",
            "Name: MultipleLines, dtype: int64\n",
            "------------------------------\n",
            "Fiber optic    3096\n",
            "DSL            2421\n",
            "No             1526\n",
            "Name: InternetService, dtype: int64\n",
            "------------------------------\n",
            "No                     3498\n",
            "Yes                    2019\n",
            "No internet service    1526\n",
            "Name: OnlineSecurity, dtype: int64\n",
            "------------------------------\n",
            "No                     3088\n",
            "Yes                    2429\n",
            "No internet service    1526\n",
            "Name: OnlineBackup, dtype: int64\n",
            "------------------------------\n",
            "No                     3095\n",
            "Yes                    2422\n",
            "No internet service    1526\n",
            "Name: DeviceProtection, dtype: int64\n",
            "------------------------------\n",
            "No                     3473\n",
            "Yes                    2044\n",
            "No internet service    1526\n",
            "Name: TechSupport, dtype: int64\n",
            "------------------------------\n",
            "No                     2810\n",
            "Yes                    2707\n",
            "No internet service    1526\n",
            "Name: StreamingTV, dtype: int64\n",
            "------------------------------\n",
            "No                     2785\n",
            "Yes                    2732\n",
            "No internet service    1526\n",
            "Name: StreamingMovies, dtype: int64\n",
            "------------------------------\n",
            "Month-to-month    3875\n",
            "Two year          1695\n",
            "One year          1473\n",
            "Name: Contract, dtype: int64\n",
            "------------------------------\n",
            "Yes    4171\n",
            "No     2872\n",
            "Name: PaperlessBilling, dtype: int64\n",
            "------------------------------\n",
            "Electronic check             2365\n",
            "Mailed check                 1612\n",
            "Bank transfer (automatic)    1544\n",
            "Credit card (automatic)      1522\n",
            "Name: PaymentMethod, dtype: int64\n",
            "------------------------------\n",
            "No     5174\n",
            "Yes    1869\n",
            "Name: Churn, dtype: int64\n",
            "------------------------------\n"
          ]
        }
      ]
    },
    {
      "cell_type": "code",
      "source": [
        "plt.figure(figsize = (15,15))\n",
        "\n",
        "plt.subplot(3,2,1)\n",
        "sns.countplot(x = 'gender', palette = 'Set2', data = df)\n",
        "\n",
        "plt.subplot(3,2,2)\n",
        "sns.countplot(x = 'SeniorCitizen', palette = 'Set2', data = df)\n",
        "\n",
        "plt.subplot(3,2,3)\n",
        "sns.countplot(x = 'Partner', palette = 'Set2', data = df)\n",
        "\n",
        "plt.subplot(3,2,4)\n",
        "sns.countplot(x = 'Dependents', palette = 'Set2', data = df)\n",
        "\n",
        "plt.subplot(3,2,5)\n",
        "sns.countplot(x = 'PhoneService', palette = 'Set2', data = df)\n",
        "\n",
        "plt.subplot(3,2,6)\n",
        "sns.countplot(x = 'MultipleLines', palette = 'Set2', data = df)"
      ],
      "metadata": {
        "colab": {
          "base_uri": "https://localhost:8080/",
          "height": 903
        },
        "id": "cjHbaNTE911P",
        "outputId": "3c5064fe-49cc-4b27-80b4-92710bd2eef4"
      },
      "execution_count": 1061,
      "outputs": [
        {
          "output_type": "execute_result",
          "data": {
            "text/plain": [
              "<matplotlib.axes._subplots.AxesSubplot at 0x7f6ce6a24e80>"
            ]
          },
          "metadata": {},
          "execution_count": 1061
        },
        {
          "output_type": "display_data",
          "data": {
            "text/plain": [
              "<Figure size 1080x1080 with 6 Axes>"
            ],
            "image/png": "[encoded data removed]"
          },
          "metadata": {}
        }
      ]
    },
    {
      "cell_type": "code",
      "source": [
        "plt.figure(figsize = (15,15))\n",
        "\n",
        "plt.subplot(3,2,1)\n",
        "sns.countplot(x = 'InternetService', palette = 'Set2', data = df)\n",
        "\n",
        "plt.subplot(3,2,2)\n",
        "sns.countplot(x = 'OnlineSecurity', palette = 'Set2', data = df)\n",
        "\n",
        "plt.subplot(3,2,3)\n",
        "sns.countplot(x = 'OnlineBackup', palette = 'Set2', data = df)\n",
        "\n",
        "plt.subplot(3,2,4)\n",
        "sns.countplot(x = 'DeviceProtection', palette = 'Set2', data = df)\n",
        "\n",
        "plt.subplot(3,2,5)\n",
        "sns.countplot(x = 'TechSupport', palette = 'Set2', data = df)\n",
        "\n",
        "plt.subplot(3,2,6)\n",
        "sns.countplot(x = 'StreamingTV', palette = 'Set2', data = df)"
      ],
      "metadata": {
        "colab": {
          "base_uri": "https://localhost:8080/",
          "height": 903
        },
        "id": "wezgnQAv-Lro",
        "outputId": "61de9a88-e326-4f66-a297-a6a6781dbae4"
      },
      "execution_count": 1062,
      "outputs": [
        {
          "output_type": "execute_result",
          "data": {
            "text/plain": [
              "<matplotlib.axes._subplots.AxesSubplot at 0x7f6ce684c550>"
            ]
          },
          "metadata": {},
          "execution_count": 1062
        },
        {
          "output_type": "display_data",
          "data": {
            "text/plain": [
              "<Figure size 1080x1080 with 6 Axes>"
            ],
            "image/png": "[encoded data removed]"
          },
          "metadata": {}
        }
      ]
    },
    {
      "cell_type": "code",
      "source": [
        "plt.figure(figsize = (15,15))\n",
        "\n",
        "plt.subplot(3,2,1)\n",
        "sns.countplot(x = 'StreamingMovies', palette = 'Set2', data = df)\n",
        "\n",
        "plt.subplot(3,2,2)\n",
        "sns.countplot(x = 'Contract', palette = 'Set2', data = df)\n",
        "\n",
        "plt.subplot(3,2,3)\n",
        "sns.countplot(x = 'PaperlessBilling', palette = 'Set2', data = df)\n",
        "\n",
        "plt.subplot(3,2,4)\n",
        "sns.countplot(x = 'Churn', palette = 'Set2', data = df)"
      ],
      "metadata": {
        "colab": {
          "base_uri": "https://localhost:8080/",
          "height": 616
        },
        "id": "zaCBqz8z-V6V",
        "outputId": "6e5ca00e-a5ac-4bc4-8804-62178c05c5e3"
      },
      "execution_count": 1063,
      "outputs": [
        {
          "output_type": "execute_result",
          "data": {
            "text/plain": [
              "<matplotlib.axes._subplots.AxesSubplot at 0x7f6ce6715130>"
            ]
          },
          "metadata": {},
          "execution_count": 1063
        },
        {
          "output_type": "display_data",
          "data": {
            "text/plain": [
              "<Figure size 1080x1080 with 4 Axes>"
            ],
            "image/png": "[encoded data removed]"
          },
          "metadata": {}
        }
      ]
    },
    {
      "cell_type": "code",
      "source": [
        "plt.figure(figsize = (10,5))\n",
        "sns.countplot(x = 'PaymentMethod', palette = 'Set2', data = df)"
      ],
      "metadata": {
        "colab": {
          "base_uri": "https://localhost:8080/",
          "height": 360
        },
        "id": "RLgtZwg6-bik",
        "outputId": "ae77150f-eeff-48c7-de15-35fc00917200"
      },
      "execution_count": 1064,
      "outputs": [
        {
          "output_type": "execute_result",
          "data": {
            "text/plain": [
              "<matplotlib.axes._subplots.AxesSubplot at 0x7f6ce707f220>"
            ]
          },
          "metadata": {},
          "execution_count": 1064
        },
        {
          "output_type": "display_data",
          "data": {
            "text/plain": [
              "<Figure size 720x360 with 1 Axes>"
            ],
            "image/png": "[encoded data removed]"
          },
          "metadata": {}
        }
      ]
    },
    {
      "cell_type": "markdown",
      "source": [
        "### Непрерывные переменные"
      ],
      "metadata": {
        "id": "5B4DQE4s-8v8"
      }
    },
    {
      "cell_type": "markdown",
      "source": [
        "Несмотря на немного странное распределение, судя по бокслотам - выбросов нет."
      ],
      "metadata": {
        "id": "htPJsHUR_sdu"
      }
    },
    {
      "cell_type": "code",
      "source": [
        "plt.figure(figsize = (10,5))\n",
        "sns.set(color_codes = True)\n",
        "\n",
        "plt.subplot(1,2,1)\n",
        "sns.distplot(df['tenure'], kde = False)\n",
        "\n",
        "plt.subplot(1,2,2)\n",
        "sns.distplot(df['MonthlyCharges'], kde = False)"
      ],
      "metadata": {
        "colab": {
          "base_uri": "https://localhost:8080/",
          "height": 415
        },
        "id": "q5guV4iJ_ED7",
        "outputId": "23271cf0-1dfc-4089-9d94-1c77b46ae408"
      },
      "execution_count": 1065,
      "outputs": [
        {
          "output_type": "stream",
          "name": "stderr",
          "text": [
            "/usr/local/lib/python3.8/dist-packages/seaborn/distributions.py:2619: FutureWarning: `distplot` is a deprecated function and will be removed in a future version. Please adapt your code to use either `displot` (a figure-level function with similar flexibility) or `histplot` (an axes-level function for histograms).\n",
            "  warnings.warn(msg, FutureWarning)\n"
          ]
        },
        {
          "output_type": "execute_result",
          "data": {
            "text/plain": [
              "<matplotlib.axes._subplots.AxesSubplot at 0x7f6ce65fd640>"
            ]
          },
          "metadata": {},
          "execution_count": 1065
        },
        {
          "output_type": "display_data",
          "data": {
            "text/plain": [
              "<Figure size 720x360 with 2 Axes>"
            ],
            "image/png": "[encoded data removed]"
          },
          "metadata": {}
        }
      ]
    },
    {
      "cell_type": "code",
      "source": [
        "sns.boxplot(x=df[\"tenure\"])"
      ],
      "metadata": {
        "colab": {
          "base_uri": "https://localhost:8080/",
          "height": 387
        },
        "id": "71Boamc8_RWg",
        "outputId": "d836b09b-db5f-48e8-e64a-a69dec11ae0e"
      },
      "execution_count": 1066,
      "outputs": [
        {
          "output_type": "execute_result",
          "data": {
            "text/plain": [
              "<matplotlib.axes._subplots.AxesSubplot at 0x7f6ce6c26730>"
            ]
          },
          "metadata": {},
          "execution_count": 1066
        },
        {
          "output_type": "display_data",
          "data": {
            "text/plain": [
              "<Figure size 576x396 with 1 Axes>"
            ],
            "image/png": "[encoded data removed]"
          },
          "metadata": {}
        }
      ]
    },
    {
      "cell_type": "code",
      "source": [
        "sns.boxplot(x=df[\"MonthlyCharges\"])"
      ],
      "metadata": {
        "colab": {
          "base_uri": "https://localhost:8080/",
          "height": 387
        },
        "id": "d4I2_eXO_jio",
        "outputId": "73cc9521-336e-4fd5-bb7c-88e346f36416"
      },
      "execution_count": 1067,
      "outputs": [
        {
          "output_type": "execute_result",
          "data": {
            "text/plain": [
              "<matplotlib.axes._subplots.AxesSubplot at 0x7f6ce650d910>"
            ]
          },
          "metadata": {},
          "execution_count": 1067
        },
        {
          "output_type": "display_data",
          "data": {
            "text/plain": [
              "<Figure size 576x396 with 1 Axes>"
            ],
            "image/png": "[encoded data removed]"
          },
          "metadata": {}
        }
      ]
    },
    {
      "cell_type": "markdown",
      "source": [
        "###Бинарные переменные"
      ],
      "metadata": {
        "id": "CMsZdGlXAbmd"
      }
    },
    {
      "cell_type": "code",
      "source": [
        "plt.figure(figsize = (15,15))\n",
        "\n",
        "plt.subplot(3,2,1)\n",
        "sns.countplot(x = 'gender', hue = 'Churn', palette = 'Set2', data = df)\n",
        "\n",
        "plt.subplot(3,2,2)\n",
        "sns.countplot(x = 'SeniorCitizen', hue = 'Churn', palette = 'Set2', data = df)\n",
        "\n",
        "plt.subplot(3,2,3)\n",
        "sns.countplot(x = 'Partner', hue = 'Churn', palette = 'Set2', data = df)\n",
        "\n",
        "plt.subplot(3,2,4)\n",
        "sns.countplot(x = 'Dependents', hue = 'Churn', palette = 'Set2', data = df)\n",
        "\n",
        "plt.subplot(3,2,5)\n",
        "sns.countplot(x = 'PhoneService', hue = 'Churn', palette = 'Set2', data = df)\n",
        "\n",
        "plt.subplot(3,2,6)\n",
        "sns.countplot(x = 'MultipleLines', hue = 'Churn', palette = 'Set2', data = df)"
      ],
      "metadata": {
        "colab": {
          "base_uri": "https://localhost:8080/",
          "height": 903
        },
        "id": "yC39E8rhAfUG",
        "outputId": "18521f1e-0d8a-4df0-c61c-1e9470ab4186"
      },
      "execution_count": 1068,
      "outputs": [
        {
          "output_type": "execute_result",
          "data": {
            "text/plain": [
              "<matplotlib.axes._subplots.AxesSubplot at 0x7f6ce639d5b0>"
            ]
          },
          "metadata": {},
          "execution_count": 1068
        },
        {
          "output_type": "display_data",
          "data": {
            "text/plain": [
              "<Figure size 1080x1080 with 6 Axes>"
            ],
            "image/png": "[encoded data removed]"
          },
          "metadata": {}
        }
      ]
    },
    {
      "cell_type": "code",
      "source": [
        "plt.figure(figsize = (15,15))\n",
        "\n",
        "plt.subplot(3,2,1)\n",
        "sns.countplot(x = 'InternetService', hue = 'Churn', palette = 'Set2', data = df)\n",
        "\n",
        "plt.subplot(3,2,2)\n",
        "sns.countplot(x = 'OnlineSecurity', hue = 'Churn', palette = 'Set2', data = df)\n",
        "\n",
        "plt.subplot(3,2,3)\n",
        "sns.countplot(x = 'OnlineBackup', hue = 'Churn', palette = 'Set2', data = df)\n",
        "\n",
        "plt.subplot(3,2,4)\n",
        "sns.countplot(x = 'DeviceProtection', hue = 'Churn', palette = 'Set2', data = df)\n",
        "\n",
        "plt.subplot(3,2,5)\n",
        "sns.countplot(x = 'TechSupport', hue = 'Churn', palette = 'Set2', data = df)\n",
        "\n",
        "plt.subplot(3,2,6)\n",
        "sns.countplot(x = 'StreamingTV', hue = 'Churn', palette = 'Set2', data = df)"
      ],
      "metadata": {
        "colab": {
          "base_uri": "https://localhost:8080/",
          "height": 903
        },
        "id": "fvLCggcmA5sr",
        "outputId": "4c50fe79-5aba-4ebe-b2d8-c5fe561a4147"
      },
      "execution_count": 1069,
      "outputs": [
        {
          "output_type": "execute_result",
          "data": {
            "text/plain": [
              "<matplotlib.axes._subplots.AxesSubplot at 0x7f6ce61a8100>"
            ]
          },
          "metadata": {},
          "execution_count": 1069
        },
        {
          "output_type": "display_data",
          "data": {
            "text/plain": [
              "<Figure size 1080x1080 with 6 Axes>"
            ],
            "image/png": "[encoded data removed]"
          },
          "metadata": {}
        }
      ]
    },
    {
      "cell_type": "code",
      "source": [
        "plt.figure(figsize = (15,15))\n",
        "\n",
        "plt.subplot(3,2,1)\n",
        "sns.countplot(x = 'StreamingMovies', hue = 'Churn', palette = 'Set2', data = df)\n",
        "\n",
        "plt.subplot(3,2,2)\n",
        "sns.countplot(x = 'Contract', hue = 'Churn', palette = 'Set2', data = df)\n",
        "\n",
        "plt.subplot(3,2,3)\n",
        "sns.countplot(x = 'PaperlessBilling', hue = 'Churn', palette = 'Set2', data = df)\n"
      ],
      "metadata": {
        "colab": {
          "base_uri": "https://localhost:8080/",
          "height": 618
        },
        "id": "VbNVferGBBYx",
        "outputId": "ed6ca8a3-0fb8-4372-9115-2fca333c6205"
      },
      "execution_count": 1070,
      "outputs": [
        {
          "output_type": "execute_result",
          "data": {
            "text/plain": [
              "<matplotlib.axes._subplots.AxesSubplot at 0x7f6ce60662e0>"
            ]
          },
          "metadata": {},
          "execution_count": 1070
        },
        {
          "output_type": "display_data",
          "data": {
            "text/plain": [
              "<Figure size 1080x1080 with 3 Axes>"
            ],
            "image/png": "[encoded data removed]"
          },
          "metadata": {}
        }
      ]
    },
    {
      "cell_type": "code",
      "source": [
        "plt.figure(figsize = (10,5))\n",
        "sns.countplot(x = 'PaymentMethod', hue = 'Churn', palette = 'Set2', data = df)"
      ],
      "metadata": {
        "colab": {
          "base_uri": "https://localhost:8080/",
          "height": 360
        },
        "id": "SvaY12TyBRSh",
        "outputId": "e20a64c1-f48f-4fea-def7-b427d3c63204"
      },
      "execution_count": 1071,
      "outputs": [
        {
          "output_type": "execute_result",
          "data": {
            "text/plain": [
              "<matplotlib.axes._subplots.AxesSubplot at 0x7f6ce60f3f10>"
            ]
          },
          "metadata": {},
          "execution_count": 1071
        },
        {
          "output_type": "display_data",
          "data": {
            "text/plain": [
              "<Figure size 720x360 with 1 Axes>"
            ],
            "image/png": "[encoded data removed]"
          },
          "metadata": {}
        }
      ]
    },
    {
      "cell_type": "markdown",
      "source": [
        "Когда мы анализируем переменную Tenure, мы можем сделать вывод, что более низкие значения с большей вероятностью являются оттоком."
      ],
      "metadata": {
        "id": "b5QXqHd0BgQq"
      }
    },
    {
      "cell_type": "code",
      "source": [
        "sns.catplot(x = 'Churn', y=\"tenure\", kind=\"box\", data = df)"
      ],
      "metadata": {
        "colab": {
          "base_uri": "https://localhost:8080/",
          "height": 382
        },
        "id": "F7QurT3cBim7",
        "outputId": "cf682cc2-8465-4717-a308-eca3a21109c3"
      },
      "execution_count": 1072,
      "outputs": [
        {
          "output_type": "execute_result",
          "data": {
            "text/plain": [
              "<seaborn.axisgrid.FacetGrid at 0x7f6ce60f7c10>"
            ]
          },
          "metadata": {},
          "execution_count": 1072
        },
        {
          "output_type": "display_data",
          "data": {
            "text/plain": [
              "<Figure size 360x360 with 1 Axes>"
            ],
            "image/png": "[encoded data removed]"
          },
          "metadata": {}
        }
      ]
    },
    {
      "cell_type": "markdown",
      "source": [
        "В переменной MonthlyCharge отток смешивается с неоттоком, и всё же отток находится чуть более высоко. "
      ],
      "metadata": {
        "id": "D3s4fSVXB-2o"
      }
    },
    {
      "cell_type": "code",
      "source": [
        "sns.catplot(x = 'Churn', y=\"MonthlyCharges\", kind=\"box\", data = df)"
      ],
      "metadata": {
        "colab": {
          "base_uri": "https://localhost:8080/",
          "height": 382
        },
        "id": "Oglw-B0lB_m3",
        "outputId": "e42b464a-547b-444f-a24a-37092eb976dc"
      },
      "execution_count": 1073,
      "outputs": [
        {
          "output_type": "execute_result",
          "data": {
            "text/plain": [
              "<seaborn.axisgrid.FacetGrid at 0x7f6ce5ecce20>"
            ]
          },
          "metadata": {},
          "execution_count": 1073
        },
        {
          "output_type": "display_data",
          "data": {
            "text/plain": [
              "<Figure size 360x360 with 1 Axes>"
            ],
            "image/png": "[encoded data removed]"
          },
          "metadata": {}
        }
      ]
    },
    {
      "cell_type": "markdown",
      "source": [
        "Если сравнить переменную Tenure с переменной Monthly Charge, не видно никакой взаимосвязи."
      ],
      "metadata": {
        "id": "9a23NdYNCVsw"
      }
    },
    {
      "cell_type": "code",
      "source": [
        "sns.relplot(x='tenure', y = 'MonthlyCharges' , data = df)"
      ],
      "metadata": {
        "colab": {
          "base_uri": "https://localhost:8080/",
          "height": 382
        },
        "id": "p3IXaEUGCQff",
        "outputId": "1f4f6ad5-9274-4e4c-c8a1-5820ea3db979"
      },
      "execution_count": 1074,
      "outputs": [
        {
          "output_type": "execute_result",
          "data": {
            "text/plain": [
              "<seaborn.axisgrid.FacetGrid at 0x7f6ce5e8f3a0>"
            ]
          },
          "metadata": {},
          "execution_count": 1074
        },
        {
          "output_type": "display_data",
          "data": {
            "text/plain": [
              "<Figure size 360x360 with 1 Axes>"
            ],
            "image/png": "[encoded data removed]"
          },
          "metadata": {}
        }
      ]
    },
    {
      "cell_type": "markdown",
      "source": [
        "# 3. Pipeline для обработки данных, построение модели"
      ],
      "metadata": {
        "id": "SiujEG3-8pAB"
      }
    },
    {
      "cell_type": "code",
      "source": [
        "df = pd.read_csv('churn_data.csv', sep = ',')\n",
        "\n",
        "df.head()"
      ],
      "metadata": {
        "colab": {
          "base_uri": "https://localhost:8080/",
          "height": 357
        },
        "id": "86dsqCSr9NVx",
        "outputId": "19229ffb-7d77-4dc5-b609-e8f64a6b7bbf"
      },
      "execution_count": 1075,
      "outputs": [
        {
          "output_type": "execute_result",
          "data": {
            "text/plain": [
              "   customerID  gender  SeniorCitizen Partner Dependents  tenure PhoneService  \\\n",
              "0  7590-VHVEG  Female              0     Yes         No       1           No   \n",
              "1  5575-GNVDE    Male              0      No         No      34          Yes   \n",
              "2  3668-QPYBK    Male              0      No         No       2          Yes   \n",
              "3  7795-CFOCW    Male              0      No         No      45           No   \n",
              "4  9237-HQITU  Female              0      No         No       2          Yes   \n",
              "\n",
              "      MultipleLines InternetService OnlineSecurity OnlineBackup  \\\n",
              "0  No phone service             DSL             No          Yes   \n",
              "1                No             DSL            Yes           No   \n",
              "2                No             DSL            Yes          Yes   \n",
              "3  No phone service             DSL            Yes           No   \n",
              "4                No     Fiber optic             No           No   \n",
              "\n",
              "  DeviceProtection TechSupport StreamingTV StreamingMovies        Contract  \\\n",
              "0               No          No          No              No  Month-to-month   \n",
              "1              Yes          No          No              No        One year   \n",
              "2               No          No          No              No  Month-to-month   \n",
              "3              Yes         Yes          No              No        One year   \n",
              "4               No          No          No              No  Month-to-month   \n",
              "\n",
              "  PaperlessBilling              PaymentMethod  MonthlyCharges TotalCharges  \\\n",
              "0              Yes           Electronic check           29.85        29.85   \n",
              "1               No               Mailed check           56.95       1889.5   \n",
              "2              Yes               Mailed check           53.85       108.15   \n",
              "3               No  Bank transfer (automatic)           42.30      1840.75   \n",
              "4              Yes           Electronic check           70.70       151.65   \n",
              "\n",
              "  Churn  \n",
              "0    No  \n",
              "1    No  \n",
              "2   Yes  \n",
              "3    No  \n",
              "4   Yes  "
            ],
            "text/html": [
              "\n",
              "  <div id=\"df-0a73a70b-bd47-42fd-9aa6-16ad49fb4094\">\n",
              "    <div class=\"colab-df-container\">\n",
              "      <div>\n",
              "<style scoped>\n",
              "    .dataframe tbody tr th:only-of-type {\n",
              "        vertical-align: middle;\n",
              "    }\n",
              "\n",
              "    .dataframe tbody tr th {\n",
              "        vertical-align: top;\n",
              "    }\n",
              "\n",
              "    .dataframe thead th {\n",
              "        text-align: right;\n",
              "    }\n",
              "</style>\n",
              "<table border=\"1\" class=\"dataframe\">\n",
              "  <thead>\n",
              "    <tr style=\"text-align: right;\">\n",
              "      <th></th>\n",
              "      <th>customerID</th>\n",
              "      <th>gender</th>\n",
              "      <th>SeniorCitizen</th>\n",
              "      <th>Partner</th>\n",
              "      <th>Dependents</th>\n",
              "      <th>tenure</th>\n",
              "      <th>PhoneService</th>\n",
              "      <th>MultipleLines</th>\n",
              "      <th>InternetService</th>\n",
              "      <th>OnlineSecurity</th>\n",
              "      <th>OnlineBackup</th>\n",
              "      <th>DeviceProtection</th>\n",
              "      <th>TechSupport</th>\n",
              "      <th>StreamingTV</th>\n",
              "      <th>StreamingMovies</th>\n",
              "      <th>Contract</th>\n",
              "      <th>PaperlessBilling</th>\n",
              "      <th>PaymentMethod</th>\n",
              "      <th>MonthlyCharges</th>\n",
              "      <th>TotalCharges</th>\n",
              "      <th>Churn</th>\n",
              "    </tr>\n",
              "  </thead>\n",
              "  <tbody>\n",
              "    <tr>\n",
              "      <th>0</th>\n",
              "      <td>7590-VHVEG</td>\n",
              "      <td>Female</td>\n",
              "      <td>0</td>\n",
              "      <td>Yes</td>\n",
              "      <td>No</td>\n",
              "      <td>1</td>\n",
              "      <td>No</td>\n",
              "      <td>No phone service</td>\n",
              "      <td>DSL</td>\n",
              "      <td>No</td>\n",
              "      <td>Yes</td>\n",
              "      <td>No</td>\n",
              "      <td>No</td>\n",
              "      <td>No</td>\n",
              "      <td>No</td>\n",
              "      <td>Month-to-month</td>\n",
              "      <td>Yes</td>\n",
              "      <td>Electronic check</td>\n",
              "      <td>29.85</td>\n",
              "      <td>29.85</td>\n",
              "      <td>No</td>\n",
              "    </tr>\n",
              "    <tr>\n",
              "      <th>1</th>\n",
              "      <td>5575-GNVDE</td>\n",
              "      <td>Male</td>\n",
              "      <td>0</td>\n",
              "      <td>No</td>\n",
              "      <td>No</td>\n",
              "      <td>34</td>\n",
              "      <td>Yes</td>\n",
              "      <td>No</td>\n",
              "      <td>DSL</td>\n",
              "      <td>Yes</td>\n",
              "      <td>No</td>\n",
              "      <td>Yes</td>\n",
              "      <td>No</td>\n",
              "      <td>No</td>\n",
              "      <td>No</td>\n",
              "      <td>One year</td>\n",
              "      <td>No</td>\n",
              "      <td>Mailed check</td>\n",
              "      <td>56.95</td>\n",
              "      <td>1889.5</td>\n",
              "      <td>No</td>\n",
              "    </tr>\n",
              "    <tr>\n",
              "      <th>2</th>\n",
              "      <td>3668-QPYBK</td>\n",
              "      <td>Male</td>\n",
              "      <td>0</td>\n",
              "      <td>No</td>\n",
              "      <td>No</td>\n",
              "      <td>2</td>\n",
              "      <td>Yes</td>\n",
              "      <td>No</td>\n",
              "      <td>DSL</td>\n",
              "      <td>Yes</td>\n",
              "      <td>Yes</td>\n",
              "      <td>No</td>\n",
              "      <td>No</td>\n",
              "      <td>No</td>\n",
              "      <td>No</td>\n",
              "      <td>Month-to-month</td>\n",
              "      <td>Yes</td>\n",
              "      <td>Mailed check</td>\n",
              "      <td>53.85</td>\n",
              "      <td>108.15</td>\n",
              "      <td>Yes</td>\n",
              "    </tr>\n",
              "    <tr>\n",
              "      <th>3</th>\n",
              "      <td>7795-CFOCW</td>\n",
              "      <td>Male</td>\n",
              "      <td>0</td>\n",
              "      <td>No</td>\n",
              "      <td>No</td>\n",
              "      <td>45</td>\n",
              "      <td>No</td>\n",
              "      <td>No phone service</td>\n",
              "      <td>DSL</td>\n",
              "      <td>Yes</td>\n",
              "      <td>No</td>\n",
              "      <td>Yes</td>\n",
              "      <td>Yes</td>\n",
              "      <td>No</td>\n",
              "      <td>No</td>\n",
              "      <td>One year</td>\n",
              "      <td>No</td>\n",
              "      <td>Bank transfer (automatic)</td>\n",
              "      <td>42.30</td>\n",
              "      <td>1840.75</td>\n",
              "      <td>No</td>\n",
              "    </tr>\n",
              "    <tr>\n",
              "      <th>4</th>\n",
              "      <td>9237-HQITU</td>\n",
              "      <td>Female</td>\n",
              "      <td>0</td>\n",
              "      <td>No</td>\n",
              "      <td>No</td>\n",
              "      <td>2</td>\n",
              "      <td>Yes</td>\n",
              "      <td>No</td>\n",
              "      <td>Fiber optic</td>\n",
              "      <td>No</td>\n",
              "      <td>No</td>\n",
              "      <td>No</td>\n",
              "      <td>No</td>\n",
              "      <td>No</td>\n",
              "      <td>No</td>\n",
              "      <td>Month-to-month</td>\n",
              "      <td>Yes</td>\n",
              "      <td>Electronic check</td>\n",
              "      <td>70.70</td>\n",
              "      <td>151.65</td>\n",
              "      <td>Yes</td>\n",
              "    </tr>\n",
              "  </tbody>\n",
              "</table>\n",
              "</div>\n",
              "      <button class=\"colab-df-convert\" onclick=\"convertToInteractive('df-0a73a70b-bd47-42fd-9aa6-16ad49fb4094')\"\n",
              "              title=\"Convert this dataframe to an interactive table.\"\n",
              "              style=\"display:none;\">\n",
              "        \n",
              "  <svg xmlns=\"http://www.w3.org/2000/svg\" height=\"24px\"viewBox=\"0 0 24 24\"\n",
              "       width=\"24px\">\n",
              "    <path d=\"M0 0h24v24H0V0z\" fill=\"none\"/>\n",
              "    <path d=\"M18.56 5.44l.94 2.06.94-2.06 2.06-.94-2.06-.94-.94-2.06-.94 2.06-2.06.94zm-11 1L8.5 8.5l.94-2.06 2.06-.94-2.06-.94L8.5 2.5l-.94 2.06-2.06.94zm10 10l.94 2.06.94-2.06 2.06-.94-2.06-.94-.94-2.06-.94 2.06-2.06.94z\"/><path d=\"M17.41 7.96l-1.37-1.37c-.4-.4-.92-.59-1.43-.59-.52 0-1.04.2-1.43.59L10.3 9.45l-7.72 7.72c-.78.78-.78 2.05 0 2.83L4 21.41c.39.39.9.59 1.41.59.51 0 1.02-.2 1.41-.59l7.78-7.78 2.81-2.81c.8-.78.8-2.07 0-2.86zM5.41 20L4 18.59l7.72-7.72 1.47 1.35L5.41 20z\"/>\n",
              "  </svg>\n",
              "      </button>\n",
              "      \n",
              "  <style>\n",
              "    .colab-df-container {\n",
              "      display:flex;\n",
              "      flex-wrap:wrap;\n",
              "      gap: 12px;\n",
              "    }\n",
              "\n",
              "    .colab-df-convert {\n",
              "      background-color: #E8F0FE;\n",
              "      border: none;\n",
              "      border-radius: 50%;\n",
              "      cursor: pointer;\n",
              "      display: none;\n",
              "      fill: #1967D2;\n",
              "      height: 32px;\n",
              "      padding: 0 0 0 0;\n",
              "      width: 32px;\n",
              "    }\n",
              "\n",
              "    .colab-df-convert:hover {\n",
              "      background-color: #E2EBFA;\n",
              "      box-shadow: 0px 1px 2px rgba(60, 64, 67, 0.3), 0px 1px 3px 1px rgba(60, 64, 67, 0.15);\n",
              "      fill: #174EA6;\n",
              "    }\n",
              "\n",
              "    [theme=dark] .colab-df-convert {\n",
              "      background-color: #3B4455;\n",
              "      fill: #D2E3FC;\n",
              "    }\n",
              "\n",
              "    [theme=dark] .colab-df-convert:hover {\n",
              "      background-color: #434B5C;\n",
              "      box-shadow: 0px 1px 3px 1px rgba(0, 0, 0, 0.15);\n",
              "      filter: drop-shadow(0px 1px 2px rgba(0, 0, 0, 0.3));\n",
              "      fill: #FFFFFF;\n",
              "    }\n",
              "  </style>\n",
              "\n",
              "      <script>\n",
              "        const buttonEl =\n",
              "          document.querySelector('#df-0a73a70b-bd47-42fd-9aa6-16ad49fb4094 button.colab-df-convert');\n",
              "        buttonEl.style.display =\n",
              "          google.colab.kernel.accessAllowed ? 'block' : 'none';\n",
              "\n",
              "        async function convertToInteractive(key) {\n",
              "          const element = document.querySelector('#df-0a73a70b-bd47-42fd-9aa6-16ad49fb4094');\n",
              "          const dataTable =\n",
              "            await google.colab.kernel.invokeFunction('convertToInteractive',\n",
              "                                                     [key], {});\n",
              "          if (!dataTable) return;\n",
              "\n",
              "          const docLinkHtml = 'Like what you see? Visit the ' +\n",
              "            '<a target=\"_blank\" href=https://colab.research.google.com/notebooks/data_table.ipynb>data table notebook</a>'\n",
              "            + ' to learn more about interactive tables.';\n",
              "          element.innerHTML = '';\n",
              "          dataTable['output_type'] = 'display_data';\n",
              "          await google.colab.output.renderOutput(dataTable, element);\n",
              "          const docLink = document.createElement('div');\n",
              "          docLink.innerHTML = docLinkHtml;\n",
              "          element.appendChild(docLink);\n",
              "        }\n",
              "      </script>\n",
              "    </div>\n",
              "  </div>\n",
              "  "
            ]
          },
          "metadata": {},
          "execution_count": 1075
        }
      ]
    },
    {
      "cell_type": "code",
      "source": [
        "df.iloc[:,0].head()"
      ],
      "metadata": {
        "colab": {
          "base_uri": "https://localhost:8080/"
        },
        "id": "UW7naWBV2rJJ",
        "outputId": "4cb1c66d-2aa5-42b2-ac7a-e39d93dd6922"
      },
      "execution_count": 1076,
      "outputs": [
        {
          "output_type": "execute_result",
          "data": {
            "text/plain": [
              "0    7590-VHVEG\n",
              "1    5575-GNVDE\n",
              "2    3668-QPYBK\n",
              "3    7795-CFOCW\n",
              "4    9237-HQITU\n",
              "Name: customerID, dtype: object"
            ]
          },
          "metadata": {},
          "execution_count": 1076
        }
      ]
    },
    {
      "cell_type": "code",
      "source": [
        "df = df.replace({'Churn' : { 'Yes' : 1, 'No' : 0}})\n",
        "df['Churn'].head()"
      ],
      "metadata": {
        "colab": {
          "base_uri": "https://localhost:8080/"
        },
        "id": "CaZrbGfLOVJA",
        "outputId": "f38fd3fd-681c-45cb-ae2d-61b41e91e3c8"
      },
      "execution_count": 1077,
      "outputs": [
        {
          "output_type": "execute_result",
          "data": {
            "text/plain": [
              "0    0\n",
              "1    0\n",
              "2    1\n",
              "3    0\n",
              "4    1\n",
              "Name: Churn, dtype: int64"
            ]
          },
          "metadata": {},
          "execution_count": 1077
        }
      ]
    },
    {
      "cell_type": "code",
      "source": [
        "X  = df.drop('Churn', axis=1)\n",
        "y = df['Churn']"
      ],
      "metadata": {
        "id": "vAd2Ji97ExL9"
      },
      "execution_count": 1078,
      "outputs": []
    },
    {
      "cell_type": "markdown",
      "source": [
        "Сделаем балансировку классов"
      ],
      "metadata": {
        "id": "uKLPezm5LEAs"
      }
    },
    {
      "cell_type": "code",
      "source": [
        "from imblearn.over_sampling import RandomOverSampler"
      ],
      "metadata": {
        "id": "aqnNodc0LMtZ"
      },
      "execution_count": 1079,
      "outputs": []
    },
    {
      "cell_type": "code",
      "source": [
        "ros = RandomOverSampler(random_state=0)\n",
        "\n",
        "X, y = ros.fit_resample(X, y)"
      ],
      "metadata": {
        "id": "VffpHtZeLMtc"
      },
      "execution_count": 1080,
      "outputs": []
    },
    {
      "cell_type": "code",
      "source": [
        "ax = sns.countplot(x=y)"
      ],
      "metadata": {
        "colab": {
          "base_uri": "https://localhost:8080/",
          "height": 370
        },
        "id": "3HbbKC2HLGxQ",
        "outputId": "43488933-f6c3-407a-eb8a-77a081afb0a9"
      },
      "execution_count": 1081,
      "outputs": [
        {
          "output_type": "display_data",
          "data": {
            "text/plain": [
              "<Figure size 576x396 with 1 Axes>"
            ],
            "image/png": "[encoded data removed]"
          },
          "metadata": {}
        }
      ]
    },
    {
      "cell_type": "code",
      "source": [
        "X.shape, y.shape"
      ],
      "metadata": {
        "colab": {
          "base_uri": "https://localhost:8080/"
        },
        "id": "5h2tBmx5Mx_t",
        "outputId": "d9c83c73-d40a-44a5-a594-94bd8f7bb35f"
      },
      "execution_count": 1082,
      "outputs": [
        {
          "output_type": "execute_result",
          "data": {
            "text/plain": [
              "((10348, 20), (10348,))"
            ]
          },
          "metadata": {},
          "execution_count": 1082
        }
      ]
    },
    {
      "cell_type": "code",
      "source": [
        "#разделим данные на train/test\n",
        "from sklearn.model_selection import train_test_split\n",
        "\n",
        "X_train, X_test, y_train, y_test = train_test_split(X, y, random_state=0)"
      ],
      "metadata": {
        "id": "DF4GxvOt8zxu"
      },
      "execution_count": 1083,
      "outputs": []
    },
    {
      "cell_type": "markdown",
      "source": [
        "Сохраним данные трейна и теста"
      ],
      "metadata": {
        "id": "zjfMQn8DGZ1k"
      }
    },
    {
      "cell_type": "code",
      "source": [
        "# save test\n",
        "X_test.to_csv(\"X_test.csv\", index=None)\n",
        "y_test.to_csv(\"y_test.csv\", index=None)\n",
        "\n",
        "# save train\n",
        "X_train.to_csv(\"X_train.csv\", index=None)\n",
        "y_train.to_csv(\"y_train.csv\", index=None)"
      ],
      "metadata": {
        "id": "zC_Vg0kwGYZt"
      },
      "execution_count": 1084,
      "outputs": []
    },
    {
      "cell_type": "code",
      "source": [
        "from sklearn.pipeline import Pipeline, make_pipeline\n",
        "from sklearn.base import BaseEstimator, TransformerMixin\n",
        "#from sklearn.preprocessing import LabelEncoder\n",
        "\n",
        "#соберем наш простой pipeline, но нам понадобится написать класс для выбора нужного поля\n",
        "class FeatureSelector(BaseEstimator, TransformerMixin):\n",
        "    def __init__(self, column):\n",
        "        self.column = column\n",
        "\n",
        "    def fit(self, X, y=None):\n",
        "        return self\n",
        "\n",
        "    def transform(self, X, y=None):\n",
        "        return X[self.column]\n",
        "    \n",
        "\n",
        "class NumberSelector(BaseEstimator, TransformerMixin):\n",
        "    \"\"\"\n",
        "    Transformer to select a single column from the data frame to perform additional transformations on\n",
        "    Use on numeric columns in the data\n",
        "    \"\"\"\n",
        "    def __init__(self, key):\n",
        "        self.key = key\n",
        "\n",
        "    def fit(self, X, y=None):\n",
        "        return self\n",
        "\n",
        "    def transform(self, X):\n",
        "        return X[[self.key]]\n",
        "    \n",
        "    \n",
        "class OHEEncoder(BaseEstimator, TransformerMixin):\n",
        "    def __init__(self, key):\n",
        "        self.key = key\n",
        "        self.columns = []\n",
        "\n",
        "    def fit(self, X, y=None):\n",
        "        self.columns = [col for col in pd.get_dummies(X, prefix=self.key).columns]\n",
        "        return self\n",
        "\n",
        "    def transform(self, X):\n",
        "        X = pd.get_dummies(X, prefix=self.key)\n",
        "        test_columns = [col for col in X.columns]\n",
        "        \n",
        "        for col_ in self.columns:\n",
        "            if col_ not in test_columns:\n",
        "                X[col_] = 0\n",
        "        return X[self.columns]\n",
        "\n",
        "\n",
        "# class BinaryEncoder(BaseEstimator, TransformerMixin):\n",
        "#     \"\"\"\n",
        "#     Transformer to replace \"Yes\" and \"No\" with 1 and 0\n",
        "#     \"\"\"\n",
        "#     def __init__(self, key):\n",
        "#         self.key = key\n",
        "\n",
        "#     def fit(self, X, y=None):\n",
        "#         return self\n",
        "\n",
        "#     def transform(self, X):\n",
        "#         X = X.replace({self.key : { 'Yes' : 1, 'No' : 0}})\n",
        "#         return X[[self.key]]\n",
        "\n",
        "class OHEEncoderBin(BaseEstimator, TransformerMixin):\n",
        "    def __init__(self, key):\n",
        "        self.key = key\n",
        "        self.columns = []\n",
        "\n",
        "    def fit(self, X, y=None):\n",
        "        B = [col for col in pd.get_dummies(X, prefix=self.key).columns]\n",
        "        self.columns = B[:1]\n",
        "        return self\n",
        "\n",
        "    def transform(self, X):\n",
        "        X = pd.get_dummies(X, prefix=self.key)\n",
        "    \n",
        "        return X[self.columns]  \n",
        "\n",
        "\n",
        "class TextImputer(BaseEstimator, TransformerMixin):\n",
        "    def __init__(self, key):\n",
        "        self.key = key\n",
        "        self.mode = None\n",
        "    \n",
        "    def fit(self, X, y=None):\n",
        "        self.mode = X[self.key].mode()[0]\n",
        "        return self\n",
        "    \n",
        "    def transform(self, X):\n",
        "        X[self.key] = X[self.key].fillna(self.mode)\n",
        "        return X\n",
        "\n",
        "\n",
        "class NumImputer(BaseEstimator, TransformerMixin):\n",
        "    def __init__(self, key):\n",
        "        self.key = key\n",
        "        self.median = None\n",
        "    \n",
        "    def fit(self, X, y=None):\n",
        "        self.median = X[self.key].median()\n",
        "        return self\n",
        "    \n",
        "    def transform(self, X):\n",
        "        X[self.key] = X[self.key].fillna(self.median)\n",
        "        return X"
      ],
      "metadata": {
        "id": "5uYLdaSp9qhe"
      },
      "execution_count": 1085,
      "outputs": []
    },
    {
      "cell_type": "code",
      "source": [
        "#не берем 'TotalCharges' и 'customerID'\n",
        "X_train.columns"
      ],
      "metadata": {
        "colab": {
          "base_uri": "https://localhost:8080/"
        },
        "id": "JnW-ZSivB7Mt",
        "outputId": "d6f3e268-5cb2-4c96-b125-cfbd4c14834c"
      },
      "execution_count": 1086,
      "outputs": [
        {
          "output_type": "execute_result",
          "data": {
            "text/plain": [
              "Index(['customerID', 'gender', 'SeniorCitizen', 'Partner', 'Dependents',\n",
              "       'tenure', 'PhoneService', 'MultipleLines', 'InternetService',\n",
              "       'OnlineSecurity', 'OnlineBackup', 'DeviceProtection', 'TechSupport',\n",
              "       'StreamingTV', 'StreamingMovies', 'Contract', 'PaperlessBilling',\n",
              "       'PaymentMethod', 'MonthlyCharges', 'TotalCharges'],\n",
              "      dtype='object')"
            ]
          },
          "metadata": {},
          "execution_count": 1086
        }
      ]
    },
    {
      "cell_type": "code",
      "source": [
        "# Male      3555\n",
        "# Female    3488\n",
        "# Name: gender, dtype: int64\n",
        "# ------------------------------\n",
        "# No     3641\n",
        "# Yes    3402\n",
        "# Name: Partner, dtype: int64\n",
        "# ------------------------------\n",
        "# No     4933\n",
        "# Yes    2110\n",
        "# Name: Dependents, dtype: int64\n",
        "# ------------------------------\n",
        "# Yes    6361\n",
        "# No      682\n",
        "# Name: PhoneService, dtype: int64\n",
        "# ------------------------------\n",
        "# No                  3390\n",
        "# Yes                 2971\n",
        "# No phone service     682\n",
        "# Name: MultipleLines, dtype: int64\n",
        "# ------------------------------\n",
        "# Fiber optic    3096\n",
        "# DSL            2421\n",
        "# No             1526\n",
        "# Name: InternetService, dtype: int64\n",
        "# ------------------------------\n",
        "# No                     3498\n",
        "# Yes                    2019\n",
        "# No internet service    1526\n",
        "# Name: OnlineSecurity, dtype: int64\n",
        "# ------------------------------\n",
        "# No                     3088\n",
        "# Yes                    2429\n",
        "# No internet service    1526\n",
        "# Name: OnlineBackup, dtype: int64\n",
        "# ------------------------------\n",
        "# No                     3095\n",
        "# Yes                    2422\n",
        "# No internet service    1526\n",
        "# Name: DeviceProtection, dtype: int64\n",
        "# ------------------------------\n",
        "# No                     3473\n",
        "# Yes                    2044\n",
        "# No internet service    1526\n",
        "# Name: TechSupport, dtype: int64\n",
        "# ------------------------------\n",
        "# No                     2810\n",
        "# Yes                    2707\n",
        "# No internet service    1526\n",
        "# Name: StreamingTV, dtype: int64\n",
        "# ------------------------------\n",
        "# No                     2785\n",
        "# Yes                    2732\n",
        "# No internet service    1526\n",
        "# Name: StreamingMovies, dtype: int64\n",
        "# ------------------------------\n",
        "# Month-to-month    3875\n",
        "# Two year          1695\n",
        "# One year          1473\n",
        "# Name: Contract, dtype: int64\n",
        "# ------------------------------\n",
        "# Yes    4171\n",
        "# No     2872\n",
        "# Name: PaperlessBilling, dtype: int64\n",
        "# ------------------------------\n",
        "# Electronic check             2365\n",
        "# Mailed check                 1612\n",
        "# Bank transfer (automatic)    1544\n",
        "# Credit card (automatic)      1522\n",
        "# Name: PaymentMethod, dtype: int64\n",
        "# ------------------------------\n",
        "# No     5174\n",
        "# Yes    1869\n",
        "# Name: Churn, dtype: int64"
      ],
      "metadata": {
        "id": "Qh-erTzcCthE"
      },
      "execution_count": 1087,
      "outputs": []
    },
    {
      "cell_type": "code",
      "source": [
        "# categorical_columns = ['gender', 'MultipleLines', 'InternetService', 'OnlineSecurity',  'OnlineBackup', 'DeviceProtection', 'TechSupport', 'StreamingTV', \n",
        "#                        'StreamingMovies', 'Contract', 'PaymentMethod', 'PhoneService', 'PaperlessBilling']\n",
        "# continuous_columns = ['tenure', 'MonthlyCharges', ]\n",
        "# binary_columns = ['SeniorCitizen', 'Partner', 'Dependents']\n",
        "\n",
        "\n",
        "categorical_columns = ['gender', 'MultipleLines', 'InternetService', 'OnlineSecurity',  'OnlineBackup', 'DeviceProtection', 'TechSupport', 'StreamingTV', \n",
        "                       'StreamingMovies', 'Contract', 'PaymentMethod', 'PhoneService', 'PaperlessBilling', 'SeniorCitizen', 'Partner', 'Dependents']\n",
        "continuous_columns = ['tenure', 'MonthlyCharges', ]"
      ],
      "metadata": {
        "id": "IZu5sTRhBx-Z"
      },
      "execution_count": 1088,
      "outputs": []
    },
    {
      "cell_type": "code",
      "source": [
        "from sklearn.pipeline import FeatureUnion"
      ],
      "metadata": {
        "id": "s6lglxlNFRhb"
      },
      "execution_count": 1089,
      "outputs": []
    },
    {
      "cell_type": "markdown",
      "source": [
        "Теперь нам нужно под каждый признак создать трансформер и объединить их в список."
      ],
      "metadata": {
        "id": "tz3Ve9oPHie6"
      }
    },
    {
      "cell_type": "code",
      "source": [
        "final_transformers = list()\n",
        "\n",
        "for cat_col in categorical_columns:\n",
        "    cat_transformer = Pipeline([\n",
        "                ('imputer', TextImputer(cat_col)),\n",
        "                ('selector', FeatureSelector(column=cat_col)),\n",
        "                ('ohe', OHEEncoder(key=cat_col))\n",
        "            ])\n",
        "    \n",
        "    final_transformers.append((cat_col, cat_transformer))\n",
        "    \n",
        "for cont_col in continuous_columns:\n",
        "    cont_transformer = Pipeline([\n",
        "                ('imputer', NumImputer(cont_col)),\n",
        "                ('selector', NumberSelector(key=cont_col))\n",
        "            ])\n",
        "    \n",
        "    final_transformers.append((cont_col, cont_transformer))\n",
        "       \n",
        "# for bin_col in binary_columns:\n",
        "#     bin_transformer = Pipeline([\n",
        "#                 ('imputer', TextImputer(bin_col)),\n",
        "#                 ('selector', NumberSelector(key=bin_col)),\n",
        "#                 ('bie', OHEEncoderBin(key=bin_col))\n",
        "#             ])\n",
        "#     final_transformers.append((bin_col, bin_transformer))"
      ],
      "metadata": {
        "id": "Rm1Yd-cKHji4"
      },
      "execution_count": 1090,
      "outputs": []
    },
    {
      "cell_type": "code",
      "source": [
        "final_transformers"
      ],
      "metadata": {
        "colab": {
          "base_uri": "https://localhost:8080/"
        },
        "id": "MjmQ9oo7OCLq",
        "outputId": "551e4341-579d-434e-bfa2-11954e99ba90"
      },
      "execution_count": 1091,
      "outputs": [
        {
          "output_type": "execute_result",
          "data": {
            "text/plain": [
              "[('gender', Pipeline(steps=[('imputer', TextImputer(key='gender')),\n",
              "                  ('selector', FeatureSelector(column='gender')),\n",
              "                  ('ohe', OHEEncoder(key='gender'))])),\n",
              " ('MultipleLines',\n",
              "  Pipeline(steps=[('imputer', TextImputer(key='MultipleLines')),\n",
              "                  ('selector', FeatureSelector(column='MultipleLines')),\n",
              "                  ('ohe', OHEEncoder(key='MultipleLines'))])),\n",
              " ('InternetService',\n",
              "  Pipeline(steps=[('imputer', TextImputer(key='InternetService')),\n",
              "                  ('selector', FeatureSelector(column='InternetService')),\n",
              "                  ('ohe', OHEEncoder(key='InternetService'))])),\n",
              " ('OnlineSecurity',\n",
              "  Pipeline(steps=[('imputer', TextImputer(key='OnlineSecurity')),\n",
              "                  ('selector', FeatureSelector(column='OnlineSecurity')),\n",
              "                  ('ohe', OHEEncoder(key='OnlineSecurity'))])),\n",
              " ('OnlineBackup', Pipeline(steps=[('imputer', TextImputer(key='OnlineBackup')),\n",
              "                  ('selector', FeatureSelector(column='OnlineBackup')),\n",
              "                  ('ohe', OHEEncoder(key='OnlineBackup'))])),\n",
              " ('DeviceProtection',\n",
              "  Pipeline(steps=[('imputer', TextImputer(key='DeviceProtection')),\n",
              "                  ('selector', FeatureSelector(column='DeviceProtection')),\n",
              "                  ('ohe', OHEEncoder(key='DeviceProtection'))])),\n",
              " ('TechSupport', Pipeline(steps=[('imputer', TextImputer(key='TechSupport')),\n",
              "                  ('selector', FeatureSelector(column='TechSupport')),\n",
              "                  ('ohe', OHEEncoder(key='TechSupport'))])),\n",
              " ('StreamingTV', Pipeline(steps=[('imputer', TextImputer(key='StreamingTV')),\n",
              "                  ('selector', FeatureSelector(column='StreamingTV')),\n",
              "                  ('ohe', OHEEncoder(key='StreamingTV'))])),\n",
              " ('StreamingMovies',\n",
              "  Pipeline(steps=[('imputer', TextImputer(key='StreamingMovies')),\n",
              "                  ('selector', FeatureSelector(column='StreamingMovies')),\n",
              "                  ('ohe', OHEEncoder(key='StreamingMovies'))])),\n",
              " ('Contract', Pipeline(steps=[('imputer', TextImputer(key='Contract')),\n",
              "                  ('selector', FeatureSelector(column='Contract')),\n",
              "                  ('ohe', OHEEncoder(key='Contract'))])),\n",
              " ('PaymentMethod',\n",
              "  Pipeline(steps=[('imputer', TextImputer(key='PaymentMethod')),\n",
              "                  ('selector', FeatureSelector(column='PaymentMethod')),\n",
              "                  ('ohe', OHEEncoder(key='PaymentMethod'))])),\n",
              " ('PhoneService', Pipeline(steps=[('imputer', TextImputer(key='PhoneService')),\n",
              "                  ('selector', FeatureSelector(column='PhoneService')),\n",
              "                  ('ohe', OHEEncoder(key='PhoneService'))])),\n",
              " ('PaperlessBilling',\n",
              "  Pipeline(steps=[('imputer', TextImputer(key='PaperlessBilling')),\n",
              "                  ('selector', FeatureSelector(column='PaperlessBilling')),\n",
              "                  ('ohe', OHEEncoder(key='PaperlessBilling'))])),\n",
              " ('SeniorCitizen',\n",
              "  Pipeline(steps=[('imputer', TextImputer(key='SeniorCitizen')),\n",
              "                  ('selector', FeatureSelector(column='SeniorCitizen')),\n",
              "                  ('ohe', OHEEncoder(key='SeniorCitizen'))])),\n",
              " ('Partner', Pipeline(steps=[('imputer', TextImputer(key='Partner')),\n",
              "                  ('selector', FeatureSelector(column='Partner')),\n",
              "                  ('ohe', OHEEncoder(key='Partner'))])),\n",
              " ('Dependents', Pipeline(steps=[('imputer', TextImputer(key='Dependents')),\n",
              "                  ('selector', FeatureSelector(column='Dependents')),\n",
              "                  ('ohe', OHEEncoder(key='Dependents'))])),\n",
              " ('tenure', Pipeline(steps=[('imputer', NumImputer(key='tenure')),\n",
              "                  ('selector', NumberSelector(key='tenure'))])),\n",
              " ('MonthlyCharges',\n",
              "  Pipeline(steps=[('imputer', NumImputer(key='MonthlyCharges')),\n",
              "                  ('selector', NumberSelector(key='MonthlyCharges'))]))]"
            ]
          },
          "metadata": {},
          "execution_count": 1091
        }
      ]
    },
    {
      "cell_type": "markdown",
      "source": [
        "Объединим все это в единый пайплайн"
      ],
      "metadata": {
        "id": "_U7HMETKIY8W"
      }
    },
    {
      "cell_type": "code",
      "source": [
        "feats = FeatureUnion(final_transformers)\n",
        "\n",
        "feature_processing = Pipeline([('feats', feats)])"
      ],
      "metadata": {
        "id": "b_95u25xIZUN"
      },
      "execution_count": 1092,
      "outputs": []
    },
    {
      "cell_type": "markdown",
      "source": [
        "Теперь у нас есть пайплайн, который готовит признаки для моделирования.\n",
        "\n",
        "Добавим модель и балансировку классов"
      ],
      "metadata": {
        "id": "nS95KM59IlBE"
      }
    },
    {
      "cell_type": "code",
      "source": [
        "from sklearn.ensemble import ExtraTreesClassifier\n",
        "\n",
        "pipeline = Pipeline([\n",
        "    ('features', feats),\n",
        "    ('classifier', ExtraTreesClassifier(n_estimators = 100, criterion = 'entropy', random_state = 0))\n",
        "])"
      ],
      "metadata": {
        "id": "IgoatSGNIiB8"
      },
      "execution_count": 1093,
      "outputs": []
    },
    {
      "cell_type": "code",
      "source": [
        "# обучим наш пайплайн\n",
        "pipeline.fit(X_train, y_train)"
      ],
      "metadata": {
        "colab": {
          "base_uri": "https://localhost:8080/"
        },
        "id": "AcXH4YCTKcA-",
        "outputId": "6122796c-3110-48aa-9602-0a1727c15f72"
      },
      "execution_count": 1094,
      "outputs": [
        {
          "output_type": "execute_result",
          "data": {
            "text/plain": [
              "Pipeline(steps=[('features',\n",
              "                 FeatureUnion(transformer_list=[('gender',\n",
              "                                                 Pipeline(steps=[('imputer',\n",
              "                                                                  TextImputer(key='gender')),\n",
              "                                                                 ('selector',\n",
              "                                                                  FeatureSelector(column='gender')),\n",
              "                                                                 ('ohe',\n",
              "                                                                  OHEEncoder(key='gender'))])),\n",
              "                                                ('MultipleLines',\n",
              "                                                 Pipeline(steps=[('imputer',\n",
              "                                                                  TextImputer(key='MultipleLines')),\n",
              "                                                                 ('selector',\n",
              "                                                                  FeatureSelector(column='MultipleLines')),\n",
              "                                                                 ('ohe',\n",
              "                                                                  OHEEnco...\n",
              "                                                                 ('ohe',\n",
              "                                                                  OHEEncoder(key='Dependents'))])),\n",
              "                                                ('tenure',\n",
              "                                                 Pipeline(steps=[('imputer',\n",
              "                                                                  NumImputer(key='tenure')),\n",
              "                                                                 ('selector',\n",
              "                                                                  NumberSelector(key='tenure'))])),\n",
              "                                                ('MonthlyCharges',\n",
              "                                                 Pipeline(steps=[('imputer',\n",
              "                                                                  NumImputer(key='MonthlyCharges')),\n",
              "                                                                 ('selector',\n",
              "                                                                  NumberSelector(key='MonthlyCharges'))]))])),\n",
              "                ('classifier',\n",
              "                 ExtraTreesClassifier(criterion='entropy', random_state=0))])"
            ]
          },
          "metadata": {},
          "execution_count": 1094
        }
      ]
    },
    {
      "cell_type": "code",
      "source": [
        "# наши прогнозы для тестовой выборки\n",
        "preds_prob = pipeline.predict_proba(X_test)[:, 1]\n",
        "preds_prob[:10]"
      ],
      "metadata": {
        "colab": {
          "base_uri": "https://localhost:8080/"
        },
        "id": "GaLlGELOOHWg",
        "outputId": "d4f5b61f-c4f6-4500-8789-d8b5dfd06210"
      },
      "execution_count": 1095,
      "outputs": [
        {
          "output_type": "execute_result",
          "data": {
            "text/plain": [
              "array([0.17, 0.03, 1.  , 0.59, 0.02, 1.  , 0.02, 0.34, 1.  , 1.  ])"
            ]
          },
          "metadata": {},
          "execution_count": 1095
        }
      ]
    },
    {
      "cell_type": "code",
      "source": [
        "#пока просто посмотрим на стандартные прогнозы\n",
        "preds = pipeline.predict(X_test)\n",
        "\n",
        "preds[:10]"
      ],
      "metadata": {
        "colab": {
          "base_uri": "https://localhost:8080/"
        },
        "id": "MuD8aoTaPNhr",
        "outputId": "dd263a7c-d320-46d8-b9e0-76b00b897b85"
      },
      "execution_count": 1096,
      "outputs": [
        {
          "output_type": "execute_result",
          "data": {
            "text/plain": [
              "array([0, 0, 1, 1, 0, 1, 0, 0, 1, 1])"
            ]
          },
          "metadata": {},
          "execution_count": 1096
        }
      ]
    },
    {
      "cell_type": "code",
      "source": [
        "#посмотрим статистку со базовым прогнозом. f1 score по 1му классу - 0.89, что очень хорошо\n",
        "print(classification_report(y_test, preds))"
      ],
      "metadata": {
        "colab": {
          "base_uri": "https://localhost:8080/"
        },
        "id": "_xybv1VXP_0A",
        "outputId": "56fba7a3-a9e8-468e-e41c-64405f6240c9"
      },
      "execution_count": 1097,
      "outputs": [
        {
          "output_type": "stream",
          "name": "stdout",
          "text": [
            "              precision    recall  f1-score   support\n",
            "\n",
            "           0       0.92      0.83      0.87      1290\n",
            "           1       0.85      0.93      0.89      1297\n",
            "\n",
            "    accuracy                           0.88      2587\n",
            "   macro avg       0.88      0.88      0.88      2587\n",
            "weighted avg       0.88      0.88      0.88      2587\n",
            "\n"
          ]
        }
      ]
    },
    {
      "cell_type": "markdown",
      "source": [
        "Также нам нужно от вероятностей перейти к меткам классов. Для этого нужно подобрать порог, после которого мы считаем, что объект можно отнести к классу 1 (если вероятность больше порога - размечаем объект как класс 1, если нет - класс 0)"
      ],
      "metadata": {
        "id": "sLjzcoUe_vws"
      }
    },
    {
      "cell_type": "code",
      "source": [
        "from sklearn.metrics import f1_score, roc_auc_score, precision_score, classification_report, precision_recall_curve, confusion_matrix"
      ],
      "metadata": {
        "id": "o_052ANR_wcE"
      },
      "execution_count": 1098,
      "outputs": []
    },
    {
      "cell_type": "code",
      "source": [
        "precision, recall, thresholds = precision_recall_curve(y_test, preds_prob)\n",
        "\n",
        "fscore = (2 * precision * recall) / (precision + recall)\n",
        "# locate the index of the largest f score\n",
        "ix = np.argmax(fscore)\n",
        "print(f'Best Threshold={thresholds[ix]}, F-Score={fscore[ix]:.3f}, Precision={precision[ix]:.3f}, Recall={recall[ix]:.3f}')"
      ],
      "metadata": {
        "colab": {
          "base_uri": "https://localhost:8080/"
        },
        "id": "NuOIZk4B_1tc",
        "outputId": "6562a2d0-77bc-43ca-9db9-db7c127f946a"
      },
      "execution_count": 1099,
      "outputs": [
        {
          "output_type": "stream",
          "name": "stdout",
          "text": [
            "Best Threshold=1.0, F-Score=0.930, Precision=0.996, Recall=0.872\n"
          ]
        }
      ]
    },
    {
      "cell_type": "code",
      "source": [
        "precision, recall, thresholds"
      ],
      "metadata": {
        "colab": {
          "base_uri": "https://localhost:8080/"
        },
        "id": "QWliZvvaA5k6",
        "outputId": "80e1bb38-bfa2-426a-af20-823aa56a75e4"
      },
      "execution_count": 1100,
      "outputs": [
        {
          "output_type": "execute_result",
          "data": {
            "text/plain": [
              "(array([0.50135292, 0.56111353, 0.58058691, 0.58084914, 0.59032258,\n",
              "        0.59915612, 0.61199041, 0.61228407, 0.61941748, 0.62857143,\n",
              "        0.63636364, 0.63668166, 0.637     , 0.64408493, 0.65048544,\n",
              "        0.65786749, 0.6671916 , 0.67320955, 0.68154922, 0.68191604,\n",
              "        0.6863809 , 0.68675353, 0.69205479, 0.69701987, 0.69740475,\n",
              "        0.703125  , 0.70873239, 0.71396141, 0.71853547, 0.71894677,\n",
              "        0.72453704, 0.72833042, 0.73270809, 0.74212715, 0.74432497,\n",
              "        0.74655482, 0.7470024 , 0.75226586, 0.75591985, 0.75963303,\n",
              "        0.76590488, 0.77085928, 0.77133956, 0.77589454, 0.78002528,\n",
              "        0.78694818, 0.79150579, 0.79201545, 0.79520415, 0.79973907,\n",
              "        0.80367695, 0.81034483, 0.81009296, 0.81145903, 0.81417112,\n",
              "        0.81471572, 0.81787634, 0.82552614, 0.83003413, 0.83060109,\n",
              "        0.83597519, 0.83712905, 0.83958333, 0.84604619, 0.8477193 ,\n",
              "        0.84897671, 0.85490754, 0.85724483, 0.86083214, 0.86517664,\n",
              "        0.86884058, 0.87263464, 0.87399267, 0.87463343, 0.87656135,\n",
              "        0.88026608, 0.88418708, 0.88739746, 0.88913858, 0.89315275,\n",
              "        0.89561271, 0.89786585, 0.90045942, 0.90023024, 0.9011583 ,\n",
              "        0.90317583, 0.9066874 , 0.90873635, 0.91086787, 0.91158059,\n",
              "        0.91372549, 0.9158805 , 0.92167722, 0.92252396, 0.924     ,\n",
              "        0.92473979, 0.92834138, 0.92908944, 0.93192869, 0.93419984,\n",
              "        0.93495935, 0.93490643, 0.93795918, 0.93872549, 0.93867539,\n",
              "        0.94098361, 0.94628099, 0.94623656, 0.94701987, 0.94859038,\n",
              "        0.95012469, 0.95714286, 0.96118143, 0.96199324, 0.96525424,\n",
              "        0.96607294, 0.96686491, 0.96930946, 0.97255575, 0.97674419,\n",
              "        0.97927461, 0.98181818, 0.98434783, 0.9877836 , 0.9903762 ,\n",
              "        0.99559859, 1.        ]),\n",
              " array([1.        , 0.99460293, 0.99151889, 0.99151889, 0.98766384,\n",
              "        0.98535081, 0.98380879, 0.98380879, 0.98380879, 0.98380879,\n",
              "        0.98226677, 0.98226677, 0.98226677, 0.98226677, 0.98149576,\n",
              "        0.97995374, 0.97995374, 0.97841172, 0.9768697 , 0.9768697 ,\n",
              "        0.97532768, 0.97532768, 0.97378566, 0.97378566, 0.97378566,\n",
              "        0.97147263, 0.96993061, 0.96993061, 0.96838859, 0.96838859,\n",
              "        0.96530455, 0.96530455, 0.96376253, 0.96299152, 0.96067849,\n",
              "        0.96067849, 0.96067849, 0.95990748, 0.95990748, 0.95759445,\n",
              "        0.95605243, 0.95451041, 0.95451041, 0.95296839, 0.95142637,\n",
              "        0.94834233, 0.94834233, 0.94834233, 0.9460293 , 0.94525829,\n",
              "        0.94371627, 0.94217425, 0.94063223, 0.93909021, 0.93909021,\n",
              "        0.93909021, 0.9383192 , 0.93754819, 0.93754819, 0.93754819,\n",
              "        0.93523516, 0.93523516, 0.93215112, 0.93215112, 0.93138011,\n",
              "        0.92752506, 0.92675405, 0.92598304, 0.92521203, 0.92521203,\n",
              "        0.92444102, 0.92444102, 0.91981496, 0.91981496, 0.91981496,\n",
              "        0.91827294, 0.91827294, 0.91750193, 0.9151889 , 0.9151889 ,\n",
              "        0.91287587, 0.90824981, 0.90670779, 0.90439476, 0.8997687 ,\n",
              "        0.89899769, 0.89899769, 0.89822668, 0.89822668, 0.89822668,\n",
              "        0.89822668, 0.89822668, 0.89822668, 0.89051658, 0.89051658,\n",
              "        0.89051658, 0.88897456, 0.88897456, 0.88666153, 0.88666153,\n",
              "        0.88666153, 0.88589052, 0.88589052, 0.88589052, 0.88511951,\n",
              "        0.88511951, 0.88280648, 0.88203547, 0.88203547, 0.88203547,\n",
              "        0.88126446, 0.87818042, 0.87818042, 0.87818042, 0.87818042,\n",
              "        0.87818042, 0.87740941, 0.8766384 , 0.87432537, 0.87432537,\n",
              "        0.87432537, 0.87432537, 0.87278335, 0.87278335, 0.87278335,\n",
              "        0.87201234, 0.        ]),\n",
              " array([0.        , 0.01      , 0.0175    , 0.02      , 0.03      ,\n",
              "        0.04      , 0.0425    , 0.05      , 0.06      , 0.07      ,\n",
              "        0.072     , 0.0775    , 0.08      , 0.09      , 0.1       ,\n",
              "        0.11      , 0.12      , 0.13      , 0.135     , 0.14      ,\n",
              "        0.145     , 0.15      , 0.16      , 0.1675    , 0.17      ,\n",
              "        0.18      , 0.19      , 0.2       , 0.206     , 0.21      ,\n",
              "        0.22      , 0.23      , 0.24      , 0.25      , 0.26      ,\n",
              "        0.265     , 0.27      , 0.28      , 0.29      , 0.3       ,\n",
              "        0.31      , 0.312     , 0.32      , 0.33      , 0.34      ,\n",
              "        0.35      , 0.352     , 0.36      , 0.37      , 0.38      ,\n",
              "        0.39      , 0.4       , 0.4       , 0.41      , 0.41666667,\n",
              "        0.42      , 0.43      , 0.44      , 0.446     , 0.45      ,\n",
              "        0.46      , 0.47      , 0.48      , 0.49      , 0.5       ,\n",
              "        0.51      , 0.52      , 0.53      , 0.54      , 0.55      ,\n",
              "        0.56      , 0.57      , 0.575     , 0.58      , 0.59      ,\n",
              "        0.6       , 0.61      , 0.62      , 0.63      , 0.64      ,\n",
              "        0.65      , 0.66      , 0.66666667, 0.67      , 0.68      ,\n",
              "        0.69      , 0.7       , 0.71      , 0.71333333, 0.72      ,\n",
              "        0.73      , 0.74      , 0.75      , 0.76      , 0.7675    ,\n",
              "        0.77      , 0.7775    , 0.78      , 0.79      , 0.7975    ,\n",
              "        0.8       , 0.8       , 0.805     , 0.81      , 0.82      ,\n",
              "        0.83      , 0.83333333, 0.83333333, 0.84      , 0.85      ,\n",
              "        0.86      , 0.87      , 0.87833333, 0.88      , 0.8875    ,\n",
              "        0.89      , 0.9       , 0.91      , 0.92      , 0.93      ,\n",
              "        0.94      , 0.95      , 0.96      , 0.98      , 0.99      ,\n",
              "        1.        ]))"
            ]
          },
          "metadata": {},
          "execution_count": 1100
        }
      ]
    },
    {
      "cell_type": "code",
      "source": [
        "fscore"
      ],
      "metadata": {
        "colab": {
          "base_uri": "https://localhost:8080/"
        },
        "id": "jeoY6TjKBOSo",
        "outputId": "50686a71-98be-4e3c-95e5-c3e321294756"
      },
      "execution_count": 1101,
      "outputs": [
        {
          "output_type": "execute_result",
          "data": {
            "text/plain": [
              "array([0.66786818, 0.71746385, 0.73234624, 0.73255483, 0.73896741,\n",
              "       0.7451895 , 0.75458309, 0.75480627, 0.76020256, 0.76705741,\n",
              "       0.77235526, 0.77258945, 0.77282378, 0.77801527, 0.78242163,\n",
              "       0.78724063, 0.79387883, 0.79761157, 0.80291508, 0.80316957,\n",
              "       0.80573248, 0.80598917, 0.80909673, 0.8124799 , 0.81274131,\n",
              "       0.81579799, 0.81901042, 0.82249101, 0.82495895, 0.82522996,\n",
              "       0.8277686 , 0.83023873, 0.83250083, 0.83825503, 0.83877482,\n",
              "       0.84018881, 0.84047218, 0.84349593, 0.84578804, 0.84720327,\n",
              "       0.85048011, 0.85291078, 0.85320469, 0.85536332, 0.8572421 ,\n",
              "       0.86013986, 0.86285514, 0.86315789, 0.86408451, 0.8664311 ,\n",
              "       0.86808511, 0.87130125, 0.8704959 , 0.87062187, 0.87218045,\n",
              "       0.87249284, 0.87396768, 0.87797834, 0.88052136, 0.88084028,\n",
              "       0.88282387, 0.88346686, 0.88344903, 0.88701394, 0.88758266,\n",
              "       0.88651437, 0.88938217, 0.8902891 , 0.89186176, 0.89418778,\n",
              "       0.89577886, 0.89779109, 0.89631856, 0.89665539, 0.89766742,\n",
              "       0.89886792, 0.90090772, 0.90219864, 0.90197568, 0.90403656,\n",
              "       0.90416189, 0.90302798, 0.9035728 , 0.90230769, 0.90046296,\n",
              "       0.90108192, 0.90282617, 0.90345095, 0.90450311, 0.90485437,\n",
              "       0.9059098 , 0.90696769, 0.90980086, 0.90623774, 0.90694935,\n",
              "       0.90730558, 0.90823159, 0.90858944, 0.90873173, 0.90981013,\n",
              "       0.91017016, 0.90973872, 0.9111816 , 0.91154304, 0.91111111,\n",
              "       0.91219706, 0.91344236, 0.91300878, 0.91337325, 0.91410308,\n",
              "       0.9144    , 0.91596301, 0.91780822, 0.91817815, 0.91966088,\n",
              "       0.92003231, 0.91996766, 0.92064777, 0.92082826, 0.92270138,\n",
              "       0.92382892, 0.92495922, 0.92521455, 0.92672943, 0.92786885,\n",
              "       0.9297164 , 0.        ])"
            ]
          },
          "metadata": {},
          "execution_count": 1101
        }
      ]
    },
    {
      "cell_type": "code",
      "source": [
        "best_thresh = 0.99"
      ],
      "metadata": {
        "id": "Zoj8IUGbBzuZ"
      },
      "execution_count": 1102,
      "outputs": []
    },
    {
      "cell_type": "code",
      "source": [
        "print(classification_report(y_test, preds_prob > best_thresh))"
      ],
      "metadata": {
        "colab": {
          "base_uri": "https://localhost:8080/"
        },
        "id": "JuFujIcMAU3T",
        "outputId": "751ddd2f-f3e6-4100-fb17-38134adef722"
      },
      "execution_count": 1103,
      "outputs": [
        {
          "output_type": "stream",
          "name": "stdout",
          "text": [
            "              precision    recall  f1-score   support\n",
            "\n",
            "           0       0.89      1.00      0.94      1290\n",
            "           1       1.00      0.87      0.93      1297\n",
            "\n",
            "    accuracy                           0.93      2587\n",
            "   macro avg       0.94      0.93      0.93      2587\n",
            "weighted avg       0.94      0.93      0.93      2587\n",
            "\n"
          ]
        }
      ]
    },
    {
      "cell_type": "markdown",
      "source": [
        "Отрисуем матрицу ошибок"
      ],
      "metadata": {
        "id": "qoq405n5CPJu"
      }
    },
    {
      "cell_type": "code",
      "source": [
        "import itertools\n",
        "\n",
        "\n",
        "def plot_confusion_matrix(cm, classes,\n",
        "                          normalize=False,\n",
        "                          title='Confusion matrix',\n",
        "                          cmap=plt.cm.Blues):\n",
        "    \"\"\"\n",
        "    This function prints and plots the confusion matrix.\n",
        "    Normalization can be applied by setting `normalize=True`.\n",
        "    \"\"\"\n",
        "    plt.imshow(cm, interpolation='nearest', cmap=cmap)\n",
        "    plt.title(title)\n",
        "    plt.colorbar()\n",
        "    tick_marks = np.arange(len(classes))\n",
        "    plt.xticks(tick_marks, classes, rotation=45)\n",
        "    plt.yticks(tick_marks, classes)\n",
        "\n",
        "    if normalize:\n",
        "        cm = cm.astype('float') / cm.sum(axis=1)[:, np.newaxis]\n",
        "        print(\"Normalized confusion matrix\")\n",
        "    else:\n",
        "        print('Confusion matrix, without normalization')\n",
        "\n",
        "    print(cm)\n",
        "\n",
        "    thresh = cm.max() / 2.\n",
        "    for i, j in itertools.product(range(cm.shape[0]), range(cm.shape[1])):\n",
        "        plt.text(j, i, cm[i, j],\n",
        "                 horizontalalignment=\"center\",\n",
        "                 color=\"white\" if cm[i, j] > thresh else \"black\")\n",
        "\n",
        "    plt.tight_layout()\n",
        "    plt.ylabel('True label')\n",
        "    plt.xlabel('Predicted label')"
      ],
      "metadata": {
        "id": "jmtEnBQcCOYI"
      },
      "execution_count": 1104,
      "outputs": []
    },
    {
      "cell_type": "code",
      "source": [
        "# мы уже нашли ранее \"оптимальный\" порог, когда максимизировали f_score\n",
        "font = {'size' : 15}\n",
        "\n",
        "plt.rc('font', **font)\n",
        "\n",
        "cnf_matrix = confusion_matrix(y_test, preds_prob >  best_thresh)\n",
        "plt.figure(figsize=(6, 4))\n",
        "plot_confusion_matrix(cnf_matrix, classes=['NonChurn', 'Churn'],\n",
        "                      title='Confusion matrix')\n",
        "plt.savefig(\"conf_matrix.png\")\n",
        "plt.show()"
      ],
      "metadata": {
        "colab": {
          "base_uri": "https://localhost:8080/",
          "height": 356
        },
        "id": "14GFtihXCjmW",
        "outputId": "9e5d569e-7d49-481e-822f-36bdcd4a1df5"
      },
      "execution_count": 1105,
      "outputs": [
        {
          "output_type": "stream",
          "name": "stdout",
          "text": [
            "Confusion matrix, without normalization\n",
            "[[1285    5]\n",
            " [ 166 1131]]\n"
          ]
        },
        {
          "output_type": "display_data",
          "data": {
            "text/plain": [
              "<Figure size 432x288 with 2 Axes>"
            ],
            "image/png": "[encoded data removed]"
          },
          "metadata": {}
        }
      ]
    },
    {
      "cell_type": "markdown",
      "source": [
        "Можно отметить, что как мы и видели в classification_report, у нас хорошая точность, то есть мы почти всех людей, которые ушли в отток, классифицируем верно. Немного просел recall, то есть мы не нашли 166 людей, которые ушли в отток.\n",
        "\n",
        "При анализе модели оттока ясно, что более важна precision, так как тем людям, кто идет в отток будут делаться специальные предложения, что затратно для компании. Поэтому важно не находить людей, кто не собирается в отток, чтобы компания не несла лишних затрат.\n",
        "\n",
        "F_1 score по 1му классу 0.93. Соответственно данную модель считаю оптимальной."
      ],
      "metadata": {
        "id": "V-JzrmPlDdpE"
      }
    },
    {
      "cell_type": "markdown",
      "metadata": {
        "id": "blNARG08Grtz"
      },
      "source": [
        "Сохраним модель (пайплайн)"
      ]
    },
    {
      "cell_type": "code",
      "execution_count": 1106,
      "metadata": {
        "id": "u9ENN-zdGrt1"
      },
      "outputs": [],
      "source": [
        "import dill\n",
        "with open(\"extratrees_pipeline.dill\", \"wb\") as f:\n",
        "    dill.dump(pipeline, f)"
      ]
    },
    {
      "cell_type": "markdown",
      "source": [
        "# Шаг 2 - PREDICT"
      ],
      "metadata": {
        "id": "XUc2Y8dvLX05"
      }
    },
    {
      "cell_type": "markdown",
      "metadata": {
        "id": "LxGmuf_z24B5"
      },
      "source": [
        "### Проверка работоспособности и качества пайплайна\n",
        "\n",
        "Здесь мы еще не запускаем никакое API, а загружаем модель (pipeline) напрямую и проверяем на отложенной (тестовой) выборке"
      ]
    },
    {
      "cell_type": "code",
      "metadata": {
        "id": "ChYPxDk_24CD"
      },
      "source": [
        "X_test = pd.read_csv(\"X_test.csv\")\n",
        "y_test = pd.read_csv(\"y_test.csv\")"
      ],
      "execution_count": 1107,
      "outputs": []
    },
    {
      "cell_type": "code",
      "metadata": {
        "scrolled": true,
        "colab": {
          "base_uri": "https://localhost:8080/",
          "height": 260
        },
        "id": "WBr-fIkQ24CE",
        "outputId": "65e8989d-35f6-4c3d-ca0b-f7ce2d036106"
      },
      "source": [
        "X_test.head(3)"
      ],
      "execution_count": 1108,
      "outputs": [
        {
          "output_type": "execute_result",
          "data": {
            "text/plain": [
              "   customerID  gender  SeniorCitizen Partner Dependents  tenure PhoneService  \\\n",
              "0  3877-JRJIP    Male              0      No         No       1          Yes   \n",
              "1  5025-GOOKI  Female              0      No         No      20          Yes   \n",
              "2  9894-EZEWG  Female              0      No         No       1          Yes   \n",
              "\n",
              "  MultipleLines InternetService       OnlineSecurity         OnlineBackup  \\\n",
              "0           Yes             DSL                   No                   No   \n",
              "1            No              No  No internet service  No internet service   \n",
              "2            No     Fiber optic                   No                  Yes   \n",
              "\n",
              "      DeviceProtection          TechSupport          StreamingTV  \\\n",
              "0                   No                   No                  Yes   \n",
              "1  No internet service  No internet service  No internet service   \n",
              "2                   No                   No                   No   \n",
              "\n",
              "       StreamingMovies        Contract PaperlessBilling  \\\n",
              "0                   No  Month-to-month              Yes   \n",
              "1  No internet service  Month-to-month              Yes   \n",
              "2                   No  Month-to-month              Yes   \n",
              "\n",
              "             PaymentMethod  MonthlyCharges TotalCharges  \n",
              "0         Electronic check           59.85        59.85  \n",
              "1  Credit card (automatic)           18.90       347.65  \n",
              "2  Credit card (automatic)           74.30         74.3  "
            ],
            "text/html": [
              "\n",
              "  <div id=\"df-6b587ce9-2580-42d1-bc44-7d189f735dd5\">\n",
              "    <div class=\"colab-df-container\">\n",
              "      <div>\n",
              "<style scoped>\n",
              "    .dataframe tbody tr th:only-of-type {\n",
              "        vertical-align: middle;\n",
              "    }\n",
              "\n",
              "    .dataframe tbody tr th {\n",
              "        vertical-align: top;\n",
              "    }\n",
              "\n",
              "    .dataframe thead th {\n",
              "        text-align: right;\n",
              "    }\n",
              "</style>\n",
              "<table border=\"1\" class=\"dataframe\">\n",
              "  <thead>\n",
              "    <tr style=\"text-align: right;\">\n",
              "      <th></th>\n",
              "      <th>customerID</th>\n",
              "      <th>gender</th>\n",
              "      <th>SeniorCitizen</th>\n",
              "      <th>Partner</th>\n",
              "      <th>Dependents</th>\n",
              "      <th>tenure</th>\n",
              "      <th>PhoneService</th>\n",
              "      <th>MultipleLines</th>\n",
              "      <th>InternetService</th>\n",
              "      <th>OnlineSecurity</th>\n",
              "      <th>OnlineBackup</th>\n",
              "      <th>DeviceProtection</th>\n",
              "      <th>TechSupport</th>\n",
              "      <th>StreamingTV</th>\n",
              "      <th>StreamingMovies</th>\n",
              "      <th>Contract</th>\n",
              "      <th>PaperlessBilling</th>\n",
              "      <th>PaymentMethod</th>\n",
              "      <th>MonthlyCharges</th>\n",
              "      <th>TotalCharges</th>\n",
              "    </tr>\n",
              "  </thead>\n",
              "  <tbody>\n",
              "    <tr>\n",
              "      <th>0</th>\n",
              "      <td>3877-JRJIP</td>\n",
              "      <td>Male</td>\n",
              "      <td>0</td>\n",
              "      <td>No</td>\n",
              "      <td>No</td>\n",
              "      <td>1</td>\n",
              "      <td>Yes</td>\n",
              "      <td>Yes</td>\n",
              "      <td>DSL</td>\n",
              "      <td>No</td>\n",
              "      <td>No</td>\n",
              "      <td>No</td>\n",
              "      <td>No</td>\n",
              "      <td>Yes</td>\n",
              "      <td>No</td>\n",
              "      <td>Month-to-month</td>\n",
              "      <td>Yes</td>\n",
              "      <td>Electronic check</td>\n",
              "      <td>59.85</td>\n",
              "      <td>59.85</td>\n",
              "    </tr>\n",
              "    <tr>\n",
              "      <th>1</th>\n",
              "      <td>5025-GOOKI</td>\n",
              "      <td>Female</td>\n",
              "      <td>0</td>\n",
              "      <td>No</td>\n",
              "      <td>No</td>\n",
              "      <td>20</td>\n",
              "      <td>Yes</td>\n",
              "      <td>No</td>\n",
              "      <td>No</td>\n",
              "      <td>No internet service</td>\n",
              "      <td>No internet service</td>\n",
              "      <td>No internet service</td>\n",
              "      <td>No internet service</td>\n",
              "      <td>No internet service</td>\n",
              "      <td>No internet service</td>\n",
              "      <td>Month-to-month</td>\n",
              "      <td>Yes</td>\n",
              "      <td>Credit card (automatic)</td>\n",
              "      <td>18.90</td>\n",
              "      <td>347.65</td>\n",
              "    </tr>\n",
              "    <tr>\n",
              "      <th>2</th>\n",
              "      <td>9894-EZEWG</td>\n",
              "      <td>Female</td>\n",
              "      <td>0</td>\n",
              "      <td>No</td>\n",
              "      <td>No</td>\n",
              "      <td>1</td>\n",
              "      <td>Yes</td>\n",
              "      <td>No</td>\n",
              "      <td>Fiber optic</td>\n",
              "      <td>No</td>\n",
              "      <td>Yes</td>\n",
              "      <td>No</td>\n",
              "      <td>No</td>\n",
              "      <td>No</td>\n",
              "      <td>No</td>\n",
              "      <td>Month-to-month</td>\n",
              "      <td>Yes</td>\n",
              "      <td>Credit card (automatic)</td>\n",
              "      <td>74.30</td>\n",
              "      <td>74.3</td>\n",
              "    </tr>\n",
              "  </tbody>\n",
              "</table>\n",
              "</div>\n",
              "      <button class=\"colab-df-convert\" onclick=\"convertToInteractive('df-6b587ce9-2580-42d1-bc44-7d189f735dd5')\"\n",
              "              title=\"Convert this dataframe to an interactive table.\"\n",
              "              style=\"display:none;\">\n",
              "        \n",
              "  <svg xmlns=\"http://www.w3.org/2000/svg\" height=\"24px\"viewBox=\"0 0 24 24\"\n",
              "       width=\"24px\">\n",
              "    <path d=\"M0 0h24v24H0V0z\" fill=\"none\"/>\n",
              "    <path d=\"M18.56 5.44l.94 2.06.94-2.06 2.06-.94-2.06-.94-.94-2.06-.94 2.06-2.06.94zm-11 1L8.5 8.5l.94-2.06 2.06-.94-2.06-.94L8.5 2.5l-.94 2.06-2.06.94zm10 10l.94 2.06.94-2.06 2.06-.94-2.06-.94-.94-2.06-.94 2.06-2.06.94z\"/><path d=\"M17.41 7.96l-1.37-1.37c-.4-.4-.92-.59-1.43-.59-.52 0-1.04.2-1.43.59L10.3 9.45l-7.72 7.72c-.78.78-.78 2.05 0 2.83L4 21.41c.39.39.9.59 1.41.59.51 0 1.02-.2 1.41-.59l7.78-7.78 2.81-2.81c.8-.78.8-2.07 0-2.86zM5.41 20L4 18.59l7.72-7.72 1.47 1.35L5.41 20z\"/>\n",
              "  </svg>\n",
              "      </button>\n",
              "      \n",
              "  <style>\n",
              "    .colab-df-container {\n",
              "      display:flex;\n",
              "      flex-wrap:wrap;\n",
              "      gap: 12px;\n",
              "    }\n",
              "\n",
              "    .colab-df-convert {\n",
              "      background-color: #E8F0FE;\n",
              "      border: none;\n",
              "      border-radius: 50%;\n",
              "      cursor: pointer;\n",
              "      display: none;\n",
              "      fill: #1967D2;\n",
              "      height: 32px;\n",
              "      padding: 0 0 0 0;\n",
              "      width: 32px;\n",
              "    }\n",
              "\n",
              "    .colab-df-convert:hover {\n",
              "      background-color: #E2EBFA;\n",
              "      box-shadow: 0px 1px 2px rgba(60, 64, 67, 0.3), 0px 1px 3px 1px rgba(60, 64, 67, 0.15);\n",
              "      fill: #174EA6;\n",
              "    }\n",
              "\n",
              "    [theme=dark] .colab-df-convert {\n",
              "      background-color: #3B4455;\n",
              "      fill: #D2E3FC;\n",
              "    }\n",
              "\n",
              "    [theme=dark] .colab-df-convert:hover {\n",
              "      background-color: #434B5C;\n",
              "      box-shadow: 0px 1px 3px 1px rgba(0, 0, 0, 0.15);\n",
              "      filter: drop-shadow(0px 1px 2px rgba(0, 0, 0, 0.3));\n",
              "      fill: #FFFFFF;\n",
              "    }\n",
              "  </style>\n",
              "\n",
              "      <script>\n",
              "        const buttonEl =\n",
              "          document.querySelector('#df-6b587ce9-2580-42d1-bc44-7d189f735dd5 button.colab-df-convert');\n",
              "        buttonEl.style.display =\n",
              "          google.colab.kernel.accessAllowed ? 'block' : 'none';\n",
              "\n",
              "        async function convertToInteractive(key) {\n",
              "          const element = document.querySelector('#df-6b587ce9-2580-42d1-bc44-7d189f735dd5');\n",
              "          const dataTable =\n",
              "            await google.colab.kernel.invokeFunction('convertToInteractive',\n",
              "                                                     [key], {});\n",
              "          if (!dataTable) return;\n",
              "\n",
              "          const docLinkHtml = 'Like what you see? Visit the ' +\n",
              "            '<a target=\"_blank\" href=https://colab.research.google.com/notebooks/data_table.ipynb>data table notebook</a>'\n",
              "            + ' to learn more about interactive tables.';\n",
              "          element.innerHTML = '';\n",
              "          dataTable['output_type'] = 'display_data';\n",
              "          await google.colab.output.renderOutput(dataTable, element);\n",
              "          const docLink = document.createElement('div');\n",
              "          docLink.innerHTML = docLinkHtml;\n",
              "          element.appendChild(docLink);\n",
              "        }\n",
              "      </script>\n",
              "    </div>\n",
              "  </div>\n",
              "  "
            ]
          },
          "metadata": {},
          "execution_count": 1108
        }
      ]
    },
    {
      "cell_type": "code",
      "metadata": {
        "id": "SeqnhORg24CF"
      },
      "source": [
        "with open('extratrees_pipeline.dill', 'rb') as in_strm:\n",
        "    pipeline = dill.load(in_strm)"
      ],
      "execution_count": 1109,
      "outputs": []
    },
    {
      "cell_type": "code",
      "source": [
        "pipeline"
      ],
      "metadata": {
        "colab": {
          "base_uri": "https://localhost:8080/"
        },
        "id": "ECgyPbnw6GoR",
        "outputId": "c9840ccb-6e51-42b7-97d1-462eb3002847"
      },
      "execution_count": 1110,
      "outputs": [
        {
          "output_type": "execute_result",
          "data": {
            "text/plain": [
              "Pipeline(steps=[('features',\n",
              "                 FeatureUnion(transformer_list=[('gender',\n",
              "                                                 Pipeline(steps=[('imputer',\n",
              "                                                                  TextImputer(key='gender')),\n",
              "                                                                 ('selector',\n",
              "                                                                  FeatureSelector(column='gender')),\n",
              "                                                                 ('ohe',\n",
              "                                                                  OHEEncoder(key='gender'))])),\n",
              "                                                ('MultipleLines',\n",
              "                                                 Pipeline(steps=[('imputer',\n",
              "                                                                  TextImputer(key='MultipleLines')),\n",
              "                                                                 ('selector',\n",
              "                                                                  FeatureSelector(column='MultipleLines')),\n",
              "                                                                 ('ohe',\n",
              "                                                                  OHEEnco...\n",
              "                                                                 ('ohe',\n",
              "                                                                  OHEEncoder(key='Dependents'))])),\n",
              "                                                ('tenure',\n",
              "                                                 Pipeline(steps=[('imputer',\n",
              "                                                                  NumImputer(key='tenure')),\n",
              "                                                                 ('selector',\n",
              "                                                                  NumberSelector(key='tenure'))])),\n",
              "                                                ('MonthlyCharges',\n",
              "                                                 Pipeline(steps=[('imputer',\n",
              "                                                                  NumImputer(key='MonthlyCharges')),\n",
              "                                                                 ('selector',\n",
              "                                                                  NumberSelector(key='MonthlyCharges'))]))])),\n",
              "                ('classifier',\n",
              "                 ExtraTreesClassifier(criterion='entropy', random_state=0))])"
            ]
          },
          "metadata": {},
          "execution_count": 1110
        }
      ]
    },
    {
      "cell_type": "code",
      "metadata": {
        "id": "KisGNNJ824CG"
      },
      "source": [
        "preds = pipeline.predict_proba(X_test)[:, 1]\n",
        "\n",
        "pred_df = pd.DataFrame({'preds': preds})\n",
        "pred_df.to_csv(\"test_predictions.csv\", index=None)"
      ],
      "execution_count": 1111,
      "outputs": []
    },
    {
      "cell_type": "code",
      "source": [
        "preds[:10]"
      ],
      "metadata": {
        "colab": {
          "base_uri": "https://localhost:8080/"
        },
        "id": "_teu9EeZ6_Mr",
        "outputId": "60016be8-dc0e-48b6-e557-d27b4405456d"
      },
      "execution_count": 1112,
      "outputs": [
        {
          "output_type": "execute_result",
          "data": {
            "text/plain": [
              "array([0.17, 0.03, 1.  , 0.59, 0.02, 1.  , 0.02, 0.34, 1.  , 1.  ])"
            ]
          },
          "metadata": {},
          "execution_count": 1112
        }
      ]
    },
    {
      "cell_type": "code",
      "source": [
        "precision, recall, thresholds = precision_recall_curve(y_test, preds)\n",
        "\n",
        "fscore = (2 * precision * recall) / (precision + recall)\n",
        "# locate the index of the largest f score\n",
        "ix = np.argmax(fscore)\n",
        "print(f'Best Threshold={thresholds[ix]}, F-Score={fscore[ix]:.3f}, Precision={precision[ix]:.3f}, Recall={recall[ix]:.3f}')"
      ],
      "metadata": {
        "colab": {
          "base_uri": "https://localhost:8080/"
        },
        "id": "svdcO2Ki64wy",
        "outputId": "160bf2a4-f2c2-4af4-c4bc-4936b575d5a3"
      },
      "execution_count": 1113,
      "outputs": [
        {
          "output_type": "stream",
          "name": "stdout",
          "text": [
            "Best Threshold=1.0, F-Score=0.930, Precision=0.996, Recall=0.872\n"
          ]
        }
      ]
    },
    {
      "cell_type": "code",
      "source": [
        "gender = np.nan\n",
        "multiple_lines = np.nan\n",
        "internet_service = np.nan\n",
        "online_security = np.nan\n",
        "online_backup = np.nan\n",
        "device_protection = np.nan\n",
        "tech_support = np.nan\n",
        "streaming_tv = np.nan\n",
        "streaming_movies = np.nan\n",
        "contract = np.nan\n",
        "payment_method =  np.nan\n",
        "tenure =  np.nan\n",
        "monthly_charges = np.nan\n",
        "senior_citizen =  np.nan\n",
        "partner = np.nan\n",
        "dependents = np.nan\n",
        "phone_service =  np.nan\n",
        "paperless_billing =  np.nan\n",
        "\n",
        "\n",
        "A = pd.DataFrame({'gender': [gender],\n",
        "              'MultipleLines': [multiple_lines],\n",
        "              'InternetService': [internet_service],\n",
        "              'OnlineSecurity': [online_security],\n",
        "              'OnlineBackup': [online_backup],\n",
        "              'DeviceProtection': [device_protection],\n",
        "              'TechSupport': [tech_support],\n",
        "              'StreamingTV': [streaming_tv],\n",
        "              'StreamingMovies': [streaming_movies],\n",
        "              'Contract': [contract],\n",
        "              'PaymentMethod': [payment_method],\n",
        "              'tenure': [tenure],\n",
        "              'MonthlyCharges': [monthly_charges],\n",
        "              'SeniorCitizen': [senior_citizen],\n",
        "              'Partner': [partner],\n",
        "              'Dependents': [dependents],\n",
        "              'PhoneService': [phone_service],\n",
        "              'PaperlessBilling': [paperless_billing],\n",
        "              })\n"
      ],
      "metadata": {
        "id": "4LOUDu1mTs6l"
      },
      "execution_count": 1114,
      "outputs": []
    },
    {
      "cell_type": "code",
      "source": [
        "pr = pipeline.predict_proba(A)[:, 1]"
      ],
      "metadata": {
        "id": "-YKBSQ4iTxd2"
      },
      "execution_count": 1115,
      "outputs": []
    },
    {
      "cell_type": "code",
      "source": [
        "pr"
      ],
      "metadata": {
        "colab": {
          "base_uri": "https://localhost:8080/"
        },
        "id": "9UgE0ff5CBGn",
        "outputId": "53f950f8-4b28-4186-9865-40a3ebf58040"
      },
      "execution_count": 1116,
      "outputs": [
        {
          "output_type": "execute_result",
          "data": {
            "text/plain": [
              "array([0.385])"
            ]
          },
          "metadata": {},
          "execution_count": 1116
        }
      ]
    },
    {
      "cell_type": "markdown",
      "source": [
        "# Шаг 3 - FLASK"
      ],
      "metadata": {
        "id": "7t2btkqiMajT"
      }
    },
    {
      "cell_type": "markdown",
      "metadata": {
        "id": "_KCCtAZqgbI6"
      },
      "source": [
        "## При внедрении"
      ]
    },
    {
      "cell_type": "markdown",
      "metadata": {
        "id": "bwDoeEWdRZUv"
      },
      "source": [
        "**При внедрении необходимо сделать:**\n",
        "*   Определить формат json'а, в котором данные будут приниматься сервисом и отправляться обратно.\n",
        "*   Определить ip-адрес и порт, на который будут поступать данные.\n",
        "*   Создать во Flask необходимые роуты:<br/>\n",
        "    `@app.route('/predict_example', method='POST')`<br/>\n",
        "    `def predict_example():`\n",
        "*   Перенести во Flask все функции преобразования данных,\n",
        "    *   формат данные, приходящих от фронт-системы, может отличаться от формата исторических данных, использовавшихся при построении модели; в результате преобразований данные на вход модели должны поступить ровно в том виде, в каком была обучена модель.\n",
        "*   Загрузить обученные модели.\n",
        "*   Настроить логирование."
      ]
    },
    {
      "cell_type": "markdown",
      "metadata": {
        "id": "koF_iLbj89XC"
      },
      "source": [
        "## Flask\n",
        "\n",
        "Тут будет сервис для обработки запросов на Flask"
      ]
    },
    {
      "cell_type": "markdown",
      "metadata": {
        "id": "bDCtyzx2_-OV"
      },
      "source": [
        "Google Colab предоставляет виртуальную машину, поэтому мы не можем получить доступ к локальному хосту, как это делаем на нашем локальном компьютере при запуске локального веб-сервера. Что мы можем сделать, так это предоставить его общедоступному URL-адресу с помощью ngrok.\n",
        "\n",
        "https://medium.com/@kshitijvijay271199/flask-on-google-colab-f6525986797b"
      ]
    },
    {
      "cell_type": "code",
      "metadata": {
        "colab": {
          "base_uri": "https://localhost:8080/"
        },
        "id": "2laQ3An4_06O",
        "outputId": "d34bd39e-4c68-48ec-b998-bf8d71ede8ba"
      },
      "source": [
        "!pip install flask-ngrok"
      ],
      "execution_count": 1117,
      "outputs": [
        {
          "output_type": "stream",
          "name": "stdout",
          "text": [
            "Looking in indexes: https://pypi.org/simple, https://us-python.pkg.dev/colab-wheels/public/simple/\n",
            "Requirement already satisfied: flask-ngrok in /usr/local/lib/python3.8/dist-packages (0.0.25)\n",
            "Requirement already satisfied: requests in /usr/local/lib/python3.8/dist-packages (from flask-ngrok) (2.25.1)\n",
            "Requirement already satisfied: Flask>=0.8 in /usr/local/lib/python3.8/dist-packages (from flask-ngrok) (1.1.4)\n",
            "Requirement already satisfied: click<8.0,>=5.1 in /usr/local/lib/python3.8/dist-packages (from Flask>=0.8->flask-ngrok) (7.1.2)\n",
            "Requirement already satisfied: Werkzeug<2.0,>=0.15 in /usr/local/lib/python3.8/dist-packages (from Flask>=0.8->flask-ngrok) (1.0.1)\n",
            "Requirement already satisfied: Jinja2<3.0,>=2.10.1 in /usr/local/lib/python3.8/dist-packages (from Flask>=0.8->flask-ngrok) (2.11.3)\n",
            "Requirement already satisfied: itsdangerous<2.0,>=0.24 in /usr/local/lib/python3.8/dist-packages (from Flask>=0.8->flask-ngrok) (1.1.0)\n",
            "Requirement already satisfied: chardet<5,>=3.0.2 in /usr/local/lib/python3.8/dist-packages (from requests->flask-ngrok) (4.0.0)\n",
            "Requirement already satisfied: certifi>=2017.4.17 in /usr/local/lib/python3.8/dist-packages (from requests->flask-ngrok) (2022.12.7)\n",
            "Requirement already satisfied: urllib3<1.27,>=1.21.1 in /usr/local/lib/python3.8/dist-packages (from requests->flask-ngrok) (1.24.3)\n",
            "Requirement already satisfied: idna<3,>=2.5 in /usr/local/lib/python3.8/dist-packages (from requests->flask-ngrok) (2.10)\n",
            "Requirement already satisfied: MarkupSafe>=0.23 in /usr/local/lib/python3.8/dist-packages (from Jinja2<3.0,>=2.10.1->Flask>=0.8->flask-ngrok) (2.0.1)\n"
          ]
        }
      ]
    },
    {
      "cell_type": "code",
      "metadata": {
        "id": "KaWqHrF2865_"
      },
      "source": [
        "from flask_ngrok import run_with_ngrok\n",
        "from flask import Flask, request, jsonify\n",
        "import pandas as pd"
      ],
      "execution_count": 1118,
      "outputs": []
    },
    {
      "cell_type": "markdown",
      "source": [
        "https://dashboard.ngrok.com/get-started/setup"
      ],
      "metadata": {
        "id": "jFItfrnskXCW"
      }
    },
    {
      "cell_type": "code",
      "source": [
        "!wget https://bin.equinox.io/c/4VmDzA7iaHb/ngrok-stable-linux-amd64.tgz\n",
        "!tar -xvf /content/ngrok-stable-linux-amd64.tgz\n",
        "!./ngrok authtoken 2KlhwM4akaEoAecdhG9qhuFnGCB_5WiaxMY2b2Qda49bndj48\n",
        "!./ngrok http 80"
      ],
      "metadata": {
        "colab": {
          "base_uri": "https://localhost:8080/"
        },
        "id": "xZfSSrSyEoav",
        "outputId": "7397c9ec-f8ca-4341-eac2-539c21a2b7cf"
      },
      "execution_count": 1119,
      "outputs": [
        {
          "output_type": "stream",
          "name": "stdout",
          "text": [
            "--2023-01-25 10:43:58--  https://bin.equinox.io/c/4VmDzA7iaHb/ngrok-stable-linux-amd64.tgz\n",
            "Resolving bin.equinox.io (bin.equinox.io)... 18.205.222.128, 54.237.133.81, 52.202.168.65, ...\n",
            "Connecting to bin.equinox.io (bin.equinox.io)|18.205.222.128|:443... connected.\n",
            "HTTP request sent, awaiting response... 200 OK\n",
            "Length: 13770165 (13M) [application/octet-stream]\n",
            "Saving to: ‘ngrok-stable-linux-amd64.tgz.8’\n",
            "\n",
            "ngrok-stable-linux- 100%[===================>]  13.13M  18.9MB/s    in 0.7s    \n",
            "\n",
            "2023-01-25 10:43:59 (18.9 MB/s) - ‘ngrok-stable-linux-amd64.tgz.8’ saved [13770165/13770165]\n",
            "\n",
            "ngrok\n",
            "Authtoken saved to configuration file: /root/.ngrok2/ngrok.yml\n"
          ]
        }
      ]
    },
    {
      "cell_type": "code",
      "metadata": {
        "id": "YKvAxhnG9f6m"
      },
      "source": [
        "# Пробный запуск Flask\n",
        "\n",
        "# app = Flask(__name__)\n",
        "# run_with_ngrok(app)  # Start ngrok when app is run\n",
        "\n",
        "# @app.route(\"/a\")\n",
        "# def hello():\n",
        "#     return \"Hello World!\"\n",
        "\n",
        "# if __name__ == '__main__':\n",
        "#     app.run()"
      ],
      "execution_count": 1120,
      "outputs": []
    },
    {
      "cell_type": "code",
      "metadata": {
        "id": "YVdnKbCeUfxX"
      },
      "source": [
        "import pandas as pd\n",
        "import dill"
      ],
      "execution_count": 1121,
      "outputs": []
    },
    {
      "cell_type": "markdown",
      "metadata": {
        "id": "6Je5vTHecqjm"
      },
      "source": [
        "### **Создаем сервис для обработки запросов к модели**"
      ]
    },
    {
      "cell_type": "code",
      "metadata": {
        "id": "KixQ-op0GIpV"
      },
      "source": [
        "# Загружаем обученные модели\n",
        "with open('extratrees_pipeline.dill', 'rb') as in_strm:\n",
        "     model = dill.load(in_strm)"
      ],
      "execution_count": 1122,
      "outputs": []
    },
    {
      "cell_type": "code",
      "metadata": {
        "id": "QAyoTMLNVJzn"
      },
      "source": [
        "X_test = pd.read_csv(\"X_test.csv\")\n",
        "y_test = pd.read_csv(\"y_test.csv\")"
      ],
      "execution_count": 1123,
      "outputs": []
    },
    {
      "cell_type": "code",
      "source": [
        "# categorical_columns = ['gender', 'MultipleLines', 'InternetService', 'OnlineSecurity',  'OnlineBackup', 'DeviceProtection', 'TechSupport', 'StreamingTV', \n",
        "#                        'StreamingMovies', 'Contract', 'PaymentMethod', 'PhoneService', 'PaperlessBilling']\n",
        "# continuous_columns = ['tenure', 'MonthlyCharges', ]\n",
        "# binary_columns = ['SeniorCitizen', 'Partner', 'Dependents']\n",
        "\n",
        "# features = categorical_columns + continuous_columns + binary_columns\n",
        "\n",
        "categorical_columns = ['gender', 'MultipleLines', 'InternetService', 'OnlineSecurity',  'OnlineBackup', 'DeviceProtection', 'TechSupport', 'StreamingTV', \n",
        "                       'StreamingMovies', 'Contract', 'PaymentMethod', 'PhoneService', 'PaperlessBilling', 'SeniorCitizen', 'Partner', 'Dependents']\n",
        "continuous_columns = ['tenure', 'MonthlyCharges', ]\n",
        "\n",
        "features = categorical_columns + continuous_columns\n",
        "features"
      ],
      "metadata": {
        "colab": {
          "base_uri": "https://localhost:8080/"
        },
        "id": "h94lJHI3TvUe",
        "outputId": "f374fe21-0359-4ad9-ec5a-79909944ef38"
      },
      "execution_count": 1124,
      "outputs": [
        {
          "output_type": "execute_result",
          "data": {
            "text/plain": [
              "['gender',\n",
              " 'MultipleLines',\n",
              " 'InternetService',\n",
              " 'OnlineSecurity',\n",
              " 'OnlineBackup',\n",
              " 'DeviceProtection',\n",
              " 'TechSupport',\n",
              " 'StreamingTV',\n",
              " 'StreamingMovies',\n",
              " 'Contract',\n",
              " 'PaymentMethod',\n",
              " 'PhoneService',\n",
              " 'PaperlessBilling',\n",
              " 'tenure',\n",
              " 'MonthlyCharges',\n",
              " 'SeniorCitizen',\n",
              " 'Partner',\n",
              " 'Dependents']"
            ]
          },
          "metadata": {},
          "execution_count": 1124
        }
      ]
    },
    {
      "cell_type": "code",
      "source": [
        "len(features)"
      ],
      "metadata": {
        "colab": {
          "base_uri": "https://localhost:8080/"
        },
        "id": "lzomy-PCoMlR",
        "outputId": "d1c5e3eb-106f-4341-a5d1-a9483e5eceb0"
      },
      "execution_count": 1125,
      "outputs": [
        {
          "output_type": "execute_result",
          "data": {
            "text/plain": [
              "18"
            ]
          },
          "metadata": {},
          "execution_count": 1125
        }
      ]
    },
    {
      "cell_type": "markdown",
      "metadata": {
        "id": "aomkZwKfdA08"
      },
      "source": [
        "Запустить сервис и не глушить его, пока работаем "
      ]
    },
    {
      "cell_type": "code",
      "metadata": {
        "colab": {
          "base_uri": "https://localhost:8080/"
        },
        "id": "pmii6qPeGInX",
        "outputId": "8ced5690-d456-4f85-ce20-37ab4a45abdc"
      },
      "source": [
        "# Обработчики и запуск Flask\n",
        "app = Flask(__name__)\n",
        "run_with_ngrok(app)  # Start ngrok when app is run\n",
        "\n",
        "\n",
        "@app.route(\"/\", methods=[\"GET\"])\n",
        "def general():\n",
        "    return \"Welcome to prediction process\"\n",
        "\n",
        "@app.route('/predict', methods=['POST'])\n",
        "def predict():\n",
        "    data = {\"success\": False}\n",
        "\n",
        "    # ensure an image was properly uploaded to our endpoint    \n",
        "    gender = np.nan\n",
        "    multiple_lines = np.nan\n",
        "    internet_service = np.nan\n",
        "    online_security = np.nan\n",
        "    online_backup = np.nan\n",
        "    device_protection = np.nan\n",
        "    tech_support = np.nan\n",
        "    streaming_tv = np.nan\n",
        "    streaming_movies = np.nan\n",
        "    contract = np.nan\n",
        "    payment_method =  np.nan\n",
        "    tenure =  np.nan\n",
        "    monthly_charges = np.nan\n",
        "    senior_citizen =  np.nan\n",
        "    partner = np.nan\n",
        "    dependents = np.nan\n",
        "    phone_service =  np.nan\n",
        "    paperless_billing =  np.nan\n",
        "\n",
        "    request_json = request.get_json()\n",
        "    \n",
        "    if request_json['gender']:\n",
        "      gender = request_json['gender']\n",
        "    \n",
        "    if request_json['MultipleLines']:\n",
        "      multiple_lines = request_json['MultipleLines']\n",
        "                \n",
        "    if request_json['InternetService']:\n",
        "      internet_service = request_json['InternetService']\n",
        "\n",
        "    if request_json['OnlineSecurity']:\n",
        "      online_security = request_json['OnlineSecurity']\n",
        "\n",
        "    if request_json['OnlineBackup']:\n",
        "      online_backup = request_json['OnlineBackup']\n",
        "\n",
        "    if request_json['DeviceProtection']:\n",
        "      device_protection = request_json['DeviceProtection']\n",
        "\n",
        "    if request_json['TechSupport']:\n",
        "      tech_support = request_json['TechSupport']\n",
        "\n",
        "    if request_json['StreamingTV']:\n",
        "      streaming_tv = request_json['StreamingTV']\n",
        "\n",
        "    if request_json['StreamingMovies']:\n",
        "      streaming_movies = request_json['StreamingMovies']\n",
        "\n",
        "    if request_json['Contract']:\n",
        "      contract = request_json['Contract']\n",
        "\n",
        "    if request_json['PaymentMethod']:\n",
        "      payment_method = request_json['PaymentMethod']\n",
        "\n",
        "    if request_json['tenure']:\n",
        "      tenure = request_json['tenure']\n",
        "\n",
        "    if request_json['MonthlyCharges']:\n",
        "      monthly_charges = request_json['MonthlyCharges']\n",
        "\n",
        "    if request_json['SeniorCitizen']:\n",
        "      senior_citizen = request_json['SeniorCitizen']\n",
        "\n",
        "    if request_json['Partner']:\n",
        "      partner = request_json['Partner']\n",
        "\n",
        "    if request_json['Dependents']:\n",
        "      dependents = request_json['Dependents']\n",
        "    \n",
        "    if request_json['PhoneService']:\n",
        "      phone_service = request_json['PhoneService']\n",
        "\n",
        "    if request_json['PaperlessBilling']:\n",
        "      paperless_billing = request_json['PaperlessBilling']\n",
        "\n",
        "    print(gender)  \n",
        "    preds = model.predict_proba(pd.DataFrame({'gender': [gender],\n",
        "                                              'MultipleLines': [multiple_lines],\n",
        "                                              'InternetService': [internet_service],\n",
        "                                              'OnlineSecurity': [online_security],\n",
        "                                              'OnlineBackup': [online_backup],\n",
        "                                              'DeviceProtection': [device_protection],\n",
        "                                              'TechSupport': [tech_support],\n",
        "                                              'StreamingTV': [streaming_tv],\n",
        "                                              'StreamingMovies': [streaming_movies],\n",
        "                                              'Contract': [contract],\n",
        "                                              'PaymentMethod': [payment_method],\n",
        "                                              'tenure': [tenure],\n",
        "                                              'MonthlyCharges': [monthly_charges],\n",
        "                                              'SeniorCitizen': [senior_citizen],\n",
        "                                              'Partner': [partner],\n",
        "                                              'Dependents': [dependents],\n",
        "                                              'PhoneService': [phone_service],\n",
        "                                              'PaperlessBilling': [paperless_billing],\n",
        "                                              }))\n",
        "    \n",
        "    \n",
        "    data[\"predictions\"] = preds[:, 1][0]\n",
        "    data['tenure'] = tenure\n",
        "        # indicate that the request was a success\n",
        "    data[\"success\"] = True\n",
        "    print('OK')\n",
        "\n",
        "        # return the data dictionary as a JSON response\n",
        "    return jsonify(data)\n",
        "\n",
        "\n",
        "if __name__ == '__main__':\n",
        "    app.run()"
      ],
      "execution_count": 1126,
      "outputs": [
        {
          "output_type": "stream",
          "name": "stdout",
          "text": [
            " * Serving Flask app \"__main__\" (lazy loading)\n",
            " * Environment: production\n",
            "\u001b[31m   WARNING: This is a development server. Do not use it in a production deployment.\u001b[0m\n",
            "\u001b[2m   Use a production WSGI server instead.\u001b[0m\n",
            " * Debug mode: off\n"
          ]
        },
        {
          "output_type": "stream",
          "name": "stderr",
          "text": [
            "INFO:werkzeug: * Running on http://127.0.0.1:5000/ (Press CTRL+C to quit)\n"
          ]
        },
        {
          "output_type": "stream",
          "name": "stdout",
          "text": [
            " * Running on http://24d8-35-233-210-113.ngrok.io\n",
            " * Traffic stats available on http://127.0.0.1:4040\n"
          ]
        },
        {
          "output_type": "stream",
          "name": "stderr",
          "text": [
            "INFO:werkzeug:127.0.0.1 - - [25/Jan/2023 10:48:21] \"\u001b[37mPOST /predict HTTP/1.1\u001b[0m\" 200 -\n"
          ]
        },
        {
          "output_type": "stream",
          "name": "stdout",
          "text": [
            "Male\n",
            "OK\n"
          ]
        },
        {
          "output_type": "stream",
          "name": "stderr",
          "text": [
            "INFO:werkzeug:127.0.0.1 - - [25/Jan/2023 10:48:22] \"\u001b[37mPOST /predict HTTP/1.1\u001b[0m\" 200 -\n"
          ]
        },
        {
          "output_type": "stream",
          "name": "stdout",
          "text": [
            "Male\n",
            "OK\n"
          ]
        },
        {
          "output_type": "stream",
          "name": "stderr",
          "text": [
            "INFO:werkzeug:127.0.0.1 - - [25/Jan/2023 10:48:22] \"\u001b[37mPOST /predict HTTP/1.1\u001b[0m\" 200 -\n"
          ]
        },
        {
          "output_type": "stream",
          "name": "stdout",
          "text": [
            "Male\n",
            "OK\n"
          ]
        },
        {
          "output_type": "stream",
          "name": "stderr",
          "text": [
            "INFO:werkzeug:127.0.0.1 - - [25/Jan/2023 10:48:23] \"\u001b[37mPOST /predict HTTP/1.1\u001b[0m\" 200 -\n"
          ]
        },
        {
          "output_type": "stream",
          "name": "stdout",
          "text": [
            "Male\n",
            "OK\n",
            "Female\n"
          ]
        },
        {
          "output_type": "stream",
          "name": "stderr",
          "text": [
            "INFO:werkzeug:127.0.0.1 - - [25/Jan/2023 10:48:23] \"\u001b[37mPOST /predict HTTP/1.1\u001b[0m\" 200 -\n",
            "INFO:werkzeug:127.0.0.1 - - [25/Jan/2023 10:48:23] \"\u001b[37mPOST /predict HTTP/1.1\u001b[0m\" 200 -\n"
          ]
        },
        {
          "output_type": "stream",
          "name": "stdout",
          "text": [
            "OK\n",
            "Female\n",
            "OK\n"
          ]
        },
        {
          "output_type": "stream",
          "name": "stderr",
          "text": [
            "INFO:werkzeug:127.0.0.1 - - [25/Jan/2023 10:48:23] \"\u001b[37mPOST /predict HTTP/1.1\u001b[0m\" 200 -\n"
          ]
        },
        {
          "output_type": "stream",
          "name": "stdout",
          "text": [
            "Female\n",
            "OK\n"
          ]
        },
        {
          "output_type": "stream",
          "name": "stderr",
          "text": [
            "INFO:werkzeug:127.0.0.1 - - [25/Jan/2023 10:48:23] \"\u001b[37mPOST /predict HTTP/1.1\u001b[0m\" 200 -\n"
          ]
        },
        {
          "output_type": "stream",
          "name": "stdout",
          "text": [
            "Male\n",
            "OK\n",
            "Male\n"
          ]
        },
        {
          "output_type": "stream",
          "name": "stderr",
          "text": [
            "INFO:werkzeug:127.0.0.1 - - [25/Jan/2023 10:48:24] \"\u001b[37mPOST /predict HTTP/1.1\u001b[0m\" 200 -\n",
            "INFO:werkzeug:127.0.0.1 - - [25/Jan/2023 10:48:24] \"\u001b[37mPOST /predict HTTP/1.1\u001b[0m\" 200 -\n"
          ]
        },
        {
          "output_type": "stream",
          "name": "stdout",
          "text": [
            "OK\n",
            "Female\n",
            "OK\n"
          ]
        },
        {
          "output_type": "stream",
          "name": "stderr",
          "text": [
            "INFO:werkzeug:127.0.0.1 - - [25/Jan/2023 10:48:24] \"\u001b[37mPOST /predict HTTP/1.1\u001b[0m\" 200 -\n"
          ]
        },
        {
          "output_type": "stream",
          "name": "stdout",
          "text": [
            "Female\n",
            "OK\n",
            "Female\n"
          ]
        },
        {
          "output_type": "stream",
          "name": "stderr",
          "text": [
            "INFO:werkzeug:127.0.0.1 - - [25/Jan/2023 10:48:24] \"\u001b[37mPOST /predict HTTP/1.1\u001b[0m\" 200 -\n",
            "INFO:werkzeug:127.0.0.1 - - [25/Jan/2023 10:48:24] \"\u001b[37mPOST /predict HTTP/1.1\u001b[0m\" 200 -\n"
          ]
        },
        {
          "output_type": "stream",
          "name": "stdout",
          "text": [
            "OK\n",
            "Female\n",
            "OK\n"
          ]
        },
        {
          "output_type": "stream",
          "name": "stderr",
          "text": [
            "INFO:werkzeug:127.0.0.1 - - [25/Jan/2023 10:48:25] \"\u001b[37mPOST /predict HTTP/1.1\u001b[0m\" 200 -\n"
          ]
        },
        {
          "output_type": "stream",
          "name": "stdout",
          "text": [
            "Male\n",
            "OK\n",
            "Female\n"
          ]
        },
        {
          "output_type": "stream",
          "name": "stderr",
          "text": [
            "INFO:werkzeug:127.0.0.1 - - [25/Jan/2023 10:48:25] \"\u001b[37mPOST /predict HTTP/1.1\u001b[0m\" 200 -\n"
          ]
        },
        {
          "output_type": "stream",
          "name": "stdout",
          "text": [
            "OK\n",
            "Male\n"
          ]
        },
        {
          "output_type": "stream",
          "name": "stderr",
          "text": [
            "INFO:werkzeug:127.0.0.1 - - [25/Jan/2023 10:48:25] \"\u001b[37mPOST /predict HTTP/1.1\u001b[0m\" 200 -\n"
          ]
        },
        {
          "output_type": "stream",
          "name": "stdout",
          "text": [
            "OK\n",
            "Female\n"
          ]
        },
        {
          "output_type": "stream",
          "name": "stderr",
          "text": [
            "INFO:werkzeug:127.0.0.1 - - [25/Jan/2023 10:48:25] \"\u001b[37mPOST /predict HTTP/1.1\u001b[0m\" 200 -\n"
          ]
        },
        {
          "output_type": "stream",
          "name": "stdout",
          "text": [
            "OK\n",
            "Female\n"
          ]
        },
        {
          "output_type": "stream",
          "name": "stderr",
          "text": [
            "INFO:werkzeug:127.0.0.1 - - [25/Jan/2023 10:48:26] \"\u001b[37mPOST /predict HTTP/1.1\u001b[0m\" 200 -\n"
          ]
        },
        {
          "output_type": "stream",
          "name": "stdout",
          "text": [
            "OK\n",
            "Female\n"
          ]
        },
        {
          "output_type": "stream",
          "name": "stderr",
          "text": [
            "INFO:werkzeug:127.0.0.1 - - [25/Jan/2023 10:48:26] \"\u001b[37mPOST /predict HTTP/1.1\u001b[0m\" 200 -\n",
            "INFO:werkzeug:127.0.0.1 - - [25/Jan/2023 10:48:26] \"\u001b[37mPOST /predict HTTP/1.1\u001b[0m\" 200 -\n"
          ]
        },
        {
          "output_type": "stream",
          "name": "stdout",
          "text": [
            "OK\n",
            "Female\n",
            "OK\n"
          ]
        },
        {
          "output_type": "stream",
          "name": "stderr",
          "text": [
            "INFO:werkzeug:127.0.0.1 - - [25/Jan/2023 10:48:26] \"\u001b[37mPOST /predict HTTP/1.1\u001b[0m\" 200 -\n"
          ]
        },
        {
          "output_type": "stream",
          "name": "stdout",
          "text": [
            "Female\n",
            "OK\n",
            "Female\n"
          ]
        },
        {
          "output_type": "stream",
          "name": "stderr",
          "text": [
            "INFO:werkzeug:127.0.0.1 - - [25/Jan/2023 10:48:26] \"\u001b[37mPOST /predict HTTP/1.1\u001b[0m\" 200 -\n",
            "INFO:werkzeug:127.0.0.1 - - [25/Jan/2023 10:48:27] \"\u001b[37mPOST /predict HTTP/1.1\u001b[0m\" 200 -\n"
          ]
        },
        {
          "output_type": "stream",
          "name": "stdout",
          "text": [
            "OK\n",
            "Female\n",
            "OK\n"
          ]
        },
        {
          "output_type": "stream",
          "name": "stderr",
          "text": [
            "INFO:werkzeug:127.0.0.1 - - [25/Jan/2023 10:48:27] \"\u001b[37mPOST /predict HTTP/1.1\u001b[0m\" 200 -\n"
          ]
        },
        {
          "output_type": "stream",
          "name": "stdout",
          "text": [
            "Female\n",
            "OK\n",
            "Female\n"
          ]
        },
        {
          "output_type": "stream",
          "name": "stderr",
          "text": [
            "INFO:werkzeug:127.0.0.1 - - [25/Jan/2023 10:48:27] \"\u001b[37mPOST /predict HTTP/1.1\u001b[0m\" 200 -\n"
          ]
        },
        {
          "output_type": "stream",
          "name": "stdout",
          "text": [
            "OK\n",
            "Male\n"
          ]
        },
        {
          "output_type": "stream",
          "name": "stderr",
          "text": [
            "INFO:werkzeug:127.0.0.1 - - [25/Jan/2023 10:48:27] \"\u001b[37mPOST /predict HTTP/1.1\u001b[0m\" 200 -\n"
          ]
        },
        {
          "output_type": "stream",
          "name": "stdout",
          "text": [
            "OK\n",
            "Female\n"
          ]
        },
        {
          "output_type": "stream",
          "name": "stderr",
          "text": [
            "INFO:werkzeug:127.0.0.1 - - [25/Jan/2023 10:48:28] \"\u001b[37mPOST /predict HTTP/1.1\u001b[0m\" 200 -\n"
          ]
        },
        {
          "output_type": "stream",
          "name": "stdout",
          "text": [
            "OK\n",
            "Female\n"
          ]
        },
        {
          "output_type": "stream",
          "name": "stderr",
          "text": [
            "INFO:werkzeug:127.0.0.1 - - [25/Jan/2023 10:48:28] \"\u001b[37mPOST /predict HTTP/1.1\u001b[0m\" 200 -\n"
          ]
        },
        {
          "output_type": "stream",
          "name": "stdout",
          "text": [
            "OK\n",
            "Male\n"
          ]
        },
        {
          "output_type": "stream",
          "name": "stderr",
          "text": [
            "INFO:werkzeug:127.0.0.1 - - [25/Jan/2023 10:48:28] \"\u001b[37mPOST /predict HTTP/1.1\u001b[0m\" 200 -\n",
            "INFO:werkzeug:127.0.0.1 - - [25/Jan/2023 10:48:28] \"\u001b[37mPOST /predict HTTP/1.1\u001b[0m\" 200 -\n"
          ]
        },
        {
          "output_type": "stream",
          "name": "stdout",
          "text": [
            "OK\n",
            "Male\n",
            "OK\n"
          ]
        },
        {
          "output_type": "stream",
          "name": "stderr",
          "text": [
            "INFO:werkzeug:127.0.0.1 - - [25/Jan/2023 10:48:29] \"\u001b[37mPOST /predict HTTP/1.1\u001b[0m\" 200 -\n"
          ]
        },
        {
          "output_type": "stream",
          "name": "stdout",
          "text": [
            "Male\n",
            "OK\n",
            "Female\n"
          ]
        },
        {
          "output_type": "stream",
          "name": "stderr",
          "text": [
            "INFO:werkzeug:127.0.0.1 - - [25/Jan/2023 10:48:29] \"\u001b[37mPOST /predict HTTP/1.1\u001b[0m\" 200 -\n"
          ]
        },
        {
          "output_type": "stream",
          "name": "stdout",
          "text": [
            "OK\n",
            "Female\n"
          ]
        },
        {
          "output_type": "stream",
          "name": "stderr",
          "text": [
            "INFO:werkzeug:127.0.0.1 - - [25/Jan/2023 10:48:29] \"\u001b[37mPOST /predict HTTP/1.1\u001b[0m\" 200 -\n",
            "INFO:werkzeug:127.0.0.1 - - [25/Jan/2023 10:48:29] \"\u001b[37mPOST /predict HTTP/1.1\u001b[0m\" 200 -\n"
          ]
        },
        {
          "output_type": "stream",
          "name": "stdout",
          "text": [
            "OK\n",
            "Female\n",
            "OK\n",
            "Male\n"
          ]
        },
        {
          "output_type": "stream",
          "name": "stderr",
          "text": [
            "INFO:werkzeug:127.0.0.1 - - [25/Jan/2023 10:48:30] \"\u001b[37mPOST /predict HTTP/1.1\u001b[0m\" 200 -\n"
          ]
        },
        {
          "output_type": "stream",
          "name": "stdout",
          "text": [
            "OK\n",
            "Male\n"
          ]
        },
        {
          "output_type": "stream",
          "name": "stderr",
          "text": [
            "INFO:werkzeug:127.0.0.1 - - [25/Jan/2023 10:48:30] \"\u001b[37mPOST /predict HTTP/1.1\u001b[0m\" 200 -\n"
          ]
        },
        {
          "output_type": "stream",
          "name": "stdout",
          "text": [
            "OK\n",
            "Male\n"
          ]
        },
        {
          "output_type": "stream",
          "name": "stderr",
          "text": [
            "INFO:werkzeug:127.0.0.1 - - [25/Jan/2023 10:48:30] \"\u001b[37mPOST /predict HTTP/1.1\u001b[0m\" 200 -\n",
            "INFO:werkzeug:127.0.0.1 - - [25/Jan/2023 10:48:31] \"\u001b[37mPOST /predict HTTP/1.1\u001b[0m\" 200 -\n"
          ]
        },
        {
          "output_type": "stream",
          "name": "stdout",
          "text": [
            "OK\n",
            "Female\n",
            "OK\n",
            "Male\n"
          ]
        },
        {
          "output_type": "stream",
          "name": "stderr",
          "text": [
            "INFO:werkzeug:127.0.0.1 - - [25/Jan/2023 10:48:31] \"\u001b[37mPOST /predict HTTP/1.1\u001b[0m\" 200 -\n"
          ]
        },
        {
          "output_type": "stream",
          "name": "stdout",
          "text": [
            "OK\n",
            "Female\n"
          ]
        },
        {
          "output_type": "stream",
          "name": "stderr",
          "text": [
            "INFO:werkzeug:127.0.0.1 - - [25/Jan/2023 10:48:31] \"\u001b[37mPOST /predict HTTP/1.1\u001b[0m\" 200 -\n",
            "INFO:werkzeug:127.0.0.1 - - [25/Jan/2023 10:48:32] \"\u001b[37mPOST /predict HTTP/1.1\u001b[0m\" 200 -\n"
          ]
        },
        {
          "output_type": "stream",
          "name": "stdout",
          "text": [
            "OK\n",
            "Male\n",
            "OK\n"
          ]
        },
        {
          "output_type": "stream",
          "name": "stderr",
          "text": [
            "INFO:werkzeug:127.0.0.1 - - [25/Jan/2023 10:48:32] \"\u001b[37mPOST /predict HTTP/1.1\u001b[0m\" 200 -\n"
          ]
        },
        {
          "output_type": "stream",
          "name": "stdout",
          "text": [
            "Male\n",
            "OK\n",
            "Male\n"
          ]
        },
        {
          "output_type": "stream",
          "name": "stderr",
          "text": [
            "INFO:werkzeug:127.0.0.1 - - [25/Jan/2023 10:48:32] \"\u001b[37mPOST /predict HTTP/1.1\u001b[0m\" 200 -\n"
          ]
        },
        {
          "output_type": "stream",
          "name": "stdout",
          "text": [
            "OK\n",
            "Male\n"
          ]
        },
        {
          "output_type": "stream",
          "name": "stderr",
          "text": [
            "INFO:werkzeug:127.0.0.1 - - [25/Jan/2023 10:48:33] \"\u001b[37mPOST /predict HTTP/1.1\u001b[0m\" 200 -\n",
            "INFO:werkzeug:127.0.0.1 - - [25/Jan/2023 10:48:33] \"\u001b[37mPOST /predict HTTP/1.1\u001b[0m\" 200 -\n"
          ]
        },
        {
          "output_type": "stream",
          "name": "stdout",
          "text": [
            "OK\n",
            "Male\n",
            "OK\n"
          ]
        },
        {
          "output_type": "stream",
          "name": "stderr",
          "text": [
            "INFO:werkzeug:127.0.0.1 - - [25/Jan/2023 10:48:33] \"\u001b[37mPOST /predict HTTP/1.1\u001b[0m\" 200 -\n"
          ]
        },
        {
          "output_type": "stream",
          "name": "stdout",
          "text": [
            "Female\n",
            "OK\n",
            "Female\n"
          ]
        },
        {
          "output_type": "stream",
          "name": "stderr",
          "text": [
            "INFO:werkzeug:127.0.0.1 - - [25/Jan/2023 10:48:33] \"\u001b[37mPOST /predict HTTP/1.1\u001b[0m\" 200 -\n",
            "INFO:werkzeug:127.0.0.1 - - [25/Jan/2023 10:48:33] \"\u001b[37mPOST /predict HTTP/1.1\u001b[0m\" 200 -\n"
          ]
        },
        {
          "output_type": "stream",
          "name": "stdout",
          "text": [
            "OK\n",
            "Male\n",
            "OK\n"
          ]
        },
        {
          "output_type": "stream",
          "name": "stderr",
          "text": [
            "INFO:werkzeug:127.0.0.1 - - [25/Jan/2023 10:48:34] \"\u001b[37mPOST /predict HTTP/1.1\u001b[0m\" 200 -\n"
          ]
        },
        {
          "output_type": "stream",
          "name": "stdout",
          "text": [
            "Female\n",
            "OK\n",
            "Male"
          ]
        },
        {
          "output_type": "stream",
          "name": "stderr",
          "text": [
            "INFO:werkzeug:127.0.0.1 - - [25/Jan/2023 10:48:34] \"\u001b[37mPOST /predict HTTP/1.1\u001b[0m\" 200 -\n"
          ]
        },
        {
          "output_type": "stream",
          "name": "stdout",
          "text": [
            "\n",
            "OK\n",
            "Male\n"
          ]
        },
        {
          "output_type": "stream",
          "name": "stderr",
          "text": [
            "INFO:werkzeug:127.0.0.1 - - [25/Jan/2023 10:48:34] \"\u001b[37mPOST /predict HTTP/1.1\u001b[0m\" 200 -\n"
          ]
        },
        {
          "output_type": "stream",
          "name": "stdout",
          "text": [
            "OK\n",
            "Female\n"
          ]
        },
        {
          "output_type": "stream",
          "name": "stderr",
          "text": [
            "INFO:werkzeug:127.0.0.1 - - [25/Jan/2023 10:48:34] \"\u001b[37mPOST /predict HTTP/1.1\u001b[0m\" 200 -\n"
          ]
        },
        {
          "output_type": "stream",
          "name": "stdout",
          "text": [
            "OK\n",
            "Male\n"
          ]
        },
        {
          "output_type": "stream",
          "name": "stderr",
          "text": [
            "INFO:werkzeug:127.0.0.1 - - [25/Jan/2023 10:48:34] \"\u001b[37mPOST /predict HTTP/1.1\u001b[0m\" 200 -\n"
          ]
        },
        {
          "output_type": "stream",
          "name": "stdout",
          "text": [
            "OK\n",
            "Male\n"
          ]
        },
        {
          "output_type": "stream",
          "name": "stderr",
          "text": [
            "INFO:werkzeug:127.0.0.1 - - [25/Jan/2023 10:48:35] \"\u001b[37mPOST /predict HTTP/1.1\u001b[0m\" 200 -\n",
            "INFO:werkzeug:127.0.0.1 - - [25/Jan/2023 10:48:35] \"\u001b[37mPOST /predict HTTP/1.1\u001b[0m\" 200 -\n"
          ]
        },
        {
          "output_type": "stream",
          "name": "stdout",
          "text": [
            "OK\n",
            "Female\n",
            "OK\n"
          ]
        },
        {
          "output_type": "stream",
          "name": "stderr",
          "text": [
            "INFO:werkzeug:127.0.0.1 - - [25/Jan/2023 10:48:35] \"\u001b[37mPOST /predict HTTP/1.1\u001b[0m\" 200 -\n"
          ]
        },
        {
          "output_type": "stream",
          "name": "stdout",
          "text": [
            "Female\n",
            "OK\n",
            "Female\n"
          ]
        },
        {
          "output_type": "stream",
          "name": "stderr",
          "text": [
            "INFO:werkzeug:127.0.0.1 - - [25/Jan/2023 10:48:35] \"\u001b[37mPOST /predict HTTP/1.1\u001b[0m\" 200 -\n",
            "INFO:werkzeug:127.0.0.1 - - [25/Jan/2023 10:48:35] \"\u001b[37mPOST /predict HTTP/1.1\u001b[0m\" 200 -\n"
          ]
        },
        {
          "output_type": "stream",
          "name": "stdout",
          "text": [
            "OK\n",
            "Male\n",
            "OK\n"
          ]
        },
        {
          "output_type": "stream",
          "name": "stderr",
          "text": [
            "INFO:werkzeug:127.0.0.1 - - [25/Jan/2023 10:48:36] \"\u001b[37mPOST /predict HTTP/1.1\u001b[0m\" 200 -\n"
          ]
        },
        {
          "output_type": "stream",
          "name": "stdout",
          "text": [
            "Male\n",
            "OK\n",
            "Female\n"
          ]
        },
        {
          "output_type": "stream",
          "name": "stderr",
          "text": [
            "INFO:werkzeug:127.0.0.1 - - [25/Jan/2023 10:48:36] \"\u001b[37mPOST /predict HTTP/1.1\u001b[0m\" 200 -\n",
            "INFO:werkzeug:127.0.0.1 - - [25/Jan/2023 10:48:36] \"\u001b[37mPOST /predict HTTP/1.1\u001b[0m\" 200 -\n"
          ]
        },
        {
          "output_type": "stream",
          "name": "stdout",
          "text": [
            "OK\n",
            "Female\n",
            "OK\n"
          ]
        },
        {
          "output_type": "stream",
          "name": "stderr",
          "text": [
            "INFO:werkzeug:127.0.0.1 - - [25/Jan/2023 10:48:36] \"\u001b[37mPOST /predict HTTP/1.1\u001b[0m\" 200 -\n"
          ]
        },
        {
          "output_type": "stream",
          "name": "stdout",
          "text": [
            "Female\n",
            "OK\n",
            "Female\n"
          ]
        },
        {
          "output_type": "stream",
          "name": "stderr",
          "text": [
            "INFO:werkzeug:127.0.0.1 - - [25/Jan/2023 10:48:36] \"\u001b[37mPOST /predict HTTP/1.1\u001b[0m\" 200 -\n"
          ]
        },
        {
          "output_type": "stream",
          "name": "stdout",
          "text": [
            "OK\n",
            "Male\n"
          ]
        },
        {
          "output_type": "stream",
          "name": "stderr",
          "text": [
            "INFO:werkzeug:127.0.0.1 - - [25/Jan/2023 10:48:37] \"\u001b[37mPOST /predict HTTP/1.1\u001b[0m\" 200 -\n"
          ]
        },
        {
          "output_type": "stream",
          "name": "stdout",
          "text": [
            "OK\n",
            "Female\n"
          ]
        },
        {
          "output_type": "stream",
          "name": "stderr",
          "text": [
            "INFO:werkzeug:127.0.0.1 - - [25/Jan/2023 10:48:37] \"\u001b[37mPOST /predict HTTP/1.1\u001b[0m\" 200 -\n"
          ]
        },
        {
          "output_type": "stream",
          "name": "stdout",
          "text": [
            "OK\n",
            "Male\n"
          ]
        },
        {
          "output_type": "stream",
          "name": "stderr",
          "text": [
            "INFO:werkzeug:127.0.0.1 - - [25/Jan/2023 10:48:38] \"\u001b[37mPOST /predict HTTP/1.1\u001b[0m\" 200 -\n"
          ]
        },
        {
          "output_type": "stream",
          "name": "stdout",
          "text": [
            "OK\n",
            "Female\n"
          ]
        },
        {
          "output_type": "stream",
          "name": "stderr",
          "text": [
            "INFO:werkzeug:127.0.0.1 - - [25/Jan/2023 10:48:38] \"\u001b[37mPOST /predict HTTP/1.1\u001b[0m\" 200 -\n"
          ]
        },
        {
          "output_type": "stream",
          "name": "stdout",
          "text": [
            "OK\n",
            "Female\n"
          ]
        },
        {
          "output_type": "stream",
          "name": "stderr",
          "text": [
            "INFO:werkzeug:127.0.0.1 - - [25/Jan/2023 10:48:38] \"\u001b[37mPOST /predict HTTP/1.1\u001b[0m\" 200 -\n"
          ]
        },
        {
          "output_type": "stream",
          "name": "stdout",
          "text": [
            "OK\n",
            "Female\n"
          ]
        },
        {
          "output_type": "stream",
          "name": "stderr",
          "text": [
            "INFO:werkzeug:127.0.0.1 - - [25/Jan/2023 10:48:39] \"\u001b[37mPOST /predict HTTP/1.1\u001b[0m\" 200 -\n"
          ]
        },
        {
          "output_type": "stream",
          "name": "stdout",
          "text": [
            "OK\n",
            "Female\n"
          ]
        },
        {
          "output_type": "stream",
          "name": "stderr",
          "text": [
            "INFO:werkzeug:127.0.0.1 - - [25/Jan/2023 10:48:39] \"\u001b[37mPOST /predict HTTP/1.1\u001b[0m\" 200 -\n"
          ]
        },
        {
          "output_type": "stream",
          "name": "stdout",
          "text": [
            "OK\n",
            "Female\n"
          ]
        },
        {
          "output_type": "stream",
          "name": "stderr",
          "text": [
            "INFO:werkzeug:127.0.0.1 - - [25/Jan/2023 10:48:39] \"\u001b[37mPOST /predict HTTP/1.1\u001b[0m\" 200 -\n"
          ]
        },
        {
          "output_type": "stream",
          "name": "stdout",
          "text": [
            "OK\n",
            "Female\n"
          ]
        },
        {
          "output_type": "stream",
          "name": "stderr",
          "text": [
            "INFO:werkzeug:127.0.0.1 - - [25/Jan/2023 10:48:40] \"\u001b[37mPOST /predict HTTP/1.1\u001b[0m\" 200 -\n"
          ]
        },
        {
          "output_type": "stream",
          "name": "stdout",
          "text": [
            "OK\n",
            "Female\n"
          ]
        },
        {
          "output_type": "stream",
          "name": "stderr",
          "text": [
            "INFO:werkzeug:127.0.0.1 - - [25/Jan/2023 10:48:40] \"\u001b[37mPOST /predict HTTP/1.1\u001b[0m\" 200 -\n"
          ]
        },
        {
          "output_type": "stream",
          "name": "stdout",
          "text": [
            "OK\n",
            "Female\n"
          ]
        },
        {
          "output_type": "stream",
          "name": "stderr",
          "text": [
            "INFO:werkzeug:127.0.0.1 - - [25/Jan/2023 10:48:40] \"\u001b[37mPOST /predict HTTP/1.1\u001b[0m\" 200 -\n",
            "INFO:werkzeug:127.0.0.1 - - [25/Jan/2023 10:48:40] \"\u001b[37mPOST /predict HTTP/1.1\u001b[0m\" 200 -\n"
          ]
        },
        {
          "output_type": "stream",
          "name": "stdout",
          "text": [
            "OK\n",
            "Female\n",
            "OK\n",
            "Male\n"
          ]
        },
        {
          "output_type": "stream",
          "name": "stderr",
          "text": [
            "INFO:werkzeug:127.0.0.1 - - [25/Jan/2023 10:48:40] \"\u001b[37mPOST /predict HTTP/1.1\u001b[0m\" 200 -\n",
            "INFO:werkzeug:127.0.0.1 - - [25/Jan/2023 10:48:41] \"\u001b[37mPOST /predict HTTP/1.1\u001b[0m\" 200 -\n"
          ]
        },
        {
          "output_type": "stream",
          "name": "stdout",
          "text": [
            "OK\n",
            "Female\n",
            "OK\n"
          ]
        },
        {
          "output_type": "stream",
          "name": "stderr",
          "text": [
            "INFO:werkzeug:127.0.0.1 - - [25/Jan/2023 10:48:41] \"\u001b[37mPOST /predict HTTP/1.1\u001b[0m\" 200 -\n"
          ]
        },
        {
          "output_type": "stream",
          "name": "stdout",
          "text": [
            "Female\n",
            "OK\n",
            "Male\n"
          ]
        },
        {
          "output_type": "stream",
          "name": "stderr",
          "text": [
            "INFO:werkzeug:127.0.0.1 - - [25/Jan/2023 10:48:41] \"\u001b[37mPOST /predict HTTP/1.1\u001b[0m\" 200 -\n",
            "INFO:werkzeug:127.0.0.1 - - [25/Jan/2023 10:48:41] \"\u001b[37mPOST /predict HTTP/1.1\u001b[0m\" 200 -\n"
          ]
        },
        {
          "output_type": "stream",
          "name": "stdout",
          "text": [
            "OK\n",
            "Male\n",
            "OK\n"
          ]
        },
        {
          "output_type": "stream",
          "name": "stderr",
          "text": [
            "INFO:werkzeug:127.0.0.1 - - [25/Jan/2023 10:48:41] \"\u001b[37mPOST /predict HTTP/1.1\u001b[0m\" 200 -\n"
          ]
        },
        {
          "output_type": "stream",
          "name": "stdout",
          "text": [
            "Male\n",
            "OK\n",
            "Female\n"
          ]
        },
        {
          "output_type": "stream",
          "name": "stderr",
          "text": [
            "INFO:werkzeug:127.0.0.1 - - [25/Jan/2023 10:48:42] \"\u001b[37mPOST /predict HTTP/1.1\u001b[0m\" 200 -\n",
            "INFO:werkzeug:127.0.0.1 - - [25/Jan/2023 10:48:42] \"\u001b[37mPOST /predict HTTP/1.1\u001b[0m\" 200 -\n"
          ]
        },
        {
          "output_type": "stream",
          "name": "stdout",
          "text": [
            "OK\n",
            "Female\n",
            "OK\n"
          ]
        },
        {
          "output_type": "stream",
          "name": "stderr",
          "text": [
            "INFO:werkzeug:127.0.0.1 - - [25/Jan/2023 10:48:42] \"\u001b[37mPOST /predict HTTP/1.1\u001b[0m\" 200 -\n"
          ]
        },
        {
          "output_type": "stream",
          "name": "stdout",
          "text": [
            "Female\n",
            "OK\n",
            "Male\n"
          ]
        },
        {
          "output_type": "stream",
          "name": "stderr",
          "text": [
            "INFO:werkzeug:127.0.0.1 - - [25/Jan/2023 10:48:42] \"\u001b[37mPOST /predict HTTP/1.1\u001b[0m\" 200 -\n",
            "INFO:werkzeug:127.0.0.1 - - [25/Jan/2023 10:48:42] \"\u001b[37mPOST /predict HTTP/1.1\u001b[0m\" 200 -\n"
          ]
        },
        {
          "output_type": "stream",
          "name": "stdout",
          "text": [
            "OK\n",
            "Male\n",
            "OK\n"
          ]
        },
        {
          "output_type": "stream",
          "name": "stderr",
          "text": [
            "INFO:werkzeug:127.0.0.1 - - [25/Jan/2023 10:48:42] \"\u001b[37mPOST /predict HTTP/1.1\u001b[0m\" 200 -\n"
          ]
        },
        {
          "output_type": "stream",
          "name": "stdout",
          "text": [
            "Male\n",
            "OK\n",
            "Female\n"
          ]
        },
        {
          "output_type": "stream",
          "name": "stderr",
          "text": [
            "INFO:werkzeug:127.0.0.1 - - [25/Jan/2023 10:48:43] \"\u001b[37mPOST /predict HTTP/1.1\u001b[0m\" 200 -\n",
            "INFO:werkzeug:127.0.0.1 - - [25/Jan/2023 10:48:43] \"\u001b[37mPOST /predict HTTP/1.1\u001b[0m\" 200 -\n"
          ]
        },
        {
          "output_type": "stream",
          "name": "stdout",
          "text": [
            "OK\n",
            "Male\n",
            "OK\n"
          ]
        },
        {
          "output_type": "stream",
          "name": "stderr",
          "text": [
            "INFO:werkzeug:127.0.0.1 - - [25/Jan/2023 10:48:43] \"\u001b[37mPOST /predict HTTP/1.1\u001b[0m\" 200 -\n"
          ]
        },
        {
          "output_type": "stream",
          "name": "stdout",
          "text": [
            "Female\n",
            "OK\n",
            "Male\n"
          ]
        },
        {
          "output_type": "stream",
          "name": "stderr",
          "text": [
            "INFO:werkzeug:127.0.0.1 - - [25/Jan/2023 10:48:43] \"\u001b[37mPOST /predict HTTP/1.1\u001b[0m\" 200 -\n",
            "INFO:werkzeug:127.0.0.1 - - [25/Jan/2023 10:48:44] \"\u001b[37mPOST /predict HTTP/1.1\u001b[0m\" 200 -\n"
          ]
        },
        {
          "output_type": "stream",
          "name": "stdout",
          "text": [
            "OK\n",
            "Male\n",
            "OK\n"
          ]
        },
        {
          "output_type": "stream",
          "name": "stderr",
          "text": [
            "INFO:werkzeug:127.0.0.1 - - [25/Jan/2023 10:48:44] \"\u001b[37mPOST /predict HTTP/1.1\u001b[0m\" 200 -\n"
          ]
        },
        {
          "output_type": "stream",
          "name": "stdout",
          "text": [
            "Male\n",
            "OK\n"
          ]
        },
        {
          "output_type": "stream",
          "name": "stderr",
          "text": [
            "INFO:werkzeug:127.0.0.1 - - [25/Jan/2023 10:48:44] \"\u001b[37mPOST /predict HTTP/1.1\u001b[0m\" 200 -\n"
          ]
        },
        {
          "output_type": "stream",
          "name": "stdout",
          "text": [
            "Male\n",
            "OK\n",
            "Male\n"
          ]
        },
        {
          "output_type": "stream",
          "name": "stderr",
          "text": [
            "INFO:werkzeug:127.0.0.1 - - [25/Jan/2023 10:48:44] \"\u001b[37mPOST /predict HTTP/1.1\u001b[0m\" 200 -\n",
            "INFO:werkzeug:127.0.0.1 - - [25/Jan/2023 10:48:44] \"\u001b[37mPOST /predict HTTP/1.1\u001b[0m\" 200 -\n"
          ]
        },
        {
          "output_type": "stream",
          "name": "stdout",
          "text": [
            "OK\n",
            "Female\n",
            "OK\n"
          ]
        },
        {
          "output_type": "stream",
          "name": "stderr",
          "text": [
            "INFO:werkzeug:127.0.0.1 - - [25/Jan/2023 10:48:45] \"\u001b[37mPOST /predict HTTP/1.1\u001b[0m\" 200 -\n"
          ]
        },
        {
          "output_type": "stream",
          "name": "stdout",
          "text": [
            "Female\n",
            "OK\n",
            "Male\n"
          ]
        },
        {
          "output_type": "stream",
          "name": "stderr",
          "text": [
            "INFO:werkzeug:127.0.0.1 - - [25/Jan/2023 10:48:45] \"\u001b[37mPOST /predict HTTP/1.1\u001b[0m\" 200 -\n",
            "INFO:werkzeug:127.0.0.1 - - [25/Jan/2023 10:48:45] \"\u001b[37mPOST /predict HTTP/1.1\u001b[0m\" 200 -\n"
          ]
        },
        {
          "output_type": "stream",
          "name": "stdout",
          "text": [
            "OK\n",
            "Female\n",
            "OK\n"
          ]
        },
        {
          "output_type": "stream",
          "name": "stderr",
          "text": [
            "INFO:werkzeug:127.0.0.1 - - [25/Jan/2023 10:48:45] \"\u001b[37mPOST /predict HTTP/1.1\u001b[0m\" 200 -\n"
          ]
        },
        {
          "output_type": "stream",
          "name": "stdout",
          "text": [
            "Male\n",
            "OK\n",
            "Male\n"
          ]
        },
        {
          "output_type": "stream",
          "name": "stderr",
          "text": [
            "INFO:werkzeug:127.0.0.1 - - [25/Jan/2023 10:48:45] \"\u001b[37mPOST /predict HTTP/1.1\u001b[0m\" 200 -\n",
            "INFO:werkzeug:127.0.0.1 - - [25/Jan/2023 10:48:46] \"\u001b[37mPOST /predict HTTP/1.1\u001b[0m\" 200 -\n"
          ]
        },
        {
          "output_type": "stream",
          "name": "stdout",
          "text": [
            "OK\n",
            "Female\n",
            "OK\n"
          ]
        },
        {
          "output_type": "stream",
          "name": "stderr",
          "text": [
            "INFO:werkzeug:127.0.0.1 - - [25/Jan/2023 10:48:46] \"\u001b[37mPOST /predict HTTP/1.1\u001b[0m\" 200 -\n"
          ]
        },
        {
          "output_type": "stream",
          "name": "stdout",
          "text": [
            "Male\n",
            "OK\n"
          ]
        }
      ]
    },
    {
      "cell_type": "markdown",
      "source": [
        "Тестовый клиент"
      ],
      "metadata": {
        "id": "EmNwlDjpUFHb"
      }
    },
    {
      "cell_type": "code",
      "source": [
        "test_df = X_test[features]\n",
        "test_df.head()"
      ],
      "metadata": {
        "colab": {
          "base_uri": "https://localhost:8080/",
          "height": 357
        },
        "id": "5n9f7TW3l5SQ",
        "outputId": "69ed9822-3ee9-4530-d055-55439deff604"
      },
      "execution_count": 1127,
      "outputs": [
        {
          "output_type": "execute_result",
          "data": {
            "text/plain": [
              "   gender MultipleLines InternetService       OnlineSecurity  \\\n",
              "0    Male           Yes             DSL                   No   \n",
              "1  Female            No              No  No internet service   \n",
              "2  Female            No     Fiber optic                   No   \n",
              "3  Female            No             DSL                   No   \n",
              "4    Male           Yes     Fiber optic                   No   \n",
              "\n",
              "          OnlineBackup     DeviceProtection          TechSupport  \\\n",
              "0                   No                   No                   No   \n",
              "1  No internet service  No internet service  No internet service   \n",
              "2                  Yes                   No                   No   \n",
              "3                   No                   No                   No   \n",
              "4                  Yes                   No                  Yes   \n",
              "\n",
              "           StreamingTV      StreamingMovies        Contract  \\\n",
              "0                  Yes                   No  Month-to-month   \n",
              "1  No internet service  No internet service  Month-to-month   \n",
              "2                   No                   No  Month-to-month   \n",
              "3                   No                   No  Month-to-month   \n",
              "4                   No                   No        One year   \n",
              "\n",
              "               PaymentMethod PhoneService PaperlessBilling  tenure  \\\n",
              "0           Electronic check          Yes              Yes       1   \n",
              "1    Credit card (automatic)          Yes              Yes      20   \n",
              "2    Credit card (automatic)          Yes              Yes       1   \n",
              "3               Mailed check          Yes               No       1   \n",
              "4  Bank transfer (automatic)          Yes              Yes      61   \n",
              "\n",
              "   MonthlyCharges  SeniorCitizen Partner Dependents  \n",
              "0           59.85              0      No         No  \n",
              "1           18.90              0      No         No  \n",
              "2           74.30              0      No         No  \n",
              "3           44.75              0      No         No  \n",
              "4           85.55              1     Yes         No  "
            ],
            "text/html": [
              "\n",
              "  <div id=\"df-d5d89a94-3390-42b4-a226-aa564ef91649\">\n",
              "    <div class=\"colab-df-container\">\n",
              "      <div>\n",
              "<style scoped>\n",
              "    .dataframe tbody tr th:only-of-type {\n",
              "        vertical-align: middle;\n",
              "    }\n",
              "\n",
              "    .dataframe tbody tr th {\n",
              "        vertical-align: top;\n",
              "    }\n",
              "\n",
              "    .dataframe thead th {\n",
              "        text-align: right;\n",
              "    }\n",
              "</style>\n",
              "<table border=\"1\" class=\"dataframe\">\n",
              "  <thead>\n",
              "    <tr style=\"text-align: right;\">\n",
              "      <th></th>\n",
              "      <th>gender</th>\n",
              "      <th>MultipleLines</th>\n",
              "      <th>InternetService</th>\n",
              "      <th>OnlineSecurity</th>\n",
              "      <th>OnlineBackup</th>\n",
              "      <th>DeviceProtection</th>\n",
              "      <th>TechSupport</th>\n",
              "      <th>StreamingTV</th>\n",
              "      <th>StreamingMovies</th>\n",
              "      <th>Contract</th>\n",
              "      <th>PaymentMethod</th>\n",
              "      <th>PhoneService</th>\n",
              "      <th>PaperlessBilling</th>\n",
              "      <th>tenure</th>\n",
              "      <th>MonthlyCharges</th>\n",
              "      <th>SeniorCitizen</th>\n",
              "      <th>Partner</th>\n",
              "      <th>Dependents</th>\n",
              "    </tr>\n",
              "  </thead>\n",
              "  <tbody>\n",
              "    <tr>\n",
              "      <th>0</th>\n",
              "      <td>Male</td>\n",
              "      <td>Yes</td>\n",
              "      <td>DSL</td>\n",
              "      <td>No</td>\n",
              "      <td>No</td>\n",
              "      <td>No</td>\n",
              "      <td>No</td>\n",
              "      <td>Yes</td>\n",
              "      <td>No</td>\n",
              "      <td>Month-to-month</td>\n",
              "      <td>Electronic check</td>\n",
              "      <td>Yes</td>\n",
              "      <td>Yes</td>\n",
              "      <td>1</td>\n",
              "      <td>59.85</td>\n",
              "      <td>0</td>\n",
              "      <td>No</td>\n",
              "      <td>No</td>\n",
              "    </tr>\n",
              "    <tr>\n",
              "      <th>1</th>\n",
              "      <td>Female</td>\n",
              "      <td>No</td>\n",
              "      <td>No</td>\n",
              "      <td>No internet service</td>\n",
              "      <td>No internet service</td>\n",
              "      <td>No internet service</td>\n",
              "      <td>No internet service</td>\n",
              "      <td>No internet service</td>\n",
              "      <td>No internet service</td>\n",
              "      <td>Month-to-month</td>\n",
              "      <td>Credit card (automatic)</td>\n",
              "      <td>Yes</td>\n",
              "      <td>Yes</td>\n",
              "      <td>20</td>\n",
              "      <td>18.90</td>\n",
              "      <td>0</td>\n",
              "      <td>No</td>\n",
              "      <td>No</td>\n",
              "    </tr>\n",
              "    <tr>\n",
              "      <th>2</th>\n",
              "      <td>Female</td>\n",
              "      <td>No</td>\n",
              "      <td>Fiber optic</td>\n",
              "      <td>No</td>\n",
              "      <td>Yes</td>\n",
              "      <td>No</td>\n",
              "      <td>No</td>\n",
              "      <td>No</td>\n",
              "      <td>No</td>\n",
              "      <td>Month-to-month</td>\n",
              "      <td>Credit card (automatic)</td>\n",
              "      <td>Yes</td>\n",
              "      <td>Yes</td>\n",
              "      <td>1</td>\n",
              "      <td>74.30</td>\n",
              "      <td>0</td>\n",
              "      <td>No</td>\n",
              "      <td>No</td>\n",
              "    </tr>\n",
              "    <tr>\n",
              "      <th>3</th>\n",
              "      <td>Female</td>\n",
              "      <td>No</td>\n",
              "      <td>DSL</td>\n",
              "      <td>No</td>\n",
              "      <td>No</td>\n",
              "      <td>No</td>\n",
              "      <td>No</td>\n",
              "      <td>No</td>\n",
              "      <td>No</td>\n",
              "      <td>Month-to-month</td>\n",
              "      <td>Mailed check</td>\n",
              "      <td>Yes</td>\n",
              "      <td>No</td>\n",
              "      <td>1</td>\n",
              "      <td>44.75</td>\n",
              "      <td>0</td>\n",
              "      <td>No</td>\n",
              "      <td>No</td>\n",
              "    </tr>\n",
              "    <tr>\n",
              "      <th>4</th>\n",
              "      <td>Male</td>\n",
              "      <td>Yes</td>\n",
              "      <td>Fiber optic</td>\n",
              "      <td>No</td>\n",
              "      <td>Yes</td>\n",
              "      <td>No</td>\n",
              "      <td>Yes</td>\n",
              "      <td>No</td>\n",
              "      <td>No</td>\n",
              "      <td>One year</td>\n",
              "      <td>Bank transfer (automatic)</td>\n",
              "      <td>Yes</td>\n",
              "      <td>Yes</td>\n",
              "      <td>61</td>\n",
              "      <td>85.55</td>\n",
              "      <td>1</td>\n",
              "      <td>Yes</td>\n",
              "      <td>No</td>\n",
              "    </tr>\n",
              "  </tbody>\n",
              "</table>\n",
              "</div>\n",
              "      <button class=\"colab-df-convert\" onclick=\"convertToInteractive('df-d5d89a94-3390-42b4-a226-aa564ef91649')\"\n",
              "              title=\"Convert this dataframe to an interactive table.\"\n",
              "              style=\"display:none;\">\n",
              "        \n",
              "  <svg xmlns=\"http://www.w3.org/2000/svg\" height=\"24px\"viewBox=\"0 0 24 24\"\n",
              "       width=\"24px\">\n",
              "    <path d=\"M0 0h24v24H0V0z\" fill=\"none\"/>\n",
              "    <path d=\"M18.56 5.44l.94 2.06.94-2.06 2.06-.94-2.06-.94-.94-2.06-.94 2.06-2.06.94zm-11 1L8.5 8.5l.94-2.06 2.06-.94-2.06-.94L8.5 2.5l-.94 2.06-2.06.94zm10 10l.94 2.06.94-2.06 2.06-.94-2.06-.94-.94-2.06-.94 2.06-2.06.94z\"/><path d=\"M17.41 7.96l-1.37-1.37c-.4-.4-.92-.59-1.43-.59-.52 0-1.04.2-1.43.59L10.3 9.45l-7.72 7.72c-.78.78-.78 2.05 0 2.83L4 21.41c.39.39.9.59 1.41.59.51 0 1.02-.2 1.41-.59l7.78-7.78 2.81-2.81c.8-.78.8-2.07 0-2.86zM5.41 20L4 18.59l7.72-7.72 1.47 1.35L5.41 20z\"/>\n",
              "  </svg>\n",
              "      </button>\n",
              "      \n",
              "  <style>\n",
              "    .colab-df-container {\n",
              "      display:flex;\n",
              "      flex-wrap:wrap;\n",
              "      gap: 12px;\n",
              "    }\n",
              "\n",
              "    .colab-df-convert {\n",
              "      background-color: #E8F0FE;\n",
              "      border: none;\n",
              "      border-radius: 50%;\n",
              "      cursor: pointer;\n",
              "      display: none;\n",
              "      fill: #1967D2;\n",
              "      height: 32px;\n",
              "      padding: 0 0 0 0;\n",
              "      width: 32px;\n",
              "    }\n",
              "\n",
              "    .colab-df-convert:hover {\n",
              "      background-color: #E2EBFA;\n",
              "      box-shadow: 0px 1px 2px rgba(60, 64, 67, 0.3), 0px 1px 3px 1px rgba(60, 64, 67, 0.15);\n",
              "      fill: #174EA6;\n",
              "    }\n",
              "\n",
              "    [theme=dark] .colab-df-convert {\n",
              "      background-color: #3B4455;\n",
              "      fill: #D2E3FC;\n",
              "    }\n",
              "\n",
              "    [theme=dark] .colab-df-convert:hover {\n",
              "      background-color: #434B5C;\n",
              "      box-shadow: 0px 1px 3px 1px rgba(0, 0, 0, 0.15);\n",
              "      filter: drop-shadow(0px 1px 2px rgba(0, 0, 0, 0.3));\n",
              "      fill: #FFFFFF;\n",
              "    }\n",
              "  </style>\n",
              "\n",
              "      <script>\n",
              "        const buttonEl =\n",
              "          document.querySelector('#df-d5d89a94-3390-42b4-a226-aa564ef91649 button.colab-df-convert');\n",
              "        buttonEl.style.display =\n",
              "          google.colab.kernel.accessAllowed ? 'block' : 'none';\n",
              "\n",
              "        async function convertToInteractive(key) {\n",
              "          const element = document.querySelector('#df-d5d89a94-3390-42b4-a226-aa564ef91649');\n",
              "          const dataTable =\n",
              "            await google.colab.kernel.invokeFunction('convertToInteractive',\n",
              "                                                     [key], {});\n",
              "          if (!dataTable) return;\n",
              "\n",
              "          const docLinkHtml = 'Like what you see? Visit the ' +\n",
              "            '<a target=\"_blank\" href=https://colab.research.google.com/notebooks/data_table.ipynb>data table notebook</a>'\n",
              "            + ' to learn more about interactive tables.';\n",
              "          element.innerHTML = '';\n",
              "          dataTable['output_type'] = 'display_data';\n",
              "          await google.colab.output.renderOutput(dataTable, element);\n",
              "          const docLink = document.createElement('div');\n",
              "          docLink.innerHTML = docLinkHtml;\n",
              "          element.appendChild(docLink);\n",
              "        }\n",
              "      </script>\n",
              "    </div>\n",
              "  </div>\n",
              "  "
            ]
          },
          "metadata": {},
          "execution_count": 1127
        }
      ]
    },
    {
      "cell_type": "code",
      "source": [
        "test_dicts = test_df.to_dict('records')\n",
        "test_dicts[:5]"
      ],
      "metadata": {
        "colab": {
          "base_uri": "https://localhost:8080/"
        },
        "id": "JbM6Sd6BmJUp",
        "outputId": "bc2e1ae6-5d61-4e0a-df7c-56c7e9e510b1"
      },
      "execution_count": 1128,
      "outputs": [
        {
          "output_type": "execute_result",
          "data": {
            "text/plain": [
              "[{'gender': 'Male',\n",
              "  'MultipleLines': 'Yes',\n",
              "  'InternetService': 'DSL',\n",
              "  'OnlineSecurity': 'No',\n",
              "  'OnlineBackup': 'No',\n",
              "  'DeviceProtection': 'No',\n",
              "  'TechSupport': 'No',\n",
              "  'StreamingTV': 'Yes',\n",
              "  'StreamingMovies': 'No',\n",
              "  'Contract': 'Month-to-month',\n",
              "  'PaymentMethod': 'Electronic check',\n",
              "  'PhoneService': 'Yes',\n",
              "  'PaperlessBilling': 'Yes',\n",
              "  'tenure': 1,\n",
              "  'MonthlyCharges': 59.85,\n",
              "  'SeniorCitizen': 0,\n",
              "  'Partner': 'No',\n",
              "  'Dependents': 'No'},\n",
              " {'gender': 'Female',\n",
              "  'MultipleLines': 'No',\n",
              "  'InternetService': 'No',\n",
              "  'OnlineSecurity': 'No internet service',\n",
              "  'OnlineBackup': 'No internet service',\n",
              "  'DeviceProtection': 'No internet service',\n",
              "  'TechSupport': 'No internet service',\n",
              "  'StreamingTV': 'No internet service',\n",
              "  'StreamingMovies': 'No internet service',\n",
              "  'Contract': 'Month-to-month',\n",
              "  'PaymentMethod': 'Credit card (automatic)',\n",
              "  'PhoneService': 'Yes',\n",
              "  'PaperlessBilling': 'Yes',\n",
              "  'tenure': 20,\n",
              "  'MonthlyCharges': 18.9,\n",
              "  'SeniorCitizen': 0,\n",
              "  'Partner': 'No',\n",
              "  'Dependents': 'No'},\n",
              " {'gender': 'Female',\n",
              "  'MultipleLines': 'No',\n",
              "  'InternetService': 'Fiber optic',\n",
              "  'OnlineSecurity': 'No',\n",
              "  'OnlineBackup': 'Yes',\n",
              "  'DeviceProtection': 'No',\n",
              "  'TechSupport': 'No',\n",
              "  'StreamingTV': 'No',\n",
              "  'StreamingMovies': 'No',\n",
              "  'Contract': 'Month-to-month',\n",
              "  'PaymentMethod': 'Credit card (automatic)',\n",
              "  'PhoneService': 'Yes',\n",
              "  'PaperlessBilling': 'Yes',\n",
              "  'tenure': 1,\n",
              "  'MonthlyCharges': 74.3,\n",
              "  'SeniorCitizen': 0,\n",
              "  'Partner': 'No',\n",
              "  'Dependents': 'No'},\n",
              " {'gender': 'Female',\n",
              "  'MultipleLines': 'No',\n",
              "  'InternetService': 'DSL',\n",
              "  'OnlineSecurity': 'No',\n",
              "  'OnlineBackup': 'No',\n",
              "  'DeviceProtection': 'No',\n",
              "  'TechSupport': 'No',\n",
              "  'StreamingTV': 'No',\n",
              "  'StreamingMovies': 'No',\n",
              "  'Contract': 'Month-to-month',\n",
              "  'PaymentMethod': 'Mailed check',\n",
              "  'PhoneService': 'Yes',\n",
              "  'PaperlessBilling': 'No',\n",
              "  'tenure': 1,\n",
              "  'MonthlyCharges': 44.75,\n",
              "  'SeniorCitizen': 0,\n",
              "  'Partner': 'No',\n",
              "  'Dependents': 'No'},\n",
              " {'gender': 'Male',\n",
              "  'MultipleLines': 'Yes',\n",
              "  'InternetService': 'Fiber optic',\n",
              "  'OnlineSecurity': 'No',\n",
              "  'OnlineBackup': 'Yes',\n",
              "  'DeviceProtection': 'No',\n",
              "  'TechSupport': 'Yes',\n",
              "  'StreamingTV': 'No',\n",
              "  'StreamingMovies': 'No',\n",
              "  'Contract': 'One year',\n",
              "  'PaymentMethod': 'Bank transfer (automatic)',\n",
              "  'PhoneService': 'Yes',\n",
              "  'PaperlessBilling': 'Yes',\n",
              "  'tenure': 61,\n",
              "  'MonthlyCharges': 85.55,\n",
              "  'SeniorCitizen': 1,\n",
              "  'Partner': 'Yes',\n",
              "  'Dependents': 'No'}]"
            ]
          },
          "metadata": {},
          "execution_count": 1128
        }
      ]
    },
    {
      "cell_type": "code",
      "source": [
        "test_client = test_dicts[0]\n",
        "test_client"
      ],
      "metadata": {
        "colab": {
          "base_uri": "https://localhost:8080/"
        },
        "id": "MmrRrkj5o8Z1",
        "outputId": "b04e11dd-e3d6-492a-e865-987f6c81a481"
      },
      "execution_count": 1129,
      "outputs": [
        {
          "output_type": "execute_result",
          "data": {
            "text/plain": [
              "{'gender': 'Male',\n",
              " 'MultipleLines': 'Yes',\n",
              " 'InternetService': 'DSL',\n",
              " 'OnlineSecurity': 'No',\n",
              " 'OnlineBackup': 'No',\n",
              " 'DeviceProtection': 'No',\n",
              " 'TechSupport': 'No',\n",
              " 'StreamingTV': 'Yes',\n",
              " 'StreamingMovies': 'No',\n",
              " 'Contract': 'Month-to-month',\n",
              " 'PaymentMethod': 'Electronic check',\n",
              " 'PhoneService': 'Yes',\n",
              " 'PaperlessBilling': 'Yes',\n",
              " 'tenure': 1,\n",
              " 'MonthlyCharges': 59.85,\n",
              " 'SeniorCitizen': 0,\n",
              " 'Partner': 'No',\n",
              " 'Dependents': 'No'}"
            ]
          },
          "metadata": {},
          "execution_count": 1129
        }
      ]
    },
    {
      "cell_type": "code",
      "source": [
        "# Пример данных\n",
        "#body = test_client\n",
        "\n",
        "body = {'gender': 'Male',\n",
        " 'MultipleLines': 'No',\n",
        " 'InternetService': 'DSL',\n",
        " 'OnlineSecurity': 'No',\n",
        " 'OnlineBackup': 'No',\n",
        " 'DeviceProtection': 'No',\n",
        " 'TechSupport': 'No',\n",
        " 'StreamingTV': 'Yes',\n",
        " 'StreamingMovies': 'No',\n",
        " 'Contract': 'Month-to-month',\n",
        " 'PaymentMethod': 'Electronic check',\n",
        " 'tenure': 1,\n",
        " 'MonthlyCharges': 59.85,\n",
        " 'SeniorCitizen': 0,\n",
        " 'Partner': 'No',\n",
        " 'Dependents': 'No',\n",
        " 'PhoneService': 'Yes',\n",
        " 'PaperlessBilling': 'Yes'}"
      ],
      "metadata": {
        "id": "DiXuQOF6TLh0"
      },
      "execution_count": 1130,
      "outputs": []
    },
    {
      "cell_type": "code",
      "source": [
        "with app.test_client() as t:\n",
        "    response = t.post('/predict', json=body)\n",
        "    json_data = response.get_json()\n",
        "\n",
        "json_data"
      ],
      "metadata": {
        "colab": {
          "base_uri": "https://localhost:8080/"
        },
        "id": "oZMa4-lwS8f7",
        "outputId": "a1ee4920-8181-442d-f994-b8ef83107ed4"
      },
      "execution_count": 1131,
      "outputs": [
        {
          "output_type": "stream",
          "name": "stdout",
          "text": [
            "Male\n",
            "OK\n"
          ]
        },
        {
          "output_type": "execute_result",
          "data": {
            "text/plain": [
              "{'predictions': 0.26, 'success': True, 'tenure': 1}"
            ]
          },
          "metadata": {},
          "execution_count": 1131
        }
      ]
    },
    {
      "cell_type": "code",
      "source": [
        "gender = np.nan\n",
        "multiple_lines = np.nan\n",
        "internet_service = np.nan\n",
        "online_security = np.nan\n",
        "online_backup = np.nan\n",
        "device_protection = np.nan\n",
        "tech_support = np.nan\n",
        "streaming_tv = np.nan\n",
        "streaming_movies = np.nan\n",
        "contract = np.nan\n",
        "payment_method =  np.nan\n",
        "tenure =  np.nan\n",
        "monthly_charges = np.nan\n",
        "senior_citizen =  np.nan\n",
        "partner = np.nan\n",
        "dependents = np.nan\n",
        "phone_service =  np.nan\n",
        "paperless_billing =  np.nan\n",
        "\n",
        "\n",
        "A = {'gender': gender,\n",
        "              'MultipleLines': multiple_lines,\n",
        "              'InternetService': internet_service,\n",
        "              'OnlineSecurity': online_security,\n",
        "              'OnlineBackup': online_backup,\n",
        "              'DeviceProtection': device_protection,\n",
        "              'TechSupport': tech_support,\n",
        "              'StreamingTV': streaming_tv,\n",
        "              'StreamingMovies': streaming_movies,\n",
        "              'Contract': contract,\n",
        "              'PaymentMethod': payment_method,\n",
        "              'tenure': tenure,\n",
        "              'MonthlyCharges': monthly_charges,\n",
        "              'SeniorCitizen': senior_citizen,\n",
        "              'Partner': partner,\n",
        "              'Dependents': dependents,\n",
        "              'PhoneService': phone_service,\n",
        "              'PaperlessBilling': paperless_billing,\n",
        "              }\n"
      ],
      "metadata": {
        "id": "SIspYt8tMdSh"
      },
      "execution_count": 1132,
      "outputs": []
    },
    {
      "cell_type": "code",
      "source": [
        "# Пример с пропусками данных\n",
        "\n",
        "with app.test_client() as t:\n",
        "    response = t.post('/predict', json=A)\n",
        "    json_data = response.get_json()\n",
        "\n",
        "json_data"
      ],
      "metadata": {
        "colab": {
          "base_uri": "https://localhost:8080/"
        },
        "id": "afM8VlHMCYAS",
        "outputId": "922c8056-ec4f-4e98-e9f1-48c05bb37ffe"
      },
      "execution_count": 1133,
      "outputs": [
        {
          "output_type": "stream",
          "name": "stdout",
          "text": [
            "nan\n",
            "OK\n"
          ]
        },
        {
          "output_type": "execute_result",
          "data": {
            "text/plain": [
              "{'predictions': 0.385, 'success': True, 'tenure': nan}"
            ]
          },
          "metadata": {},
          "execution_count": 1133
        }
      ]
    },
    {
      "cell_type": "code",
      "source": [
        " E = {'gender': 'Male',\n",
        "  'MultipleLines': 'Yes',\n",
        "  'InternetService': 'Fiber optic',\n",
        "  'OnlineSecurity': 'No',\n",
        "  'OnlineBackup': 'Yes',\n",
        "  'DeviceProtection': 'No',\n",
        "  'TechSupport': 'Yes',\n",
        "  'StreamingTV': 'No',\n",
        "  'StreamingMovies': 'No',\n",
        "  'Contract': 'One year',\n",
        "  'PaymentMethod': 'Bank transfer (automatic)',\n",
        "  'PhoneService': 'Yes',\n",
        "  'PaperlessBilling': 'Yes',\n",
        "  'tenure': 61,\n",
        "  'MonthlyCharges': 85.55,\n",
        "  'SeniorCitizen': 1,\n",
        "  'Partner': 'Yes',\n",
        "  'Dependents': 'No'}"
      ],
      "metadata": {
        "id": "pNwTXAUGd8sz"
      },
      "execution_count": 1134,
      "outputs": []
    },
    {
      "cell_type": "code",
      "source": [
        "with app.test_client() as t:\n",
        "    response = t.post('/predict', json=E)\n",
        "    json_data = response.get_json()\n",
        "\n",
        "json_data"
      ],
      "metadata": {
        "colab": {
          "base_uri": "https://localhost:8080/"
        },
        "id": "018ELuFyeAep",
        "outputId": "026f79a6-0bcf-44c3-c459-e87d5a340679"
      },
      "execution_count": 1135,
      "outputs": [
        {
          "output_type": "stream",
          "name": "stdout",
          "text": [
            "Male\n",
            "OK\n"
          ]
        },
        {
          "output_type": "execute_result",
          "data": {
            "text/plain": [
              "{'predictions': 0.02, 'success': True, 'tenure': 61}"
            ]
          },
          "metadata": {},
          "execution_count": 1135
        }
      ]
    },
    {
      "cell_type": "code",
      "source": [
        "C =  {'gender': 'Female',\n",
        "  'MultipleLines': 'No',\n",
        "  'InternetService': 'DSL',\n",
        "  'OnlineSecurity': 'No',\n",
        "  'OnlineBackup': 'No',\n",
        "  'DeviceProtection': 'No',\n",
        "  'TechSupport': 'No',\n",
        "  'StreamingTV': 'No',\n",
        "  'StreamingMovies': 'No',\n",
        "  'Contract': 'Month-to-month',\n",
        "  'PaymentMethod': 'Mailed check',\n",
        "  'PhoneService': 'Yes',\n",
        "  'PaperlessBilling': 'No',\n",
        "  'tenure': 1,\n",
        "  'MonthlyCharges': 44.75,\n",
        "  'SeniorCitizen': 0,\n",
        "  'Partner': 'No',\n",
        "  'Dependents': 'No'}"
      ],
      "metadata": {
        "id": "5CF1TFGaeWgB"
      },
      "execution_count": 1136,
      "outputs": []
    },
    {
      "cell_type": "code",
      "source": [
        "with app.test_client() as t:\n",
        "    response = t.post('/predict', json=C)\n",
        "    json_data = response.get_json()\n",
        "\n",
        "json_data"
      ],
      "metadata": {
        "colab": {
          "base_uri": "https://localhost:8080/"
        },
        "id": "JI3R4XvyeaoR",
        "outputId": "6a2aa4fd-fb84-45c0-b683-87b9107eae95"
      },
      "execution_count": 1137,
      "outputs": [
        {
          "output_type": "stream",
          "name": "stdout",
          "text": [
            "Female\n",
            "OK\n"
          ]
        },
        {
          "output_type": "execute_result",
          "data": {
            "text/plain": [
              "{'predictions': 0.76, 'success': True, 'tenure': 1}"
            ]
          },
          "metadata": {},
          "execution_count": 1137
        }
      ]
    }
  ]
}